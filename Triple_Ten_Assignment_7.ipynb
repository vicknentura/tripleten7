{
  "cells": [
    {
      "cell_type": "markdown",
      "metadata": {
        "id": "view-in-github",
        "colab_type": "text"
      },
      "source": [
        "<a href=\"https://colab.research.google.com/github/vicknentura/tripleten7/blob/main/Triple_Ten_Assignment_7.ipynb\" target=\"_parent\"><img src=\"https://colab.research.google.com/assets/colab-badge.svg\" alt=\"Open In Colab\"/></a>"
      ]
    },
    {
      "cell_type": "markdown",
      "metadata": {
        "id": "TNx5-RDDTwc2"
      },
      "source": [
        "# **Step 1: Initialization of Coding Environment**\n",
        "Cloning GitHub repository into CoLab to initialize the virtual coding environment"
      ]
    },
    {
      "cell_type": "code",
      "execution_count": null,
      "metadata": {
        "colab": {
          "base_uri": "https://localhost:8080/"
        },
        "id": "pNKb3wNyTsfl",
        "outputId": "767bd93a-3dc7-48ac-ebc1-920e265f7f53"
      },
      "outputs": [
        {
          "output_type": "stream",
          "name": "stdout",
          "text": [
            "Cloning into 'tripleten7'...\n",
            "remote: Enumerating objects: 17, done.\u001b[K\n",
            "remote: Counting objects: 100% (17/17), done.\u001b[K\n",
            "remote: Compressing objects: 100% (14/14), done.\u001b[K\n",
            "remote: Total 17 (delta 4), reused 0 (delta 0), pack-reused 0\u001b[K\n",
            "Receiving objects: 100% (17/17), 48.53 KiB | 1.80 MiB/s, done.\n",
            "Resolving deltas: 100% (4/4), done.\n"
          ]
        }
      ],
      "source": [
        "!git clone https://github.com/vicknentura/tripleten7"
      ]
    },
    {
      "cell_type": "code",
      "execution_count": null,
      "metadata": {
        "colab": {
          "base_uri": "https://localhost:8080/"
        },
        "id": "6XegEKpNUAJc",
        "outputId": "9f550422-428a-48b7-ba80-93e391512edb"
      },
      "outputs": [
        {
          "output_type": "stream",
          "name": "stdout",
          "text": [
            "/content/tripleten7\n"
          ]
        }
      ],
      "source": [
        "%cd /content/tripleten7"
      ]
    },
    {
      "cell_type": "markdown",
      "metadata": {
        "id": "-tE8jQp2Y0AZ"
      },
      "source": [
        "# **Step 2: Initialization of Workbook**\n"
      ]
    },
    {
      "cell_type": "code",
      "execution_count": null,
      "metadata": {
        "id": "wlM2nP_OUlHC"
      },
      "outputs": [],
      "source": [
        "import pandas as pd\n",
        "import numpy as np\n",
        "import seaborn as sns\n",
        "import matplotlib.pyplot as plt\n",
        "import itertools\n",
        "import scipy.stats as stats\n",
        "import sklearn"
      ]
    },
    {
      "cell_type": "code",
      "execution_count": null,
      "metadata": {
        "id": "K1skW5RKUKDX"
      },
      "outputs": [],
      "source": [
        "try:\n",
        "    users_behavior = pd.read_csv(\"/content/tripleten7/users_behavior.csv\")\n",
        "except FileNotFoundError:\n",
        "    print(\"One or more CSV files not found. Please check file paths.\")"
      ]
    },
    {
      "cell_type": "code",
      "execution_count": null,
      "metadata": {
        "colab": {
          "base_uri": "https://localhost:8080/"
        },
        "id": "ZhxqjfmAVo39",
        "outputId": "e9193e0f-d343-4eba-de6b-a754fcec8f85"
      },
      "outputs": [
        {
          "output_type": "stream",
          "name": "stdout",
          "text": [
            "<class 'pandas.core.frame.DataFrame'>\n",
            "RangeIndex: 3214 entries, 0 to 3213\n",
            "Data columns (total 5 columns):\n",
            " #   Column    Non-Null Count  Dtype  \n",
            "---  ------    --------------  -----  \n",
            " 0   calls     3214 non-null   float64\n",
            " 1   minutes   3214 non-null   float64\n",
            " 2   messages  3214 non-null   float64\n",
            " 3   mb_used   3214 non-null   float64\n",
            " 4   is_ultra  3214 non-null   int64  \n",
            "dtypes: float64(4), int64(1)\n",
            "memory usage: 125.7 KB\n"
          ]
        }
      ],
      "source": [
        "users_behavior.info()"
      ]
    },
    {
      "cell_type": "code",
      "execution_count": null,
      "metadata": {
        "colab": {
          "base_uri": "https://localhost:8080/"
        },
        "id": "gWaAbS17WKIe",
        "outputId": "0df96d3f-42d2-4651-9276-44bd01d42377"
      },
      "outputs": [
        {
          "output_type": "stream",
          "name": "stdout",
          "text": [
            "Checking 3214 rows and 5 columns in DataFrame...\n",
            "<class 'pandas.core.frame.DataFrame'>\n",
            "RangeIndex: 3214 entries, 0 to 3213\n",
            "Data columns (total 5 columns):\n",
            " #   Column    Non-Null Count  Dtype  \n",
            "---  ------    --------------  -----  \n",
            " 0   calls     3214 non-null   float64\n",
            " 1   minutes   3214 non-null   float64\n",
            " 2   messages  3214 non-null   float64\n",
            " 3   mb_used   3214 non-null   float64\n",
            " 4   is_ultra  3214 non-null   int64  \n",
            "dtypes: float64(4), int64(1)\n",
            "memory usage: 125.7 KB\n",
            "\n",
            "Duplicates found: 0\n",
            "\n",
            "Zeros found: 2817\n",
            "\n",
            "Null/NaN values found: 0\n",
            "\n"
          ]
        }
      ],
      "source": [
        "# Quality assurance (QA) check to identify any irregularities in the datasets\n",
        "\n",
        "def qa_check(df):\n",
        "    print(f\"Checking {df.shape[0]} rows and {df.shape[1]} columns in DataFrame...\")\n",
        "\n",
        "    #Check data structure\n",
        "    users_behavior.info()\n",
        "\n",
        "    # Check for duplicates\n",
        "    dup_count = df.duplicated().sum()\n",
        "    print()\n",
        "    print(f\"Duplicates found: {dup_count}\")\n",
        "    print()\n",
        "\n",
        "    # Count zeros\n",
        "    zero_count = (df == 0).sum().sum()\n",
        "    print(f\"Zeros found: {zero_count}\")\n",
        "    print()\n",
        "\n",
        "    # Count null/nan an inf/-inf\n",
        "    df_inf = df.replace([np.inf, -np.inf], np.nan)\n",
        "    nan_count = df_inf.isnull().sum().sum()\n",
        "    print(f\"Null/NaN values found: {nan_count}\")\n",
        "    print()\n",
        "\n",
        "qa_check(users_behavior)"
      ]
    },
    {
      "cell_type": "markdown",
      "source": [
        "**Comment:** The QA check implemented here is to check through the columns of the data frame and count the rows that are duplicated, contain zeros, and null/NaN or inf/-inf values to then investigate further. No further investigation was needed as the count of zeros was attributed to the ['is_ultra'] column."
      ],
      "metadata": {
        "id": "3Cl9DwuRq3VW"
      }
    },
    {
      "cell_type": "markdown",
      "metadata": {
        "id": "jf9ZpMbogczF"
      },
      "source": [
        "# **Step 3: Data Analysis of User Behavior**"
      ]
    },
    {
      "cell_type": "code",
      "execution_count": null,
      "metadata": {
        "colab": {
          "base_uri": "https://localhost:8080/",
          "height": 318
        },
        "id": "NWM0E6K_dmMA",
        "outputId": "e5c86cf0-a5eb-4155-c53b-1c61a0a313a6"
      },
      "outputs": [
        {
          "output_type": "stream",
          "name": "stdout",
          "text": [
            "Descriptive statistics for the Megaline dataset are as follows:\n"
          ]
        },
        {
          "output_type": "execute_result",
          "data": {
            "text/plain": [
              "             calls      minutes     messages       mb_used     is_ultra\n",
              "count  3214.000000  3214.000000  3214.000000   3214.000000  3214.000000\n",
              "mean     63.038892   438.208787    38.281269  17207.673836     0.306472\n",
              "std      33.236368   234.569872    36.148326   7570.968246     0.461100\n",
              "min       0.000000     0.000000     0.000000      0.000000     0.000000\n",
              "25%      40.000000   274.575000     9.000000  12491.902500     0.000000\n",
              "50%      62.000000   430.600000    30.000000  16943.235000     0.000000\n",
              "75%      82.000000   571.927500    57.000000  21424.700000     1.000000\n",
              "max     244.000000  1632.060000   224.000000  49745.730000     1.000000"
            ],
            "text/html": [
              "\n",
              "  <div id=\"df-e923a3b1-8939-4f95-aee4-91e9c987ab33\" class=\"colab-df-container\">\n",
              "    <div>\n",
              "<style scoped>\n",
              "    .dataframe tbody tr th:only-of-type {\n",
              "        vertical-align: middle;\n",
              "    }\n",
              "\n",
              "    .dataframe tbody tr th {\n",
              "        vertical-align: top;\n",
              "    }\n",
              "\n",
              "    .dataframe thead th {\n",
              "        text-align: right;\n",
              "    }\n",
              "</style>\n",
              "<table border=\"1\" class=\"dataframe\">\n",
              "  <thead>\n",
              "    <tr style=\"text-align: right;\">\n",
              "      <th></th>\n",
              "      <th>calls</th>\n",
              "      <th>minutes</th>\n",
              "      <th>messages</th>\n",
              "      <th>mb_used</th>\n",
              "      <th>is_ultra</th>\n",
              "    </tr>\n",
              "  </thead>\n",
              "  <tbody>\n",
              "    <tr>\n",
              "      <th>count</th>\n",
              "      <td>3214.000000</td>\n",
              "      <td>3214.000000</td>\n",
              "      <td>3214.000000</td>\n",
              "      <td>3214.000000</td>\n",
              "      <td>3214.000000</td>\n",
              "    </tr>\n",
              "    <tr>\n",
              "      <th>mean</th>\n",
              "      <td>63.038892</td>\n",
              "      <td>438.208787</td>\n",
              "      <td>38.281269</td>\n",
              "      <td>17207.673836</td>\n",
              "      <td>0.306472</td>\n",
              "    </tr>\n",
              "    <tr>\n",
              "      <th>std</th>\n",
              "      <td>33.236368</td>\n",
              "      <td>234.569872</td>\n",
              "      <td>36.148326</td>\n",
              "      <td>7570.968246</td>\n",
              "      <td>0.461100</td>\n",
              "    </tr>\n",
              "    <tr>\n",
              "      <th>min</th>\n",
              "      <td>0.000000</td>\n",
              "      <td>0.000000</td>\n",
              "      <td>0.000000</td>\n",
              "      <td>0.000000</td>\n",
              "      <td>0.000000</td>\n",
              "    </tr>\n",
              "    <tr>\n",
              "      <th>25%</th>\n",
              "      <td>40.000000</td>\n",
              "      <td>274.575000</td>\n",
              "      <td>9.000000</td>\n",
              "      <td>12491.902500</td>\n",
              "      <td>0.000000</td>\n",
              "    </tr>\n",
              "    <tr>\n",
              "      <th>50%</th>\n",
              "      <td>62.000000</td>\n",
              "      <td>430.600000</td>\n",
              "      <td>30.000000</td>\n",
              "      <td>16943.235000</td>\n",
              "      <td>0.000000</td>\n",
              "    </tr>\n",
              "    <tr>\n",
              "      <th>75%</th>\n",
              "      <td>82.000000</td>\n",
              "      <td>571.927500</td>\n",
              "      <td>57.000000</td>\n",
              "      <td>21424.700000</td>\n",
              "      <td>1.000000</td>\n",
              "    </tr>\n",
              "    <tr>\n",
              "      <th>max</th>\n",
              "      <td>244.000000</td>\n",
              "      <td>1632.060000</td>\n",
              "      <td>224.000000</td>\n",
              "      <td>49745.730000</td>\n",
              "      <td>1.000000</td>\n",
              "    </tr>\n",
              "  </tbody>\n",
              "</table>\n",
              "</div>\n",
              "    <div class=\"colab-df-buttons\">\n",
              "\n",
              "  <div class=\"colab-df-container\">\n",
              "    <button class=\"colab-df-convert\" onclick=\"convertToInteractive('df-e923a3b1-8939-4f95-aee4-91e9c987ab33')\"\n",
              "            title=\"Convert this dataframe to an interactive table.\"\n",
              "            style=\"display:none;\">\n",
              "\n",
              "  <svg xmlns=\"http://www.w3.org/2000/svg\" height=\"24px\" viewBox=\"0 -960 960 960\">\n",
              "    <path d=\"M120-120v-720h720v720H120Zm60-500h600v-160H180v160Zm220 220h160v-160H400v160Zm0 220h160v-160H400v160ZM180-400h160v-160H180v160Zm440 0h160v-160H620v160ZM180-180h160v-160H180v160Zm440 0h160v-160H620v160Z\"/>\n",
              "  </svg>\n",
              "    </button>\n",
              "\n",
              "  <style>\n",
              "    .colab-df-container {\n",
              "      display:flex;\n",
              "      gap: 12px;\n",
              "    }\n",
              "\n",
              "    .colab-df-convert {\n",
              "      background-color: #E8F0FE;\n",
              "      border: none;\n",
              "      border-radius: 50%;\n",
              "      cursor: pointer;\n",
              "      display: none;\n",
              "      fill: #1967D2;\n",
              "      height: 32px;\n",
              "      padding: 0 0 0 0;\n",
              "      width: 32px;\n",
              "    }\n",
              "\n",
              "    .colab-df-convert:hover {\n",
              "      background-color: #E2EBFA;\n",
              "      box-shadow: 0px 1px 2px rgba(60, 64, 67, 0.3), 0px 1px 3px 1px rgba(60, 64, 67, 0.15);\n",
              "      fill: #174EA6;\n",
              "    }\n",
              "\n",
              "    .colab-df-buttons div {\n",
              "      margin-bottom: 4px;\n",
              "    }\n",
              "\n",
              "    [theme=dark] .colab-df-convert {\n",
              "      background-color: #3B4455;\n",
              "      fill: #D2E3FC;\n",
              "    }\n",
              "\n",
              "    [theme=dark] .colab-df-convert:hover {\n",
              "      background-color: #434B5C;\n",
              "      box-shadow: 0px 1px 3px 1px rgba(0, 0, 0, 0.15);\n",
              "      filter: drop-shadow(0px 1px 2px rgba(0, 0, 0, 0.3));\n",
              "      fill: #FFFFFF;\n",
              "    }\n",
              "  </style>\n",
              "\n",
              "    <script>\n",
              "      const buttonEl =\n",
              "        document.querySelector('#df-e923a3b1-8939-4f95-aee4-91e9c987ab33 button.colab-df-convert');\n",
              "      buttonEl.style.display =\n",
              "        google.colab.kernel.accessAllowed ? 'block' : 'none';\n",
              "\n",
              "      async function convertToInteractive(key) {\n",
              "        const element = document.querySelector('#df-e923a3b1-8939-4f95-aee4-91e9c987ab33');\n",
              "        const dataTable =\n",
              "          await google.colab.kernel.invokeFunction('convertToInteractive',\n",
              "                                                    [key], {});\n",
              "        if (!dataTable) return;\n",
              "\n",
              "        const docLinkHtml = 'Like what you see? Visit the ' +\n",
              "          '<a target=\"_blank\" href=https://colab.research.google.com/notebooks/data_table.ipynb>data table notebook</a>'\n",
              "          + ' to learn more about interactive tables.';\n",
              "        element.innerHTML = '';\n",
              "        dataTable['output_type'] = 'display_data';\n",
              "        await google.colab.output.renderOutput(dataTable, element);\n",
              "        const docLink = document.createElement('div');\n",
              "        docLink.innerHTML = docLinkHtml;\n",
              "        element.appendChild(docLink);\n",
              "      }\n",
              "    </script>\n",
              "  </div>\n",
              "\n",
              "\n",
              "<div id=\"df-06ef3cc9-1581-47fb-8efe-34013d4bca66\">\n",
              "  <button class=\"colab-df-quickchart\" onclick=\"quickchart('df-06ef3cc9-1581-47fb-8efe-34013d4bca66')\"\n",
              "            title=\"Suggest charts\"\n",
              "            style=\"display:none;\">\n",
              "\n",
              "<svg xmlns=\"http://www.w3.org/2000/svg\" height=\"24px\"viewBox=\"0 0 24 24\"\n",
              "     width=\"24px\">\n",
              "    <g>\n",
              "        <path d=\"M19 3H5c-1.1 0-2 .9-2 2v14c0 1.1.9 2 2 2h14c1.1 0 2-.9 2-2V5c0-1.1-.9-2-2-2zM9 17H7v-7h2v7zm4 0h-2V7h2v10zm4 0h-2v-4h2v4z\"/>\n",
              "    </g>\n",
              "</svg>\n",
              "  </button>\n",
              "\n",
              "<style>\n",
              "  .colab-df-quickchart {\n",
              "      --bg-color: #E8F0FE;\n",
              "      --fill-color: #1967D2;\n",
              "      --hover-bg-color: #E2EBFA;\n",
              "      --hover-fill-color: #174EA6;\n",
              "      --disabled-fill-color: #AAA;\n",
              "      --disabled-bg-color: #DDD;\n",
              "  }\n",
              "\n",
              "  [theme=dark] .colab-df-quickchart {\n",
              "      --bg-color: #3B4455;\n",
              "      --fill-color: #D2E3FC;\n",
              "      --hover-bg-color: #434B5C;\n",
              "      --hover-fill-color: #FFFFFF;\n",
              "      --disabled-bg-color: #3B4455;\n",
              "      --disabled-fill-color: #666;\n",
              "  }\n",
              "\n",
              "  .colab-df-quickchart {\n",
              "    background-color: var(--bg-color);\n",
              "    border: none;\n",
              "    border-radius: 50%;\n",
              "    cursor: pointer;\n",
              "    display: none;\n",
              "    fill: var(--fill-color);\n",
              "    height: 32px;\n",
              "    padding: 0;\n",
              "    width: 32px;\n",
              "  }\n",
              "\n",
              "  .colab-df-quickchart:hover {\n",
              "    background-color: var(--hover-bg-color);\n",
              "    box-shadow: 0 1px 2px rgba(60, 64, 67, 0.3), 0 1px 3px 1px rgba(60, 64, 67, 0.15);\n",
              "    fill: var(--button-hover-fill-color);\n",
              "  }\n",
              "\n",
              "  .colab-df-quickchart-complete:disabled,\n",
              "  .colab-df-quickchart-complete:disabled:hover {\n",
              "    background-color: var(--disabled-bg-color);\n",
              "    fill: var(--disabled-fill-color);\n",
              "    box-shadow: none;\n",
              "  }\n",
              "\n",
              "  .colab-df-spinner {\n",
              "    border: 2px solid var(--fill-color);\n",
              "    border-color: transparent;\n",
              "    border-bottom-color: var(--fill-color);\n",
              "    animation:\n",
              "      spin 1s steps(1) infinite;\n",
              "  }\n",
              "\n",
              "  @keyframes spin {\n",
              "    0% {\n",
              "      border-color: transparent;\n",
              "      border-bottom-color: var(--fill-color);\n",
              "      border-left-color: var(--fill-color);\n",
              "    }\n",
              "    20% {\n",
              "      border-color: transparent;\n",
              "      border-left-color: var(--fill-color);\n",
              "      border-top-color: var(--fill-color);\n",
              "    }\n",
              "    30% {\n",
              "      border-color: transparent;\n",
              "      border-left-color: var(--fill-color);\n",
              "      border-top-color: var(--fill-color);\n",
              "      border-right-color: var(--fill-color);\n",
              "    }\n",
              "    40% {\n",
              "      border-color: transparent;\n",
              "      border-right-color: var(--fill-color);\n",
              "      border-top-color: var(--fill-color);\n",
              "    }\n",
              "    60% {\n",
              "      border-color: transparent;\n",
              "      border-right-color: var(--fill-color);\n",
              "    }\n",
              "    80% {\n",
              "      border-color: transparent;\n",
              "      border-right-color: var(--fill-color);\n",
              "      border-bottom-color: var(--fill-color);\n",
              "    }\n",
              "    90% {\n",
              "      border-color: transparent;\n",
              "      border-bottom-color: var(--fill-color);\n",
              "    }\n",
              "  }\n",
              "</style>\n",
              "\n",
              "  <script>\n",
              "    async function quickchart(key) {\n",
              "      const quickchartButtonEl =\n",
              "        document.querySelector('#' + key + ' button');\n",
              "      quickchartButtonEl.disabled = true;  // To prevent multiple clicks.\n",
              "      quickchartButtonEl.classList.add('colab-df-spinner');\n",
              "      try {\n",
              "        const charts = await google.colab.kernel.invokeFunction(\n",
              "            'suggestCharts', [key], {});\n",
              "      } catch (error) {\n",
              "        console.error('Error during call to suggestCharts:', error);\n",
              "      }\n",
              "      quickchartButtonEl.classList.remove('colab-df-spinner');\n",
              "      quickchartButtonEl.classList.add('colab-df-quickchart-complete');\n",
              "    }\n",
              "    (() => {\n",
              "      let quickchartButtonEl =\n",
              "        document.querySelector('#df-06ef3cc9-1581-47fb-8efe-34013d4bca66 button');\n",
              "      quickchartButtonEl.style.display =\n",
              "        google.colab.kernel.accessAllowed ? 'block' : 'none';\n",
              "    })();\n",
              "  </script>\n",
              "</div>\n",
              "\n",
              "    </div>\n",
              "  </div>\n"
            ],
            "application/vnd.google.colaboratory.intrinsic+json": {
              "type": "dataframe",
              "summary": "{\n  \"name\": \"users_behavior\",\n  \"rows\": 8,\n  \"fields\": [\n    {\n      \"column\": \"calls\",\n      \"properties\": {\n        \"dtype\": \"number\",\n        \"std\": 1112.2525932432632,\n        \"min\": 0.0,\n        \"max\": 3214.0,\n        \"num_unique_values\": 8,\n        \"samples\": [\n          63.03889234598631,\n          62.0,\n          3214.0\n        ],\n        \"semantic_type\": \"\",\n        \"description\": \"\"\n      }\n    },\n    {\n      \"column\": \"minutes\",\n      \"properties\": {\n        \"dtype\": \"number\",\n        \"std\": 1072.731669012159,\n        \"min\": 0.0,\n        \"max\": 3214.0,\n        \"num_unique_values\": 8,\n        \"samples\": [\n          438.20878655880523,\n          430.5999999999999,\n          3214.0\n        ],\n        \"semantic_type\": \"\",\n        \"description\": \"\"\n      }\n    },\n    {\n      \"column\": \"messages\",\n      \"properties\": {\n        \"dtype\": \"number\",\n        \"std\": 1118.633007562315,\n        \"min\": 0.0,\n        \"max\": 3214.0,\n        \"num_unique_values\": 8,\n        \"samples\": [\n          38.28126944617299,\n          30.0,\n          3214.0\n        ],\n        \"semantic_type\": \"\",\n        \"description\": \"\"\n      }\n    },\n    {\n      \"column\": \"mb_used\",\n      \"properties\": {\n        \"dtype\": \"number\",\n        \"std\": 15461.205923306581,\n        \"min\": 0.0,\n        \"max\": 49745.73000000001,\n        \"num_unique_values\": 8,\n        \"samples\": [\n          17207.673836341008,\n          16943.235,\n          3214.0\n        ],\n        \"semantic_type\": \"\",\n        \"description\": \"\"\n      }\n    },\n    {\n      \"column\": \"is_ultra\",\n      \"properties\": {\n        \"dtype\": \"number\",\n        \"std\": 1136.1808901181819,\n        \"min\": 0.0,\n        \"max\": 3214.0,\n        \"num_unique_values\": 5,\n        \"samples\": [\n          0.30647168637212197,\n          1.0,\n          0.46109971150909324\n        ],\n        \"semantic_type\": \"\",\n        \"description\": \"\"\n      }\n    }\n  ]\n}"
            }
          },
          "metadata": {},
          "execution_count": 8
        }
      ],
      "source": [
        "print('Descriptive statistics for the Megaline dataset are as follows:')\n",
        "users_behavior.describe()"
      ]
    },
    {
      "cell_type": "code",
      "execution_count": null,
      "metadata": {
        "colab": {
          "base_uri": "https://localhost:8080/",
          "height": 702
        },
        "id": "6wdcW1x8gPf6",
        "outputId": "71fd229b-9421-459f-c28a-14d2d0fcd8fb"
      },
      "outputs": [
        {
          "output_type": "stream",
          "name": "stderr",
          "text": [
            "<ipython-input-9-2f0db3f3ce49>:6: FutureWarning: \n",
            "\n",
            "The `bw` parameter is deprecated in favor of `bw_method`/`bw_adjust`.\n",
            "Setting `bw_method=0.2`, but please see docs for the new parameters\n",
            "and update your code. This will become an error in seaborn v0.15.0.\n",
            "\n",
            "  sns.violinplot(data=users_behavior[['calls', 'minutes', 'messages', 'mb_used']], palette=\"Set3\", bw=.2, cut=1, linewidth=1)\n"
          ]
        },
        {
          "output_type": "display_data",
          "data": {
            "text/plain": [
              "<Figure size 1100x600 with 1 Axes>"
            ],
            "image/png": "[encoded data removed]"
          },
          "metadata": {}
        }
      ],
      "source": [
        "# Set the seaborn theme\n",
        "sns.set_theme(style=\"whitegrid\")\n",
        "\n",
        "# Create a violin plot for the first four columns of the 'users_behavior' dataframe\n",
        "f, ax = plt.subplots(figsize=(11, 6))\n",
        "sns.violinplot(data=users_behavior[['calls', 'minutes', 'messages', 'mb_used']], palette=\"Set3\", bw=.2, cut=1, linewidth=1)\n",
        "\n",
        "# Add a title and x-axis label\n",
        "ax.set_title('Distribution of User Behavior Metrics')\n",
        "ax.set_xlabel('Metrics')\n",
        "ax.set_ylabel('Value')\n",
        "\n",
        "# Finalize the figure\n",
        "ax.set(ylim=None)  # Set the y-axis limits to auto\n",
        "sns.despine(left=True, bottom=True)\n",
        "plt.show()"
      ]
    },
    {
      "cell_type": "markdown",
      "metadata": {
        "id": "dGDiRZYYivIh"
      },
      "source": [
        "**Comment:** A wide or latitudinal violin plot was implemented to show the distributions of multiple metrics at the same time. The initial finding is that the ['mb_used'] column should be plotted on its own to avoid the distortion that is show. I ran these separately, but found that there is no insight that can be immediately gleaned, so went back and added the .describe() function abve to get more data points.\n",
        "\n",
        "**Insight:** The descriptive stats are helpful to determine the scale with which each of the data from the plots are on. It confirms that the lenghs of the lists are the same size. We also see high relative variation as determined by comparing the standard deviation (one sigma) to the mean which then corresponds to the max and min bars in the violin plots."
      ]
    },
    {
      "cell_type": "code",
      "execution_count": null,
      "metadata": {
        "colab": {
          "base_uri": "https://localhost:8080/",
          "height": 571
        },
        "id": "Sh7oW9PohJMP",
        "outputId": "f0845bed-b200-4298-9ec5-64a8ca874911"
      },
      "outputs": [
        {
          "output_type": "display_data",
          "data": {
            "text/plain": [
              "<Figure size 640x480 with 1 Axes>"
            ],
            "image/png": "[encoded data removed]"
          },
          "metadata": {}
        },
        {
          "output_type": "stream",
          "name": "stdout",
          "text": [
            "\n",
            "Skewness: 0.6060892767458539\n",
            "The data has a positive skew or right-tailed.\n",
            "Skewness: 1.2951606233998842\n",
            "The data has a positive skew or right-tailed.\n"
          ]
        }
      ],
      "source": [
        "# Histogram\n",
        "plt.hist([users_behavior['calls'], users_behavior['messages']], bins=56, label=['Calls', 'Messages'],\n",
        "         color=['purple', 'orange'], alpha = 0.6)  # added color parameter\n",
        "plt.xlabel('Count')\n",
        "plt.ylabel('Frequency (Number of Users)')\n",
        "plt.title('Histogram of Calls and Messages')\n",
        "plt.xlim(0, 200)  # added x-axis limit\n",
        "plt.legend()\n",
        "plt.show()\n",
        "print()\n",
        "\n",
        "# Calculate skewness\n",
        "def calculate_skewness(data, column):\n",
        "    skew = stats.skew(data[column])\n",
        "    if skew == 0:\n",
        "        interpretation = \"The data is symmetrical (like a normal distribution).\"\n",
        "    elif skew > 0:\n",
        "        interpretation = \"The data has a positive skew or right-tailed.\"\n",
        "    else:\n",
        "        interpretation = \"The data has a negative skew or left-tailed.\"\n",
        "    print(f\"Skewness: {skew}\")\n",
        "    print(interpretation)\n",
        "\n",
        "calculate_skewness(users_behavior, 'calls')\n",
        "calculate_skewness(users_behavior, 'messages')"
      ]
    },
    {
      "cell_type": "markdown",
      "metadata": {
        "id": "7ZvslsNii4Ji"
      },
      "source": [
        "**Comment:** I find multi-series datasets the most helpful when conducting exploratory data analysis. When we first looked at the Megaline data, there were two plans based on utilization, so I wanted to see if there was a distinct enough trend to classify two groups this early on in the analysis. The number of calls and number of texts were the most comparable metrics for user behavior based on my assumption. I iterated upon the initial graph with a final determination of skewness. Bins = SQRT(n).\n",
        "\n",
        "**Insight:** There is some evidence for a trade-off point between users with high utilization of text messages and an upswing in the calls that are being made, however, it is not clear with this plot whether they are mutually exclusive."
      ]
    },
    {
      "cell_type": "code",
      "execution_count": null,
      "metadata": {
        "colab": {
          "base_uri": "https://localhost:8080/",
          "height": 535
        },
        "id": "6HBzuCp5Z5lh",
        "outputId": "f5528e52-c361-49f7-bcab-f074f2ef88fd"
      },
      "outputs": [
        {
          "output_type": "display_data",
          "data": {
            "text/plain": [
              "<Figure size 640x480 with 1 Axes>"
            ],
            "image/png": "[encoded data removed]"
          },
          "metadata": {}
        },
        {
          "output_type": "stream",
          "name": "stdout",
          "text": [
            "\n",
            "Skewness: 0.6075675435633564\n",
            "The data has a positive skew or right-tailed.\n"
          ]
        }
      ],
      "source": [
        "# Histogram\n",
        "plt.hist(users_behavior['minutes'], bins=56, label=['Minutes'],\n",
        "         color=['skyblue'], alpha = 0.6)  # added color parameter\n",
        "plt.xlabel('Count')\n",
        "plt.ylabel('Frequency (Number of Users)')\n",
        "plt.title('Histogram of Call Duration')\n",
        "plt.legend()\n",
        "plt.show()\n",
        "print()\n",
        "\n",
        "# Calculate skewness\n",
        "calculate_skewness(users_behavior, 'minutes')"
      ]
    },
    {
      "cell_type": "markdown",
      "metadata": {
        "id": "aK_UyqitaDvi"
      },
      "source": [
        "**Insight:** The majority of users have a call duration of 200 to 800 minutes."
      ]
    },
    {
      "cell_type": "code",
      "execution_count": null,
      "metadata": {
        "colab": {
          "base_uri": "https://localhost:8080/",
          "height": 535
        },
        "id": "JXF9mNYmaDQ-",
        "outputId": "8da35612-b66e-4597-a5ee-e2e4dbc82280"
      },
      "outputs": [
        {
          "output_type": "display_data",
          "data": {
            "text/plain": [
              "<Figure size 640x480 with 1 Axes>"
            ],
            "image/png": "[encoded data removed]"
          },
          "metadata": {}
        },
        {
          "output_type": "stream",
          "name": "stdout",
          "text": [
            "\n",
            "Skewness: 0.42989027518742406\n",
            "The data has a positive skew or right-tailed.\n"
          ]
        }
      ],
      "source": [
        "# Histogram\n",
        "plt.hist(users_behavior['mb_used'], bins=56, label=['Megabytes (Mb) Used'],\n",
        "         color=['green'], alpha = 0.6)  # added color parameter\n",
        "plt.xlabel('Count')\n",
        "plt.ylabel('Frequency (Number of Users)')\n",
        "plt.title('Histogram of Internet Usage (in Mb)')\n",
        "plt.xlim(0, 50000)  # added x-axis limit\n",
        "plt.legend()\n",
        "plt.show()\n",
        "print()\n",
        "\n",
        "# Calculate skewness\n",
        "calculate_skewness(users_behavior, 'mb_used')"
      ]
    },
    {
      "cell_type": "markdown",
      "metadata": {
        "id": "pffI3mx4aEKH"
      },
      "source": [
        "**Insight:** Majority of internet utilization is between 10,000 and 22,000 mb. There is less skewness compared to the previous plots."
      ]
    },
    {
      "cell_type": "markdown",
      "metadata": {
        "id": "DXDZzriCjASe"
      },
      "source": [
        "# **Step 4: Model Training**\n",
        "\n",
        "The models to be evaluated and prioritized for hyperparametric tuning:\n",
        "  1.   Classification\n",
        "      *   Decision Tree\n",
        "      *   Random Forest\n",
        "      *   Logistic Regression\n",
        "  2.   Regression\n",
        "      *   Decision Tree\n",
        "      *   Random Forest\n",
        "      *   Linear"
      ]
    },
    {
      "cell_type": "code",
      "execution_count": 27,
      "metadata": {
        "id": "9ytKYwHRo_b8"
      },
      "outputs": [],
      "source": [
        "from sklearn.tree import DecisionTreeClassifier, DecisionTreeRegressor\n",
        "from sklearn.ensemble import RandomForestClassifier, RandomForestRegressor\n",
        "from sklearn.linear_model import LogisticRegression, LinearRegression\n",
        "\n",
        "from sklearn.model_selection import train_test_split\n",
        "\n",
        "from sklearn.metrics import accuracy_score, precision_score, recall_score, f1_score, mean_absolute_error, mean_squared_error"
      ]
    },
    {
      "cell_type": "code",
      "execution_count": null,
      "metadata": {
        "id": "WbvTyZRkq51b"
      },
      "outputs": [],
      "source": [
        "users_behavior_train, users_behavior_valid = train_test_split(users_behavior, test_size=0.25, random_state=12345)"
      ]
    },
    {
      "cell_type": "code",
      "execution_count": null,
      "metadata": {
        "id": "_gYzRFV2rGv-"
      },
      "outputs": [],
      "source": [
        "features_train = users_behavior_train.drop(['is_ultra'], axis=1)\n",
        "target_train = users_behavior_train['is_ultra']\n",
        "features_valid = users_behavior_valid.drop(['is_ultra'], axis=1)\n",
        "target_valid = users_behavior_valid['is_ultra']"
      ]
    },
    {
      "cell_type": "markdown",
      "source": [
        "## Step 4.1: Decision Tree Classifier\n",
        "\n",
        "    Args:\n",
        "    class sklearn.tree.DecisionTreeClassifier(*, criterion='gini', splitter='best', max_depth=None, min_samples_split=2, min_samples_leaf=1, min_weight_fraction_leaf=0.0, max_features=None, random_state=None, max_leaf_nodes=None, min_impurity_decrease=0.0, class_weight=None, ccp_alpha=0.0, monotonic_cst=None)\n",
        "    \n",
        "    #https://scikit-learn.org/stable/modules/generated/sklearn.tree.DecisionTreeClassifier.html#decisiontreeclassifier"
      ],
      "metadata": {
        "id": "gmRZ1llcuv8M"
      }
    },
    {
      "cell_type": "code",
      "execution_count": 24,
      "metadata": {
        "colab": {
          "base_uri": "https://localhost:8080/",
          "height": 988
        },
        "id": "CK4FQ8uTtcq0",
        "outputId": "40740d3e-d7ee-4cef-a1ee-b7f27b24963b"
      },
      "outputs": [
        {
          "output_type": "stream",
          "name": "stdout",
          "text": [
            "Model accuracy at max_depth = 1 : 0.75\n",
            "Model precision at max_depth = 1 : 0.7222222222222222\n",
            "Model recall at max_depth = 1 : 0.2697095435684647\n",
            "Model F1-score at max_depth = 1 : 0.3927492447129909\n",
            "\n",
            "Model accuracy at max_depth = 2 : 0.7835820895522388\n",
            "Model precision at max_depth = 2 : 0.7637795275590551\n",
            "Model recall at max_depth = 2 : 0.4024896265560166\n",
            "Model F1-score at max_depth = 2 : 0.5271739130434784\n",
            "\n",
            "Model accuracy at max_depth = 3 : 0.7885572139303483\n",
            "Model precision at max_depth = 3 : 0.7591240875912408\n",
            "Model recall at max_depth = 3 : 0.4315352697095436\n",
            "Model F1-score at max_depth = 3 : 0.5502645502645502\n",
            "\n",
            "Model accuracy at max_depth = 4 : 0.7810945273631841\n",
            "Model precision at max_depth = 4 : 0.7480916030534351\n",
            "Model recall at max_depth = 4 : 0.4066390041493776\n",
            "Model F1-score at max_depth = 4 : 0.5268817204301075\n",
            "\n",
            "Model accuracy at max_depth = 5 : 0.7810945273631841\n",
            "Model precision at max_depth = 5 : 0.7480916030534351\n",
            "Model recall at max_depth = 5 : 0.4066390041493776\n",
            "Model F1-score at max_depth = 5 : 0.5268817204301075\n",
            "\n",
            "Model accuracy at max_depth = 6 : 0.7661691542288557\n",
            "Model precision at max_depth = 6 : 0.6432432432432432\n",
            "Model recall at max_depth = 6 : 0.49377593360995853\n",
            "Model F1-score at max_depth = 6 : 0.5586854460093896\n",
            "\n",
            "Model accuracy at max_depth = 7 : 0.7898009950248757\n",
            "Model precision at max_depth = 7 : 0.7571428571428571\n",
            "Model recall at max_depth = 7 : 0.43983402489626555\n",
            "Model F1-score at max_depth = 7 : 0.5564304461942257\n",
            "\n",
            "Model accuracy at max_depth = 8 : 0.7885572139303483\n",
            "Model precision at max_depth = 8 : 0.7553956834532374\n",
            "Model recall at max_depth = 8 : 0.43568464730290457\n",
            "Model F1-score at max_depth = 8 : 0.5526315789473685\n",
            "\n",
            "Model accuracy at max_depth = 9 : 0.7885572139303483\n",
            "Model precision at max_depth = 9 : 0.7320261437908496\n",
            "Model recall at max_depth = 9 : 0.46473029045643155\n",
            "Model F1-score at max_depth = 9 : 0.5685279187817259\n",
            "\n",
            "\n",
            "Accuracy of the best model on the validation set (max_depth = 7): 0.7898009950248757\n",
            "Precision of the best model on the validation set (max_depth = 7): 0.7571428571428571\n",
            "Recall of the best model on the validation set (max_depth = 7): 0.43983402489626555\n",
            "F1-Score of the best model on the validation set (max_depth = 7): 0.5564304461942257\n"
          ]
        },
        {
          "output_type": "execute_result",
          "data": {
            "text/plain": [
              "DecisionTreeClassifier(max_depth=7, random_state=12345)"
            ],
            "text/html": [
              "<style>#sk-container-id-5 {color: black;background-color: white;}#sk-container-id-5 pre{padding: 0;}#sk-container-id-5 div.sk-toggleable {background-color: white;}#sk-container-id-5 label.sk-toggleable__label {cursor: pointer;display: block;width: 100%;margin-bottom: 0;padding: 0.3em;box-sizing: border-box;text-align: center;}#sk-container-id-5 label.sk-toggleable__label-arrow:before {content: \"▸\";float: left;margin-right: 0.25em;color: #696969;}#sk-container-id-5 label.sk-toggleable__label-arrow:hover:before {color: black;}#sk-container-id-5 div.sk-estimator:hover label.sk-toggleable__label-arrow:before {color: black;}#sk-container-id-5 div.sk-toggleable__content {max-height: 0;max-width: 0;overflow: hidden;text-align: left;background-color: #f0f8ff;}#sk-container-id-5 div.sk-toggleable__content pre {margin: 0.2em;color: black;border-radius: 0.25em;background-color: #f0f8ff;}#sk-container-id-5 input.sk-toggleable__control:checked~div.sk-toggleable__content {max-height: 200px;max-width: 100%;overflow: auto;}#sk-container-id-5 input.sk-toggleable__control:checked~label.sk-toggleable__label-arrow:before {content: \"▾\";}#sk-container-id-5 div.sk-estimator input.sk-toggleable__control:checked~label.sk-toggleable__label {background-color: #d4ebff;}#sk-container-id-5 div.sk-label input.sk-toggleable__control:checked~label.sk-toggleable__label {background-color: #d4ebff;}#sk-container-id-5 input.sk-hidden--visually {border: 0;clip: rect(1px 1px 1px 1px);clip: rect(1px, 1px, 1px, 1px);height: 1px;margin: -1px;overflow: hidden;padding: 0;position: absolute;width: 1px;}#sk-container-id-5 div.sk-estimator {font-family: monospace;background-color: #f0f8ff;border: 1px dotted black;border-radius: 0.25em;box-sizing: border-box;margin-bottom: 0.5em;}#sk-container-id-5 div.sk-estimator:hover {background-color: #d4ebff;}#sk-container-id-5 div.sk-parallel-item::after {content: \"\";width: 100%;border-bottom: 1px solid gray;flex-grow: 1;}#sk-container-id-5 div.sk-label:hover label.sk-toggleable__label {background-color: #d4ebff;}#sk-container-id-5 div.sk-serial::before {content: \"\";position: absolute;border-left: 1px solid gray;box-sizing: border-box;top: 0;bottom: 0;left: 50%;z-index: 0;}#sk-container-id-5 div.sk-serial {display: flex;flex-direction: column;align-items: center;background-color: white;padding-right: 0.2em;padding-left: 0.2em;position: relative;}#sk-container-id-5 div.sk-item {position: relative;z-index: 1;}#sk-container-id-5 div.sk-parallel {display: flex;align-items: stretch;justify-content: center;background-color: white;position: relative;}#sk-container-id-5 div.sk-item::before, #sk-container-id-5 div.sk-parallel-item::before {content: \"\";position: absolute;border-left: 1px solid gray;box-sizing: border-box;top: 0;bottom: 0;left: 50%;z-index: -1;}#sk-container-id-5 div.sk-parallel-item {display: flex;flex-direction: column;z-index: 1;position: relative;background-color: white;}#sk-container-id-5 div.sk-parallel-item:first-child::after {align-self: flex-end;width: 50%;}#sk-container-id-5 div.sk-parallel-item:last-child::after {align-self: flex-start;width: 50%;}#sk-container-id-5 div.sk-parallel-item:only-child::after {width: 0;}#sk-container-id-5 div.sk-dashed-wrapped {border: 1px dashed gray;margin: 0 0.4em 0.5em 0.4em;box-sizing: border-box;padding-bottom: 0.4em;background-color: white;}#sk-container-id-5 div.sk-label label {font-family: monospace;font-weight: bold;display: inline-block;line-height: 1.2em;}#sk-container-id-5 div.sk-label-container {text-align: center;}#sk-container-id-5 div.sk-container {/* jupyter's `normalize.less` sets `[hidden] { display: none; }` but bootstrap.min.css set `[hidden] { display: none !important; }` so we also need the `!important` here to be able to override the default hidden behavior on the sphinx rendered scikit-learn.org. See: https://github.com/scikit-learn/scikit-learn/issues/21755 */display: inline-block !important;position: relative;}#sk-container-id-5 div.sk-text-repr-fallback {display: none;}</style><div id=\"sk-container-id-5\" class=\"sk-top-container\"><div class=\"sk-text-repr-fallback\"><pre>DecisionTreeClassifier(max_depth=7, random_state=12345)</pre><b>In a Jupyter environment, please rerun this cell to show the HTML representation or trust the notebook. <br />On GitHub, the HTML representation is unable to render, please try loading this page with nbviewer.org.</b></div><div class=\"sk-container\" hidden><div class=\"sk-item\"><div class=\"sk-estimator sk-toggleable\"><input class=\"sk-toggleable__control sk-hidden--visually\" id=\"sk-estimator-id-5\" type=\"checkbox\" checked><label for=\"sk-estimator-id-5\" class=\"sk-toggleable__label sk-toggleable__label-arrow\">DecisionTreeClassifier</label><div class=\"sk-toggleable__content\"><pre>DecisionTreeClassifier(max_depth=7, random_state=12345)</pre></div></div></div></div></div>"
            ]
          },
          "metadata": {},
          "execution_count": 24
        }
      ],
      "source": [
        "# Decision Tree Classifier\n",
        "\n",
        "best_score_dt = 0\n",
        "best_depth = 0\n",
        "best_precision_dt = 0\n",
        "best_recall_dt = 0\n",
        "best_f1_dt = 0\n",
        "\n",
        "for depth in range(1,10):\n",
        "    model = DecisionTreeClassifier(max_depth=depth, random_state=12345)\n",
        "    model.fit(features_train, target_train)\n",
        "    predictions_valid = model.predict(features_valid)\n",
        "\n",
        "    score = accuracy_score(target_valid, predictions_valid)\n",
        "    precision = precision_score(target_valid, predictions_valid)\n",
        "    recall = recall_score(target_valid, predictions_valid)\n",
        "    f1 = f1_score(target_valid, predictions_valid)\n",
        "\n",
        "    print('Model accuracy at max_depth =', depth, ': ', end='')\n",
        "    print(score)\n",
        "    print('Model precision at max_depth =', depth, ': ', end='')\n",
        "    print(precision)\n",
        "    print('Model recall at max_depth =', depth, ': ', end='')\n",
        "    print(recall)\n",
        "    print('Model F1-score at max_depth =', depth, ': ', end='')\n",
        "    print(f1)\n",
        "    print()\n",
        "\n",
        "    if score > best_score_dt:\n",
        "        best_score_dt = score\n",
        "        best_depth = depth\n",
        "        best_precision_dt = precision\n",
        "        best_recall_dt = recall\n",
        "        best_f1_dt = f1\n",
        "\n",
        "print()\n",
        "print(\"Accuracy of the best model on the validation set (max_depth = {}): {}\".format(best_depth, best_score_dt))\n",
        "print(\"Precision of the best model on the validation set (max_depth = {}): {}\".format(best_depth, best_precision_dt))\n",
        "print(\"Recall of the best model on the validation set (max_depth = {}): {}\".format(best_depth, best_recall_dt))\n",
        "print(\"F1-Score of the best model on the validation set (max_depth = {}): {}\".format(best_depth, best_f1_dt))\n",
        "\n",
        "final_model1 = DecisionTreeClassifier(random_state=12345, max_depth=best_depth)\n",
        "final_model1.fit(features_train, target_train)"
      ]
    },
    {
      "cell_type": "markdown",
      "source": [
        "### Step 4.1.1: Conclusion\n",
        "\n",
        "In this model, I set 'max_depth' to iterate from 1 to 10 to evaluate this parameter's effect on the accuracy. I also learned that accuracy, precision, and F-1 score can only be applied to classification models. If this model is the best, I plan to tune the criterion hyperparameter next.\n",
        "\n",
        "The optimal model is at max_depth = 7."
      ],
      "metadata": {
        "id": "Jv-5iI9CwI5Q"
      }
    },
    {
      "cell_type": "markdown",
      "source": [
        "## Step 4.2: Random Forest Classifier\n",
        "\n",
        "    Args:\n",
        "    class sklearn.ensemble.RandomForestClassifier(n_estimators=100, *, criterion='gini', max_depth=None, min_samples_split=2, min_samples_leaf=1, min_weight_fraction_leaf=0.0, max_features='sqrt', max_leaf_nodes=None, min_impurity_decrease=0.0, bootstrap=True, oob_score=False, n_jobs=None, random_state=None, verbose=0, warm_start=False, class_weight=None, ccp_alpha=0.0, max_samples=None, monotonic_cst=None)\n",
        "    \n",
        "    #https://scikit-learn.org/stable/modules/generated/sklearn.ensemble.RandomForestClassifier.html#randomforestclassifier"
      ],
      "metadata": {
        "id": "brvhHlLzvCc6"
      }
    },
    {
      "cell_type": "code",
      "execution_count": 25,
      "metadata": {
        "colab": {
          "base_uri": "https://localhost:8080/",
          "height": 988
        },
        "id": "S_iTCMogbUn_",
        "outputId": "0d4da4c8-855d-4bcf-9926-1377ea8bdd83"
      },
      "outputs": [
        {
          "output_type": "stream",
          "name": "stdout",
          "text": [
            "Model accuracy at n_estimators = 1 : 0.736318407960199\n",
            "Model precision at n_estimators = 1 : 0.5662100456621004\n",
            "Model recall at n_estimators = 1 : 0.5145228215767634\n",
            "Model F1-score at n_estimators = 1 : 0.5391304347826086\n",
            "\n",
            "Model accuracy at n_estimators = 2 : 0.7736318407960199\n",
            "Model precision at n_estimators = 2 : 0.7521367521367521\n",
            "Model recall at n_estimators = 2 : 0.3651452282157676\n",
            "Model F1-score at n_estimators = 2 : 0.4916201117318435\n",
            "\n",
            "Model accuracy at n_estimators = 3 : 0.7649253731343284\n",
            "Model precision at n_estimators = 3 : 0.6382978723404256\n",
            "Model recall at n_estimators = 3 : 0.4979253112033195\n",
            "Model F1-score at n_estimators = 3 : 0.5594405594405595\n",
            "\n",
            "Model accuracy at n_estimators = 4 : 0.7860696517412935\n",
            "Model precision at n_estimators = 4 : 0.7284768211920529\n",
            "Model recall at n_estimators = 4 : 0.45643153526970953\n",
            "Model F1-score at n_estimators = 4 : 0.5612244897959183\n",
            "\n",
            "Model accuracy at n_estimators = 5 : 0.7786069651741293\n",
            "Model precision at n_estimators = 5 : 0.6721311475409836\n",
            "Model recall at n_estimators = 5 : 0.5103734439834025\n",
            "Model F1-score at n_estimators = 5 : 0.580188679245283\n",
            "\n",
            "Model accuracy at n_estimators = 6 : 0.7860696517412935\n",
            "Model precision at n_estimators = 6 : 0.7142857142857143\n",
            "Model recall at n_estimators = 6 : 0.47717842323651455\n",
            "Model F1-score at n_estimators = 6 : 0.5721393034825871\n",
            "\n",
            "Model accuracy at n_estimators = 7 : 0.7786069651741293\n",
            "Model precision at n_estimators = 7 : 0.6702702702702703\n",
            "Model recall at n_estimators = 7 : 0.5145228215767634\n",
            "Model F1-score at n_estimators = 7 : 0.5821596244131455\n",
            "\n",
            "Model accuracy at n_estimators = 8 : 0.7835820895522388\n",
            "Model precision at n_estimators = 8 : 0.6982248520710059\n",
            "Model recall at n_estimators = 8 : 0.4896265560165975\n",
            "Model F1-score at n_estimators = 8 : 0.5756097560975609\n",
            "\n",
            "Model accuracy at n_estimators = 9 : 0.7810945273631841\n",
            "Model precision at n_estimators = 9 : 0.6737967914438503\n",
            "Model recall at n_estimators = 9 : 0.5228215767634855\n",
            "Model F1-score at n_estimators = 9 : 0.588785046728972\n",
            "\n",
            "\n",
            "Accuracy of the best model on the validation set (n_estimators = 4): 0.7860696517412935\n",
            "Precision of the best model on the validation set (n_estimators = 4): 0.7284768211920529\n",
            "Recall of the best model on the validation set (n_estimators = 4): 0.45643153526970953\n",
            "F1-Score of the best model on the validation set (n_estimators = 4): 0.5612244897959183\n"
          ]
        },
        {
          "output_type": "execute_result",
          "data": {
            "text/plain": [
              "RandomForestClassifier(n_estimators=4, random_state=12345)"
            ],
            "text/html": [
              "<style>#sk-container-id-6 {color: black;background-color: white;}#sk-container-id-6 pre{padding: 0;}#sk-container-id-6 div.sk-toggleable {background-color: white;}#sk-container-id-6 label.sk-toggleable__label {cursor: pointer;display: block;width: 100%;margin-bottom: 0;padding: 0.3em;box-sizing: border-box;text-align: center;}#sk-container-id-6 label.sk-toggleable__label-arrow:before {content: \"▸\";float: left;margin-right: 0.25em;color: #696969;}#sk-container-id-6 label.sk-toggleable__label-arrow:hover:before {color: black;}#sk-container-id-6 div.sk-estimator:hover label.sk-toggleable__label-arrow:before {color: black;}#sk-container-id-6 div.sk-toggleable__content {max-height: 0;max-width: 0;overflow: hidden;text-align: left;background-color: #f0f8ff;}#sk-container-id-6 div.sk-toggleable__content pre {margin: 0.2em;color: black;border-radius: 0.25em;background-color: #f0f8ff;}#sk-container-id-6 input.sk-toggleable__control:checked~div.sk-toggleable__content {max-height: 200px;max-width: 100%;overflow: auto;}#sk-container-id-6 input.sk-toggleable__control:checked~label.sk-toggleable__label-arrow:before {content: \"▾\";}#sk-container-id-6 div.sk-estimator input.sk-toggleable__control:checked~label.sk-toggleable__label {background-color: #d4ebff;}#sk-container-id-6 div.sk-label input.sk-toggleable__control:checked~label.sk-toggleable__label {background-color: #d4ebff;}#sk-container-id-6 input.sk-hidden--visually {border: 0;clip: rect(1px 1px 1px 1px);clip: rect(1px, 1px, 1px, 1px);height: 1px;margin: -1px;overflow: hidden;padding: 0;position: absolute;width: 1px;}#sk-container-id-6 div.sk-estimator {font-family: monospace;background-color: #f0f8ff;border: 1px dotted black;border-radius: 0.25em;box-sizing: border-box;margin-bottom: 0.5em;}#sk-container-id-6 div.sk-estimator:hover {background-color: #d4ebff;}#sk-container-id-6 div.sk-parallel-item::after {content: \"\";width: 100%;border-bottom: 1px solid gray;flex-grow: 1;}#sk-container-id-6 div.sk-label:hover label.sk-toggleable__label {background-color: #d4ebff;}#sk-container-id-6 div.sk-serial::before {content: \"\";position: absolute;border-left: 1px solid gray;box-sizing: border-box;top: 0;bottom: 0;left: 50%;z-index: 0;}#sk-container-id-6 div.sk-serial {display: flex;flex-direction: column;align-items: center;background-color: white;padding-right: 0.2em;padding-left: 0.2em;position: relative;}#sk-container-id-6 div.sk-item {position: relative;z-index: 1;}#sk-container-id-6 div.sk-parallel {display: flex;align-items: stretch;justify-content: center;background-color: white;position: relative;}#sk-container-id-6 div.sk-item::before, #sk-container-id-6 div.sk-parallel-item::before {content: \"\";position: absolute;border-left: 1px solid gray;box-sizing: border-box;top: 0;bottom: 0;left: 50%;z-index: -1;}#sk-container-id-6 div.sk-parallel-item {display: flex;flex-direction: column;z-index: 1;position: relative;background-color: white;}#sk-container-id-6 div.sk-parallel-item:first-child::after {align-self: flex-end;width: 50%;}#sk-container-id-6 div.sk-parallel-item:last-child::after {align-self: flex-start;width: 50%;}#sk-container-id-6 div.sk-parallel-item:only-child::after {width: 0;}#sk-container-id-6 div.sk-dashed-wrapped {border: 1px dashed gray;margin: 0 0.4em 0.5em 0.4em;box-sizing: border-box;padding-bottom: 0.4em;background-color: white;}#sk-container-id-6 div.sk-label label {font-family: monospace;font-weight: bold;display: inline-block;line-height: 1.2em;}#sk-container-id-6 div.sk-label-container {text-align: center;}#sk-container-id-6 div.sk-container {/* jupyter's `normalize.less` sets `[hidden] { display: none; }` but bootstrap.min.css set `[hidden] { display: none !important; }` so we also need the `!important` here to be able to override the default hidden behavior on the sphinx rendered scikit-learn.org. See: https://github.com/scikit-learn/scikit-learn/issues/21755 */display: inline-block !important;position: relative;}#sk-container-id-6 div.sk-text-repr-fallback {display: none;}</style><div id=\"sk-container-id-6\" class=\"sk-top-container\"><div class=\"sk-text-repr-fallback\"><pre>RandomForestClassifier(n_estimators=4, random_state=12345)</pre><b>In a Jupyter environment, please rerun this cell to show the HTML representation or trust the notebook. <br />On GitHub, the HTML representation is unable to render, please try loading this page with nbviewer.org.</b></div><div class=\"sk-container\" hidden><div class=\"sk-item\"><div class=\"sk-estimator sk-toggleable\"><input class=\"sk-toggleable__control sk-hidden--visually\" id=\"sk-estimator-id-6\" type=\"checkbox\" checked><label for=\"sk-estimator-id-6\" class=\"sk-toggleable__label sk-toggleable__label-arrow\">RandomForestClassifier</label><div class=\"sk-toggleable__content\"><pre>RandomForestClassifier(n_estimators=4, random_state=12345)</pre></div></div></div></div></div>"
            ]
          },
          "metadata": {},
          "execution_count": 25
        }
      ],
      "source": [
        "# Random Forest Classifier\n",
        "\n",
        "best_score_rf = 0\n",
        "best_est = 0\n",
        "best_precision_rf = 0\n",
        "best_recall_rf = 0\n",
        "best_f1_rf = 0\n",
        "\n",
        "for est in range(1, 10):\n",
        "    model = RandomForestClassifier(random_state = 12345, n_estimators = est)\n",
        "    model.fit(features_train, target_train)\n",
        "    predictions_valid = model.predict(features_valid)\n",
        "    score = accuracy_score(target_valid, predictions_valid)\n",
        "    precision = precision_score(target_valid, predictions_valid)\n",
        "    recall = recall_score(target_valid, predictions_valid)\n",
        "    f1 = f1_score(target_valid, predictions_valid)\n",
        "\n",
        "    print('Model accuracy at n_estimators =', est, ': ', end='')\n",
        "    print(score)\n",
        "    print('Model precision at n_estimators =', est, ': ', end='')\n",
        "    print(precision)\n",
        "    print('Model recall at n_estimators =', est, ': ', end='')\n",
        "    print(recall)\n",
        "    print('Model F1-score at n_estimators =', est, ': ', end='')\n",
        "    print(f1)\n",
        "    print()\n",
        "\n",
        "    if score > best_score_rf:\n",
        "        best_score_rf = score\n",
        "        best_est = est\n",
        "        best_precision_rf = precision\n",
        "        best_recall_rf = recall\n",
        "        best_f1_rf = f1\n",
        "\n",
        "print()\n",
        "print(\"Accuracy of the best model on the validation set (n_estimators = {}): {}\".format(best_est, best_score_rf))\n",
        "print(\"Precision of the best model on the validation set (n_estimators = {}): {}\".format(best_est, best_precision_rf))\n",
        "print(\"Recall of the best model on the validation set (n_estimators = {}): {}\".format(best_est, best_recall_rf))\n",
        "print(\"F1-Score of the best model on the validation set (n_estimators = {}): {}\".format(best_est, best_f1_rf))\n",
        "\n",
        "final_model2 = RandomForestClassifier(random_state=12345, n_estimators=best_est)\n",
        "final_model2.fit(features_train, target_train)"
      ]
    },
    {
      "cell_type": "markdown",
      "source": [
        "### Step 4.2.1: Conclusion\n",
        "\n",
        "Here, we use the random forest classification model where the main parameter was the n_estimators ('*number of trees*'). Iterating from 0 to 9, it finds that 4 estimators results in the best accuracy"
      ],
      "metadata": {
        "id": "6FUHEwcywRtr"
      }
    },
    {
      "cell_type": "markdown",
      "source": [
        "## Step 4.3: Logistic Regression\n",
        "\n",
        "In logistic regression, the goal is to predict the probability of an event occurring (e.g., 1 or 0), rather than predicting a continuous value. Therefore, evaluation metrics that are specifically designed for classification problems, such as accuracy, precision, recall, F1-score, and ROC-AUC, are more suitable.\n",
        "\n",
        "    Args:\n",
        "    class sklearn.linear_model.LogisticRegression(penalty='l2', *, dual=False, tol=0.0001, C=1.0, fit_intercept=True, intercept_scaling=1, class_weight=None, random_state=None, solver='lbfgs', max_iter=100, multi_class='deprecated', verbose=0, warm_start=False, n_jobs=None, l1_ratio=None)\n",
        "    \n",
        "    #https://scikit-learn.org/stable/modules/generated/sklearn.linear_model.LogisticRegression.html#logisticregression"
      ],
      "metadata": {
        "id": "paQxB4YQvRwA"
      }
    },
    {
      "cell_type": "code",
      "execution_count": 26,
      "metadata": {
        "colab": {
          "base_uri": "https://localhost:8080/"
        },
        "id": "OkErlunDbUrb",
        "outputId": "7800cd58-d8c0-4185-ddf6-a888d61eecd6"
      },
      "outputs": [
        {
          "output_type": "stream",
          "name": "stdout",
          "text": [
            "Solver: liblinear\n",
            "Accuracy of the logistic regression model on the training set: 0.7415\n",
            "Accuracy of the logistic regression model on the validation set: 0.7537\n",
            "Precision: 0.8772\n",
            "Recall: 0.2075\n",
            "F1-Score: 0.3356\n",
            "\n"
          ]
        },
        {
          "output_type": "stream",
          "name": "stderr",
          "text": [
            "/usr/local/lib/python3.10/dist-packages/scipy/optimize/_linesearch.py:466: LineSearchWarning: The line search algorithm did not converge\n",
            "  warn('The line search algorithm did not converge', LineSearchWarning)\n",
            "/usr/local/lib/python3.10/dist-packages/scipy/optimize/_linesearch.py:314: LineSearchWarning: The line search algorithm did not converge\n",
            "  warn('The line search algorithm did not converge', LineSearchWarning)\n",
            "/usr/local/lib/python3.10/dist-packages/scipy/optimize/_linesearch.py:425: LineSearchWarning: Rounding errors prevent the line search from converging\n",
            "  warn(msg, LineSearchWarning)\n",
            "/usr/local/lib/python3.10/dist-packages/sklearn/utils/optimize.py:203: UserWarning: Line Search failed\n",
            "  warnings.warn(\"Line Search failed\")\n"
          ]
        },
        {
          "output_type": "stream",
          "name": "stdout",
          "text": [
            "Solver: newton-cg\n",
            "Accuracy of the logistic regression model on the training set: 0.7469\n",
            "Accuracy of the logistic regression model on the validation set: 0.7600\n",
            "Precision: 0.8871\n",
            "Recall: 0.2282\n",
            "F1-Score: 0.3630\n",
            "\n",
            "Solver: lbfgs\n",
            "Accuracy of the logistic regression model on the training set: 0.7025\n",
            "Accuracy of the logistic regression model on the validation set: 0.7040\n",
            "Precision: 0.6364\n",
            "Recall: 0.0290\n",
            "F1-Score: 0.0556\n",
            "\n",
            "Solver: sag\n",
            "Accuracy of the logistic regression model on the training set: 0.6913\n",
            "Accuracy of the logistic regression model on the validation set: 0.7002\n",
            "Precision: 0.0000\n",
            "Recall: 0.0000\n",
            "F1-Score: 0.0000\n",
            "\n",
            "Solver: saga\n",
            "Accuracy of the logistic regression model on the training set: 0.6913\n",
            "Accuracy of the logistic regression model on the validation set: 0.7002\n",
            "Precision: 0.0000\n",
            "Recall: 0.0000\n",
            "F1-Score: 0.0000\n",
            "\n"
          ]
        },
        {
          "output_type": "stream",
          "name": "stderr",
          "text": [
            "/usr/local/lib/python3.10/dist-packages/sklearn/linear_model/_sag.py:350: ConvergenceWarning: The max_iter was reached which means the coef_ did not converge\n",
            "  warnings.warn(\n",
            "/usr/local/lib/python3.10/dist-packages/sklearn/metrics/_classification.py:1344: UndefinedMetricWarning: Precision is ill-defined and being set to 0.0 due to no predicted samples. Use `zero_division` parameter to control this behavior.\n",
            "  _warn_prf(average, modifier, msg_start, len(result))\n",
            "/usr/local/lib/python3.10/dist-packages/sklearn/linear_model/_sag.py:350: ConvergenceWarning: The max_iter was reached which means the coef_ did not converge\n",
            "  warnings.warn(\n",
            "/usr/local/lib/python3.10/dist-packages/sklearn/metrics/_classification.py:1344: UndefinedMetricWarning: Precision is ill-defined and being set to 0.0 due to no predicted samples. Use `zero_division` parameter to control this behavior.\n",
            "  _warn_prf(average, modifier, msg_start, len(result))\n"
          ]
        }
      ],
      "source": [
        "def run_all_solvers(features_train, target_train, features_valid, target_valid):\n",
        "  solvers = ['liblinear', 'newton-cg', 'lbfgs', 'sag', 'saga']\n",
        "  for solver in solvers:\n",
        "    model = LogisticRegression(random_state=12345, solver=solver)\n",
        "    model.fit(features_train, target_train)\n",
        "\n",
        "    # Predict on validation set\n",
        "    y_pred = model.predict(features_valid)\n",
        "\n",
        "    # Calculate classification metrics\n",
        "    precision = precision_score(target_valid, y_pred)\n",
        "    recall = recall_score(target_valid, y_pred)\n",
        "    f1 = f1_score(target_valid, y_pred)\n",
        "\n",
        "    # Print results\n",
        "    print(f\"Solver: {solver}\")\n",
        "    print(f\"Accuracy of the logistic regression model on the training set: {model.score(features_train, target_train):.4f}\")\n",
        "    print(f\"Accuracy of the logistic regression model on the validation set: {model.score(features_valid, target_valid):.4f}\")\n",
        "    print(f\"Precision: {precision:.4f}\")\n",
        "    print(f\"Recall: {recall:.4f}\")\n",
        "    print(f\"F1-Score: {f1:.4f}\")\n",
        "    print()\n",
        "\n",
        "# Run the function with your data (replace with your actual data)\n",
        "# ... (assuming features_train, target_train, features_valid, target_valid are defined)\n",
        "run_all_solvers(features_train, target_train, features_valid, target_valid)\n"
      ]
    },
    {
      "cell_type": "markdown",
      "source": [
        "### Step 4.3.1: Conclusion\n",
        "\n",
        "This was one of the more challenging models to assess because of the complexity of the hyperparameters. I decided to iterate through the solver options by makign them into a list. The result was that the newton-cg optimization was ideal, followed by liblinear, then lbfgs – all of which are optimization functions with different recommended uses. The documentation predicted that liblinear would be the best, but for this exercise I am using Precision as the primary metric, then recall and F-score as a composite score."
      ],
      "metadata": {
        "id": "B7kL3kFBwTii"
      }
    },
    {
      "cell_type": "markdown",
      "source": [
        "## Step 4.4: Decision Tree Regression\n",
        "\n",
        "    Args:\n",
        "    class sklearn.tree.DecisionTreeRegressor(*, criterion='squared_error', splitter='best', max_depth=None, min_samples_split=2, min_samples_leaf=1, min_weight_fraction_leaf=0.0, max_features=None, random_state=None, max_leaf_nodes=None, min_impurity_decrease=0.0, ccp_alpha=0.0, monotonic_cst=None)\n",
        "    \n",
        "    #https://scikit-learn.org/stable/modules/generated/sklearn.tree.DecisionTreeRegressor.html#decisiontreeregressor"
      ],
      "metadata": {
        "id": "T1-VO5dqvgib"
      }
    },
    {
      "cell_type": "code",
      "execution_count": 28,
      "metadata": {
        "colab": {
          "base_uri": "https://localhost:8080/",
          "height": 659
        },
        "id": "8BVjBA0wbUuN",
        "outputId": "692266a8-7f18-4144-9407-655088577951"
      },
      "outputs": [
        {
          "output_type": "stream",
          "name": "stdout",
          "text": [
            "Model MSE at max_depth = 1 : 0.1881053579837439\n",
            "Model MAE at max_depth = 1 : 0.3733462318039433\n",
            "Model MASE at max_depth = 1 : 0.8893412504800813\n",
            "Model MSE at max_depth = 2 : 0.1679407026061912\n",
            "Model MAE at max_depth = 2 : 0.3367183778869814\n",
            "Model MASE at max_depth = 2 : 0.8020907076059305\n",
            "Model MSE at max_depth = 3 : 0.16278381779761109\n",
            "Model MAE at max_depth = 3 : 0.31973814948393026\n",
            "Model MASE at max_depth = 3 : 0.7616424151765668\n",
            "Model MSE at max_depth = 4 : 0.16242151586792403\n",
            "Model MAE at max_depth = 4 : 0.3122140612380063\n",
            "Model MASE at max_depth = 4 : 0.7437194217743824\n",
            "Model MSE at max_depth = 5 : 0.16152323478203273\n",
            "Model MAE at max_depth = 5 : 0.30317119860317976\n",
            "Model MASE at max_depth = 5 : 0.7221785835965928\n",
            "Model MSE at max_depth = 6 : 0.16430594443941385\n",
            "Model MAE at max_depth = 6 : 0.2969756335662203\n",
            "Model MASE at max_depth = 6 : 0.7074202411036822\n",
            "Model MSE at max_depth = 7 : 0.16749775987444526\n",
            "Model MAE at max_depth = 7 : 0.29035587710663524\n",
            "Model MASE at max_depth = 7 : 0.6916514399584425\n",
            "Model MSE at max_depth = 8 : 0.17440195682157858\n",
            "Model MAE at max_depth = 8 : 0.28708218991278206\n",
            "Model MASE at max_depth = 8 : 0.683853249392558\n",
            "Model MSE at max_depth = 9 : 0.17708779336960234\n",
            "Model MAE at max_depth = 9 : 0.2801549922559377\n",
            "Model MASE at max_depth = 9 : 0.6673520981777902\n",
            "\n",
            "MSE of the best model on the validation set (max_depth = 5): 0.16152323478203273\n",
            "MAE of the best model on the validation set (max_depth = 5): 0.30317119860317976\n",
            "MASE of the best model on the validation set (max_depth = 5): 0.7221785835965928\n",
            "\n"
          ]
        },
        {
          "output_type": "execute_result",
          "data": {
            "text/plain": [
              "DecisionTreeRegressor(max_depth=5, random_state=12345)"
            ],
            "text/html": [
              "<style>#sk-container-id-7 {color: black;background-color: white;}#sk-container-id-7 pre{padding: 0;}#sk-container-id-7 div.sk-toggleable {background-color: white;}#sk-container-id-7 label.sk-toggleable__label {cursor: pointer;display: block;width: 100%;margin-bottom: 0;padding: 0.3em;box-sizing: border-box;text-align: center;}#sk-container-id-7 label.sk-toggleable__label-arrow:before {content: \"▸\";float: left;margin-right: 0.25em;color: #696969;}#sk-container-id-7 label.sk-toggleable__label-arrow:hover:before {color: black;}#sk-container-id-7 div.sk-estimator:hover label.sk-toggleable__label-arrow:before {color: black;}#sk-container-id-7 div.sk-toggleable__content {max-height: 0;max-width: 0;overflow: hidden;text-align: left;background-color: #f0f8ff;}#sk-container-id-7 div.sk-toggleable__content pre {margin: 0.2em;color: black;border-radius: 0.25em;background-color: #f0f8ff;}#sk-container-id-7 input.sk-toggleable__control:checked~div.sk-toggleable__content {max-height: 200px;max-width: 100%;overflow: auto;}#sk-container-id-7 input.sk-toggleable__control:checked~label.sk-toggleable__label-arrow:before {content: \"▾\";}#sk-container-id-7 div.sk-estimator input.sk-toggleable__control:checked~label.sk-toggleable__label {background-color: #d4ebff;}#sk-container-id-7 div.sk-label input.sk-toggleable__control:checked~label.sk-toggleable__label {background-color: #d4ebff;}#sk-container-id-7 input.sk-hidden--visually {border: 0;clip: rect(1px 1px 1px 1px);clip: rect(1px, 1px, 1px, 1px);height: 1px;margin: -1px;overflow: hidden;padding: 0;position: absolute;width: 1px;}#sk-container-id-7 div.sk-estimator {font-family: monospace;background-color: #f0f8ff;border: 1px dotted black;border-radius: 0.25em;box-sizing: border-box;margin-bottom: 0.5em;}#sk-container-id-7 div.sk-estimator:hover {background-color: #d4ebff;}#sk-container-id-7 div.sk-parallel-item::after {content: \"\";width: 100%;border-bottom: 1px solid gray;flex-grow: 1;}#sk-container-id-7 div.sk-label:hover label.sk-toggleable__label {background-color: #d4ebff;}#sk-container-id-7 div.sk-serial::before {content: \"\";position: absolute;border-left: 1px solid gray;box-sizing: border-box;top: 0;bottom: 0;left: 50%;z-index: 0;}#sk-container-id-7 div.sk-serial {display: flex;flex-direction: column;align-items: center;background-color: white;padding-right: 0.2em;padding-left: 0.2em;position: relative;}#sk-container-id-7 div.sk-item {position: relative;z-index: 1;}#sk-container-id-7 div.sk-parallel {display: flex;align-items: stretch;justify-content: center;background-color: white;position: relative;}#sk-container-id-7 div.sk-item::before, #sk-container-id-7 div.sk-parallel-item::before {content: \"\";position: absolute;border-left: 1px solid gray;box-sizing: border-box;top: 0;bottom: 0;left: 50%;z-index: -1;}#sk-container-id-7 div.sk-parallel-item {display: flex;flex-direction: column;z-index: 1;position: relative;background-color: white;}#sk-container-id-7 div.sk-parallel-item:first-child::after {align-self: flex-end;width: 50%;}#sk-container-id-7 div.sk-parallel-item:last-child::after {align-self: flex-start;width: 50%;}#sk-container-id-7 div.sk-parallel-item:only-child::after {width: 0;}#sk-container-id-7 div.sk-dashed-wrapped {border: 1px dashed gray;margin: 0 0.4em 0.5em 0.4em;box-sizing: border-box;padding-bottom: 0.4em;background-color: white;}#sk-container-id-7 div.sk-label label {font-family: monospace;font-weight: bold;display: inline-block;line-height: 1.2em;}#sk-container-id-7 div.sk-label-container {text-align: center;}#sk-container-id-7 div.sk-container {/* jupyter's `normalize.less` sets `[hidden] { display: none; }` but bootstrap.min.css set `[hidden] { display: none !important; }` so we also need the `!important` here to be able to override the default hidden behavior on the sphinx rendered scikit-learn.org. See: https://github.com/scikit-learn/scikit-learn/issues/21755 */display: inline-block !important;position: relative;}#sk-container-id-7 div.sk-text-repr-fallback {display: none;}</style><div id=\"sk-container-id-7\" class=\"sk-top-container\"><div class=\"sk-text-repr-fallback\"><pre>DecisionTreeRegressor(max_depth=5, random_state=12345)</pre><b>In a Jupyter environment, please rerun this cell to show the HTML representation or trust the notebook. <br />On GitHub, the HTML representation is unable to render, please try loading this page with nbviewer.org.</b></div><div class=\"sk-container\" hidden><div class=\"sk-item\"><div class=\"sk-estimator sk-toggleable\"><input class=\"sk-toggleable__control sk-hidden--visually\" id=\"sk-estimator-id-7\" type=\"checkbox\" checked><label for=\"sk-estimator-id-7\" class=\"sk-toggleable__label sk-toggleable__label-arrow\">DecisionTreeRegressor</label><div class=\"sk-toggleable__content\"><pre>DecisionTreeRegressor(max_depth=5, random_state=12345)</pre></div></div></div></div></div>"
            ]
          },
          "metadata": {},
          "execution_count": 28
        }
      ],
      "source": [
        "# Decision Tree Regression\n",
        "\n",
        "best_score_dt_mse = float('inf')  # Initialize with infinity\n",
        "best_score_dt_mae = float('inf')  # Initialize with infinity\n",
        "best_score_dt_mase = float('inf')  # Initialize with infinity\n",
        "best_depth = 0\n",
        "\n",
        "for depth in range(1, 10):\n",
        "    model = DecisionTreeRegressor(max_depth=depth, random_state=12345)\n",
        "    model.fit(features_train, target_train)\n",
        "    predictions_valid = model.predict(features_valid)\n",
        "\n",
        "    mse = mean_squared_error(target_valid, predictions_valid)\n",
        "    mae = mean_absolute_error(target_valid, predictions_valid)\n",
        "    mase = mae / mean_absolute_error(target_valid, [target_valid.mean()] * len(target_valid))\n",
        "\n",
        "    print('Model MSE at max_depth =', depth, ': ', end='')\n",
        "    print(mse)\n",
        "    print('Model MAE at max_depth =', depth, ': ', end='')\n",
        "    print(mae)\n",
        "    print('Model MASE at max_depth =', depth, ': ', end='')\n",
        "    print(mase)\n",
        "\n",
        "    if mse < best_score_dt_mse:\n",
        "        best_score_dt_mse = mse\n",
        "        best_score_dt_mae = mae\n",
        "        best_score_dt_mase = mase\n",
        "        best_depth = depth\n",
        "\n",
        "print()\n",
        "print(\"MSE of the best model on the validation set (max_depth = {}): {}\".format(best_depth, best_score_dt_mse))\n",
        "print(\"MAE of the best model on the validation set (max_depth = {}): {}\".format(best_depth, best_score_dt_mae))\n",
        "print(\"MASE of the best model on the validation set (max_depth = {}): {}\".format(best_depth, best_score_dt_mase))\n",
        "print()\n",
        "\n",
        "final_model3 = DecisionTreeRegressor(random_state=12345, max_depth=best_depth)\n",
        "final_model3.fit(features_train, target_train)"
      ]
    },
    {
      "cell_type": "markdown",
      "source": [
        "### Step 4.4.1: Conclusion\n",
        "\n",
        "Here, we switch to a sklearn set of regressions that were covered in the Triple Ten course. I wrote it in a way that the MSE, MAE, and MASE are evaluated for each of the max_depth iterations so that the best can be identified. The metrics are not comparable to those used in the classification models. We aim for MSE and MAE = [0 | 0, 1] and MASE = [0, 1 | 1], so the model is ok at best.\n"
      ],
      "metadata": {
        "id": "d-ww75zfwVTp"
      }
    },
    {
      "cell_type": "markdown",
      "source": [
        "## Step 4.5: Random Forest Regression\n",
        "\n",
        "    Args:\n",
        "    class sklearn.ensemble.RandomForestRegressor(n_estimators=100, *, criterion='squared_error', max_depth=None, min_samples_split=2, min_samples_leaf=1, min_weight_fraction_leaf=0.0, max_features=1.0, max_leaf_nodes=None, min_impurity_decrease=0.0, bootstrap=True, oob_score=False, n_jobs=None, random_state=None, verbose=0, warm_start=False, ccp_alpha=0.0, max_samples=None, monotonic_cst=None)\n",
        "    \n",
        "    #https://scikit-learn.org/stable/modules/generated/sklearn.ensemble.RandomForestRegressor.html#randomforestregressor"
      ],
      "metadata": {
        "id": "M9o8w9srvqV_"
      }
    },
    {
      "cell_type": "code",
      "execution_count": null,
      "metadata": {
        "colab": {
          "base_uri": "https://localhost:8080/",
          "height": 1000
        },
        "id": "iUj4lVd0bUw3",
        "outputId": "617b9887-eb1c-44c8-ebb2-a4ed3ef47139"
      },
      "outputs": [
        {
          "output_type": "stream",
          "name": "stdout",
          "text": [
            "Model MSE at max_depth = 1 and n_estimators = 10 : 0.18038746585481125\n",
            "Model MAE at max_depth = 1 and n_estimators = 10 : 0.37341294706081235\n",
            "Model MASE at max_depth = 1 and n_estimators = 10 : 0.8895001716768572\n",
            "Model MSE at max_depth = 1 and n_estimators = 20 : 0.1799633673432735\n",
            "Model MAE at max_depth = 1 and n_estimators = 20 : 0.3723234746440889\n",
            "Model MASE at max_depth = 1 and n_estimators = 20 : 0.8869049593004773\n",
            "Model MSE at max_depth = 1 and n_estimators = 30 : 0.18214655344997355\n",
            "Model MAE at max_depth = 1 and n_estimators = 30 : 0.3725071741303293\n",
            "Model MASE at max_depth = 1 and n_estimators = 30 : 0.8873425464967273\n",
            "Model MSE at max_depth = 1 and n_estimators = 40 : 0.1822265638427286\n",
            "Model MAE at max_depth = 1 and n_estimators = 40 : 0.37213822735672913\n",
            "Model MASE at max_depth = 1 and n_estimators = 40 : 0.8864636851154064\n",
            "Model MSE at max_depth = 1 and n_estimators = 50 : 0.1831012629914027\n",
            "Model MAE at max_depth = 1 and n_estimators = 50 : 0.37189158915262177\n",
            "Model MASE at max_depth = 1 and n_estimators = 50 : 0.885876172747069\n",
            "Model MSE at max_depth = 2 and n_estimators = 10 : 0.1651448038984978\n",
            "Model MAE at max_depth = 2 and n_estimators = 10 : 0.34294391536243224\n",
            "Model MASE at max_depth = 2 and n_estimators = 10 : 0.8169204468979974\n",
            "Model MSE at max_depth = 2 and n_estimators = 20 : 0.16494467073142824\n",
            "Model MAE at max_depth = 2 and n_estimators = 20 : 0.3401827038009983\n",
            "Model MASE at max_depth = 2 and n_estimators = 20 : 0.8103430151906506\n",
            "Model MSE at max_depth = 2 and n_estimators = 30 : 0.1648417462537815\n",
            "Model MAE at max_depth = 2 and n_estimators = 30 : 0.3385007562887145\n",
            "Model MASE at max_depth = 2 and n_estimators = 30 : 0.8063364786934459\n",
            "Model MSE at max_depth = 2 and n_estimators = 40 : 0.16524740487003844\n",
            "Model MAE at max_depth = 2 and n_estimators = 40 : 0.33830388006351664\n",
            "Model MASE at max_depth = 2 and n_estimators = 40 : 0.8058675034276148\n",
            "Model MSE at max_depth = 2 and n_estimators = 50 : 0.1649678787879677\n",
            "Model MAE at max_depth = 2 and n_estimators = 50 : 0.33744748230066646\n",
            "Model MASE at max_depth = 2 and n_estimators = 50 : 0.8038274939339032\n",
            "Model MSE at max_depth = 3 and n_estimators = 10 : 0.16139840060074243\n",
            "Model MAE at max_depth = 3 and n_estimators = 10 : 0.32081364201459833\n",
            "Model MASE at max_depth = 3 and n_estimators = 10 : 0.7642043263213099\n",
            "Model MSE at max_depth = 3 and n_estimators = 20 : 0.16081059008002394\n",
            "Model MAE at max_depth = 3 and n_estimators = 20 : 0.3195669803782573\n",
            "Model MASE at max_depth = 3 and n_estimators = 20 : 0.7612346763713639\n",
            "Model MSE at max_depth = 3 and n_estimators = 30 : 0.16089677974265273\n",
            "Model MAE at max_depth = 3 and n_estimators = 30 : 0.32009539342582805\n",
            "Model MASE at max_depth = 3 and n_estimators = 30 : 0.762493399455901\n",
            "Model MSE at max_depth = 3 and n_estimators = 40 : 0.1612751433661586\n",
            "Model MAE at max_depth = 3 and n_estimators = 40 : 0.3201828580480094\n",
            "Model MASE at max_depth = 3 and n_estimators = 40 : 0.762701747337404\n",
            "Model MSE at max_depth = 3 and n_estimators = 50 : 0.16102617634382213\n",
            "Model MAE at max_depth = 3 and n_estimators = 50 : 0.31938853355306723\n",
            "Model MASE at max_depth = 3 and n_estimators = 50 : 0.760809601443215\n",
            "Model MSE at max_depth = 4 and n_estimators = 10 : 0.15464246647590602\n",
            "Model MAE at max_depth = 4 and n_estimators = 10 : 0.3102005646456614\n",
            "Model MASE at max_depth = 4 and n_estimators = 10 : 0.7389231082596561\n",
            "Model MSE at max_depth = 4 and n_estimators = 20 : 0.15376080356259822\n",
            "Model MAE at max_depth = 4 and n_estimators = 20 : 0.30884977838882155\n",
            "Model MASE at max_depth = 4 and n_estimators = 20 : 0.7357054249500248\n",
            "Model MSE at max_depth = 4 and n_estimators = 30 : 0.1539472453882517\n",
            "Model MAE at max_depth = 4 and n_estimators = 30 : 0.30899248087820674\n",
            "Model MASE at max_depth = 4 and n_estimators = 30 : 0.7360453539476827\n",
            "Model MSE at max_depth = 4 and n_estimators = 40 : 0.15434145042006758\n",
            "Model MAE at max_depth = 4 and n_estimators = 40 : 0.3093535601597456\n",
            "Model MASE at max_depth = 4 and n_estimators = 40 : 0.7369054743196349\n",
            "Model MSE at max_depth = 4 and n_estimators = 50 : 0.154036902957722\n",
            "Model MAE at max_depth = 4 and n_estimators = 50 : 0.30847393667256007\n",
            "Model MASE at max_depth = 4 and n_estimators = 50 : 0.7348101392515258\n",
            "Model MSE at max_depth = 5 and n_estimators = 10 : 0.15459070861966556\n",
            "Model MAE at max_depth = 5 and n_estimators = 10 : 0.3039179644658593\n",
            "Model MASE at max_depth = 5 and n_estimators = 10 : 0.723957440940143\n",
            "Model MSE at max_depth = 5 and n_estimators = 20 : 0.15376889279135794\n",
            "Model MAE at max_depth = 5 and n_estimators = 20 : 0.3030213885389245\n",
            "Model MASE at max_depth = 5 and n_estimators = 20 : 0.72182172377445\n",
            "Model MSE at max_depth = 5 and n_estimators = 30 : 0.15281109609183868\n",
            "Model MAE at max_depth = 5 and n_estimators = 30 : 0.30166251915116854\n",
            "Model MASE at max_depth = 5 and n_estimators = 30 : 0.7185847857860665\n",
            "Model MSE at max_depth = 5 and n_estimators = 40 : 0.15250061747183474\n",
            "Model MAE at max_depth = 5 and n_estimators = 40 : 0.30177033725747776\n",
            "Model MASE at max_depth = 5 and n_estimators = 40 : 0.7188416173309468\n",
            "Model MSE at max_depth = 5 and n_estimators = 50 : 0.15206633706471107\n",
            "Model MAE at max_depth = 5 and n_estimators = 50 : 0.3007567363377283\n",
            "Model MASE at max_depth = 5 and n_estimators = 50 : 0.7164271370639246\n",
            "Model MSE at max_depth = 6 and n_estimators = 10 : 0.15299645171220935\n",
            "Model MAE at max_depth = 6 and n_estimators = 10 : 0.29649277737628493\n",
            "Model MASE at max_depth = 6 and n_estimators = 10 : 0.7062700381789486\n",
            "Model MSE at max_depth = 6 and n_estimators = 20 : 0.1526607549914231\n",
            "Model MAE at max_depth = 6 and n_estimators = 20 : 0.29659171215785723\n",
            "Model MASE at max_depth = 6 and n_estimators = 20 : 0.7065057089179684\n",
            "Model MSE at max_depth = 6 and n_estimators = 30 : 0.1518095025005846\n",
            "Model MAE at max_depth = 6 and n_estimators = 30 : 0.29556961837944845\n",
            "Model MASE at max_depth = 6 and n_estimators = 30 : 0.7040709979672085\n",
            "Model MSE at max_depth = 6 and n_estimators = 40 : 0.15155369489568155\n",
            "Model MAE at max_depth = 6 and n_estimators = 40 : 0.2956163088400417\n",
            "Model MASE at max_depth = 6 and n_estimators = 40 : 0.7041822184619457\n",
            "Model MSE at max_depth = 6 and n_estimators = 50 : 0.1511497431798292\n",
            "Model MAE at max_depth = 6 and n_estimators = 50 : 0.2949365325723976\n",
            "Model MASE at max_depth = 6 and n_estimators = 50 : 0.7025629358111146\n",
            "Model MSE at max_depth = 7 and n_estimators = 10 : 0.1525851131083181\n",
            "Model MAE at max_depth = 7 and n_estimators = 10 : 0.29095776487807407\n",
            "Model MASE at max_depth = 7 and n_estimators = 10 : 0.6930851858428289\n",
            "Model MSE at max_depth = 7 and n_estimators = 20 : 0.15195038743118905\n",
            "Model MAE at max_depth = 7 and n_estimators = 20 : 0.29100248074209434\n",
            "Model MASE at max_depth = 7 and n_estimators = 20 : 0.6931917026870781\n",
            "Model MSE at max_depth = 7 and n_estimators = 30 : 0.1511322130887409\n",
            "Model MAE at max_depth = 7 and n_estimators = 30 : 0.2898023132162799\n",
            "Model MASE at max_depth = 7 and n_estimators = 30 : 0.6903328055099561\n",
            "Model MSE at max_depth = 7 and n_estimators = 40 : 0.15125418443119773\n",
            "Model MAE at max_depth = 7 and n_estimators = 40 : 0.2901371603571557\n",
            "Model MASE at max_depth = 7 and n_estimators = 40 : 0.6911304387780014\n",
            "Model MSE at max_depth = 7 and n_estimators = 50 : 0.15072260805916463\n",
            "Model MAE at max_depth = 7 and n_estimators = 50 : 0.2891820105729348\n",
            "Model MASE at max_depth = 7 and n_estimators = 50 : 0.6888551938950134\n",
            "Model MSE at max_depth = 8 and n_estimators = 10 : 0.15169187270238932\n",
            "Model MAE at max_depth = 8 and n_estimators = 10 : 0.2827272993541662\n",
            "Model MASE at max_depth = 8 and n_estimators = 10 : 0.6734795440081759\n",
            "Model MSE at max_depth = 8 and n_estimators = 20 : 0.15113533887287264\n",
            "Model MAE at max_depth = 8 and n_estimators = 20 : 0.283261929087587\n",
            "Model MASE at max_depth = 8 and n_estimators = 20 : 0.6747530757467096\n",
            "Model MSE at max_depth = 8 and n_estimators = 30 : 0.149586784864093\n",
            "Model MAE at max_depth = 8 and n_estimators = 30 : 0.2824866108578424\n",
            "Model MASE at max_depth = 8 and n_estimators = 30 : 0.6729062043302514\n",
            "Model MSE at max_depth = 8 and n_estimators = 40 : 0.14979442073195734\n",
            "Model MAE at max_depth = 8 and n_estimators = 40 : 0.2829776555322816\n",
            "Model MASE at max_depth = 8 and n_estimators = 40 : 0.6740759128945973\n",
            "Model MSE at max_depth = 8 and n_estimators = 50 : 0.14961150538747006\n",
            "Model MAE at max_depth = 8 and n_estimators = 50 : 0.282767266313049\n",
            "Model MASE at max_depth = 8 and n_estimators = 50 : 0.6735747485720976\n",
            "Model MSE at max_depth = 9 and n_estimators = 10 : 0.15240081412821915\n",
            "Model MAE at max_depth = 9 and n_estimators = 10 : 0.27795806251915717\n",
            "Model MASE at max_depth = 9 and n_estimators = 10 : 0.66211883191477\n",
            "Model MSE at max_depth = 9 and n_estimators = 20 : 0.15202471865042558\n",
            "Model MAE at max_depth = 9 and n_estimators = 20 : 0.2796905515294913\n",
            "Model MASE at max_depth = 9 and n_estimators = 20 : 0.6662457623928112\n",
            "Model MSE at max_depth = 9 and n_estimators = 30 : 0.14947769257083213\n",
            "Model MAE at max_depth = 9 and n_estimators = 30 : 0.2780323782459965\n",
            "Model MASE at max_depth = 9 and n_estimators = 30 : 0.6622958580524607\n",
            "Model MSE at max_depth = 9 and n_estimators = 40 : 0.14984008982187158\n",
            "Model MAE at max_depth = 9 and n_estimators = 40 : 0.2787663633151644\n",
            "Model MASE at max_depth = 9 and n_estimators = 40 : 0.664044270500856\n",
            "Model MSE at max_depth = 9 and n_estimators = 50 : 0.14976113737519647\n",
            "Model MAE at max_depth = 9 and n_estimators = 50 : 0.27873661395485405\n",
            "Model MASE at max_depth = 9 and n_estimators = 50 : 0.6639734050921666\n",
            "Model MSE at max_depth = 10 and n_estimators = 10 : 0.15313250550120397\n",
            "Model MAE at max_depth = 10 and n_estimators = 10 : 0.2740702369988037\n",
            "Model MASE at max_depth = 10 and n_estimators = 10 : 0.6528577136406869\n",
            "Model MSE at max_depth = 10 and n_estimators = 20 : 0.15143322222386693\n",
            "Model MAE at max_depth = 10 and n_estimators = 20 : 0.2753586734841808\n",
            "Model MASE at max_depth = 10 and n_estimators = 20 : 0.6559268746967203\n",
            "Model MSE at max_depth = 10 and n_estimators = 30 : 0.15006931617086972\n",
            "Model MAE at max_depth = 10 and n_estimators = 30 : 0.27512778441792235\n",
            "Model MASE at max_depth = 10 and n_estimators = 30 : 0.6553768780624531\n",
            "Model MSE at max_depth = 10 and n_estimators = 40 : 0.15020488025379378\n",
            "Model MAE at max_depth = 10 and n_estimators = 40 : 0.2753640317644368\n",
            "Model MASE at max_depth = 10 and n_estimators = 40 : 0.6559396385584051\n",
            "Model MSE at max_depth = 10 and n_estimators = 50 : 0.15024951635302647\n",
            "Model MAE at max_depth = 10 and n_estimators = 50 : 0.2756908836161451\n",
            "Model MASE at max_depth = 10 and n_estimators = 50 : 0.6567182263939255\n",
            "\n",
            "MSE of the best model on the validation set (max_depth = 9 and n_estimators = 30): 0.14947769257083213\n",
            "MAE of the best model on the validation set (max_depth = 9 and n_estimators = 30): 0.2780323782459965\n",
            "MASE of the best model on the validation set (max_depth = 9 and n_estimators = 30): 0.6622958580524607\n",
            "\n"
          ]
        },
        {
          "output_type": "execute_result",
          "data": {
            "text/plain": [
              "RandomForestRegressor(max_depth=9, n_estimators=30, random_state=12345)"
            ],
            "text/html": [
              "<style>#sk-container-id-4 {color: black;background-color: white;}#sk-container-id-4 pre{padding: 0;}#sk-container-id-4 div.sk-toggleable {background-color: white;}#sk-container-id-4 label.sk-toggleable__label {cursor: pointer;display: block;width: 100%;margin-bottom: 0;padding: 0.3em;box-sizing: border-box;text-align: center;}#sk-container-id-4 label.sk-toggleable__label-arrow:before {content: \"▸\";float: left;margin-right: 0.25em;color: #696969;}#sk-container-id-4 label.sk-toggleable__label-arrow:hover:before {color: black;}#sk-container-id-4 div.sk-estimator:hover label.sk-toggleable__label-arrow:before {color: black;}#sk-container-id-4 div.sk-toggleable__content {max-height: 0;max-width: 0;overflow: hidden;text-align: left;background-color: #f0f8ff;}#sk-container-id-4 div.sk-toggleable__content pre {margin: 0.2em;color: black;border-radius: 0.25em;background-color: #f0f8ff;}#sk-container-id-4 input.sk-toggleable__control:checked~div.sk-toggleable__content {max-height: 200px;max-width: 100%;overflow: auto;}#sk-container-id-4 input.sk-toggleable__control:checked~label.sk-toggleable__label-arrow:before {content: \"▾\";}#sk-container-id-4 div.sk-estimator input.sk-toggleable__control:checked~label.sk-toggleable__label {background-color: #d4ebff;}#sk-container-id-4 div.sk-label input.sk-toggleable__control:checked~label.sk-toggleable__label {background-color: #d4ebff;}#sk-container-id-4 input.sk-hidden--visually {border: 0;clip: rect(1px 1px 1px 1px);clip: rect(1px, 1px, 1px, 1px);height: 1px;margin: -1px;overflow: hidden;padding: 0;position: absolute;width: 1px;}#sk-container-id-4 div.sk-estimator {font-family: monospace;background-color: #f0f8ff;border: 1px dotted black;border-radius: 0.25em;box-sizing: border-box;margin-bottom: 0.5em;}#sk-container-id-4 div.sk-estimator:hover {background-color: #d4ebff;}#sk-container-id-4 div.sk-parallel-item::after {content: \"\";width: 100%;border-bottom: 1px solid gray;flex-grow: 1;}#sk-container-id-4 div.sk-label:hover label.sk-toggleable__label {background-color: #d4ebff;}#sk-container-id-4 div.sk-serial::before {content: \"\";position: absolute;border-left: 1px solid gray;box-sizing: border-box;top: 0;bottom: 0;left: 50%;z-index: 0;}#sk-container-id-4 div.sk-serial {display: flex;flex-direction: column;align-items: center;background-color: white;padding-right: 0.2em;padding-left: 0.2em;position: relative;}#sk-container-id-4 div.sk-item {position: relative;z-index: 1;}#sk-container-id-4 div.sk-parallel {display: flex;align-items: stretch;justify-content: center;background-color: white;position: relative;}#sk-container-id-4 div.sk-item::before, #sk-container-id-4 div.sk-parallel-item::before {content: \"\";position: absolute;border-left: 1px solid gray;box-sizing: border-box;top: 0;bottom: 0;left: 50%;z-index: -1;}#sk-container-id-4 div.sk-parallel-item {display: flex;flex-direction: column;z-index: 1;position: relative;background-color: white;}#sk-container-id-4 div.sk-parallel-item:first-child::after {align-self: flex-end;width: 50%;}#sk-container-id-4 div.sk-parallel-item:last-child::after {align-self: flex-start;width: 50%;}#sk-container-id-4 div.sk-parallel-item:only-child::after {width: 0;}#sk-container-id-4 div.sk-dashed-wrapped {border: 1px dashed gray;margin: 0 0.4em 0.5em 0.4em;box-sizing: border-box;padding-bottom: 0.4em;background-color: white;}#sk-container-id-4 div.sk-label label {font-family: monospace;font-weight: bold;display: inline-block;line-height: 1.2em;}#sk-container-id-4 div.sk-label-container {text-align: center;}#sk-container-id-4 div.sk-container {/* jupyter's `normalize.less` sets `[hidden] { display: none; }` but bootstrap.min.css set `[hidden] { display: none !important; }` so we also need the `!important` here to be able to override the default hidden behavior on the sphinx rendered scikit-learn.org. See: https://github.com/scikit-learn/scikit-learn/issues/21755 */display: inline-block !important;position: relative;}#sk-container-id-4 div.sk-text-repr-fallback {display: none;}</style><div id=\"sk-container-id-4\" class=\"sk-top-container\"><div class=\"sk-text-repr-fallback\"><pre>RandomForestRegressor(max_depth=9, n_estimators=30, random_state=12345)</pre><b>In a Jupyter environment, please rerun this cell to show the HTML representation or trust the notebook. <br />On GitHub, the HTML representation is unable to render, please try loading this page with nbviewer.org.</b></div><div class=\"sk-container\" hidden><div class=\"sk-item\"><div class=\"sk-estimator sk-toggleable\"><input class=\"sk-toggleable__control sk-hidden--visually\" id=\"sk-estimator-id-4\" type=\"checkbox\" checked><label for=\"sk-estimator-id-4\" class=\"sk-toggleable__label sk-toggleable__label-arrow\">RandomForestRegressor</label><div class=\"sk-toggleable__content\"><pre>RandomForestRegressor(max_depth=9, n_estimators=30, random_state=12345)</pre></div></div></div></div></div>"
            ]
          },
          "metadata": {},
          "execution_count": 21
        }
      ],
      "source": [
        "# Random Forest Regression\n",
        "\n",
        "best_model = None\n",
        "best_score_dt_mse = 10000\n",
        "best_score_dt_mae = 10000\n",
        "best_score_dt_mase = 10000\n",
        "best_depth = 0\n",
        "best_est = 0\n",
        "for depth in range (1, 11):\n",
        "    for est in range(10, 51, 10):\n",
        "        model = RandomForestRegressor(random_state=12345, n_estimators=est, max_depth=depth)\n",
        "        model.fit(features_train, target_train)\n",
        "        predictions_valid = model.predict(features_valid)\n",
        "\n",
        "        mse = mean_squared_error(target_valid, predictions_valid)\n",
        "        mae = mean_absolute_error(target_valid, predictions_valid)\n",
        "        mase = mae / mean_absolute_error(target_valid, [target_valid.mean()] * len(target_valid))\n",
        "\n",
        "        print('Model MSE at max_depth =', depth, 'and n_estimators =', est, ': ', end='')\n",
        "        print(mse)\n",
        "        print('Model MAE at max_depth =', depth, 'and n_estimators =', est, ': ', end='')\n",
        "        print(mae)\n",
        "        print('Model MASE at max_depth =', depth, 'and n_estimators =', est, ': ', end='')\n",
        "        print(mase)\n",
        "\n",
        "        if mse < best_score_dt_mse:\n",
        "            best_score_dt_mse = mse\n",
        "            best_score_dt_mae = mae\n",
        "            best_score_dt_mase = mase\n",
        "            best_depth = depth\n",
        "            best_est = est\n",
        "\n",
        "print()\n",
        "print(\"MSE of the best model on the validation set (max_depth = {} and n_estimators = {}): {}\".format(best_depth, best_est, best_score_dt_mse))\n",
        "print(\"MAE of the best model on the validation set (max_depth = {} and n_estimators = {}): {}\".format(best_depth, best_est, best_score_dt_mae))\n",
        "print(\"MASE of the best model on the validation set (max_depth = {} and n_estimators = {}): {}\".format(best_depth, best_est, best_score_dt_mase))\n",
        "print()\n",
        "\n",
        "final_model4 = RandomForestRegressor(random_state=12345, n_estimators=best_est, max_depth=best_depth)\n",
        "final_model4.fit(features_train, target_train)"
      ]
    },
    {
      "cell_type": "markdown",
      "source": [
        "### Step 4.5.1: Conclusion\n",
        "\n",
        "In this example, the model is tested in a partial factorial experiment where max_depth and n_estimators are tuned at the same time. Here, the results are complex because of the criteria previously specified in 4.4.1, however it is conclusively a more poor model across the three metrics."
      ],
      "metadata": {
        "id": "Z0hH5LuBwWyV"
      }
    },
    {
      "cell_type": "markdown",
      "source": [
        "## Step 4.6: Linear Regression\n",
        "\n",
        "    Args:\n",
        "    class sklearn.linear_model.LinearRegression(*, fit_intercept=True, copy_X=True, n_jobs=None, positive=False)\n",
        "    \n",
        "    #https://scikit-learn.org/stable/modules/generated/sklearn.linear_model.LinearRegression.html#linearregression"
      ],
      "metadata": {
        "id": "PWh4eeSSv2bU"
      }
    },
    {
      "cell_type": "code",
      "execution_count": 32,
      "metadata": {
        "colab": {
          "base_uri": "https://localhost:8080/",
          "height": 166
        },
        "id": "M2t0il1qbVBE",
        "outputId": "0ec9e378-1c15-4c8b-92e9-99dfd8071caf"
      },
      "outputs": [
        {
          "output_type": "stream",
          "name": "stdout",
          "text": [
            "\n",
            "MSE of the best model on the validation set: 0.19172411540231815\n",
            "MAE of the best model on the validation set: 0.3850504877330112\n",
            "MASE of the best model on the validation set: 0.917221745091213\n",
            "\n"
          ]
        },
        {
          "output_type": "execute_result",
          "data": {
            "text/plain": [
              "LinearRegression()"
            ],
            "text/html": [
              "<style>#sk-container-id-10 {color: black;background-color: white;}#sk-container-id-10 pre{padding: 0;}#sk-container-id-10 div.sk-toggleable {background-color: white;}#sk-container-id-10 label.sk-toggleable__label {cursor: pointer;display: block;width: 100%;margin-bottom: 0;padding: 0.3em;box-sizing: border-box;text-align: center;}#sk-container-id-10 label.sk-toggleable__label-arrow:before {content: \"▸\";float: left;margin-right: 0.25em;color: #696969;}#sk-container-id-10 label.sk-toggleable__label-arrow:hover:before {color: black;}#sk-container-id-10 div.sk-estimator:hover label.sk-toggleable__label-arrow:before {color: black;}#sk-container-id-10 div.sk-toggleable__content {max-height: 0;max-width: 0;overflow: hidden;text-align: left;background-color: #f0f8ff;}#sk-container-id-10 div.sk-toggleable__content pre {margin: 0.2em;color: black;border-radius: 0.25em;background-color: #f0f8ff;}#sk-container-id-10 input.sk-toggleable__control:checked~div.sk-toggleable__content {max-height: 200px;max-width: 100%;overflow: auto;}#sk-container-id-10 input.sk-toggleable__control:checked~label.sk-toggleable__label-arrow:before {content: \"▾\";}#sk-container-id-10 div.sk-estimator input.sk-toggleable__control:checked~label.sk-toggleable__label {background-color: #d4ebff;}#sk-container-id-10 div.sk-label input.sk-toggleable__control:checked~label.sk-toggleable__label {background-color: #d4ebff;}#sk-container-id-10 input.sk-hidden--visually {border: 0;clip: rect(1px 1px 1px 1px);clip: rect(1px, 1px, 1px, 1px);height: 1px;margin: -1px;overflow: hidden;padding: 0;position: absolute;width: 1px;}#sk-container-id-10 div.sk-estimator {font-family: monospace;background-color: #f0f8ff;border: 1px dotted black;border-radius: 0.25em;box-sizing: border-box;margin-bottom: 0.5em;}#sk-container-id-10 div.sk-estimator:hover {background-color: #d4ebff;}#sk-container-id-10 div.sk-parallel-item::after {content: \"\";width: 100%;border-bottom: 1px solid gray;flex-grow: 1;}#sk-container-id-10 div.sk-label:hover label.sk-toggleable__label {background-color: #d4ebff;}#sk-container-id-10 div.sk-serial::before {content: \"\";position: absolute;border-left: 1px solid gray;box-sizing: border-box;top: 0;bottom: 0;left: 50%;z-index: 0;}#sk-container-id-10 div.sk-serial {display: flex;flex-direction: column;align-items: center;background-color: white;padding-right: 0.2em;padding-left: 0.2em;position: relative;}#sk-container-id-10 div.sk-item {position: relative;z-index: 1;}#sk-container-id-10 div.sk-parallel {display: flex;align-items: stretch;justify-content: center;background-color: white;position: relative;}#sk-container-id-10 div.sk-item::before, #sk-container-id-10 div.sk-parallel-item::before {content: \"\";position: absolute;border-left: 1px solid gray;box-sizing: border-box;top: 0;bottom: 0;left: 50%;z-index: -1;}#sk-container-id-10 div.sk-parallel-item {display: flex;flex-direction: column;z-index: 1;position: relative;background-color: white;}#sk-container-id-10 div.sk-parallel-item:first-child::after {align-self: flex-end;width: 50%;}#sk-container-id-10 div.sk-parallel-item:last-child::after {align-self: flex-start;width: 50%;}#sk-container-id-10 div.sk-parallel-item:only-child::after {width: 0;}#sk-container-id-10 div.sk-dashed-wrapped {border: 1px dashed gray;margin: 0 0.4em 0.5em 0.4em;box-sizing: border-box;padding-bottom: 0.4em;background-color: white;}#sk-container-id-10 div.sk-label label {font-family: monospace;font-weight: bold;display: inline-block;line-height: 1.2em;}#sk-container-id-10 div.sk-label-container {text-align: center;}#sk-container-id-10 div.sk-container {/* jupyter's `normalize.less` sets `[hidden] { display: none; }` but bootstrap.min.css set `[hidden] { display: none !important; }` so we also need the `!important` here to be able to override the default hidden behavior on the sphinx rendered scikit-learn.org. See: https://github.com/scikit-learn/scikit-learn/issues/21755 */display: inline-block !important;position: relative;}#sk-container-id-10 div.sk-text-repr-fallback {display: none;}</style><div id=\"sk-container-id-10\" class=\"sk-top-container\"><div class=\"sk-text-repr-fallback\"><pre>LinearRegression()</pre><b>In a Jupyter environment, please rerun this cell to show the HTML representation or trust the notebook. <br />On GitHub, the HTML representation is unable to render, please try loading this page with nbviewer.org.</b></div><div class=\"sk-container\" hidden><div class=\"sk-item\"><div class=\"sk-estimator sk-toggleable\"><input class=\"sk-toggleable__control sk-hidden--visually\" id=\"sk-estimator-id-10\" type=\"checkbox\" checked><label for=\"sk-estimator-id-10\" class=\"sk-toggleable__label sk-toggleable__label-arrow\">LinearRegression</label><div class=\"sk-toggleable__content\"><pre>LinearRegression()</pre></div></div></div></div></div>"
            ]
          },
          "metadata": {},
          "execution_count": 32
        }
      ],
      "source": [
        "#Linear Regression\n",
        "\n",
        "best_model = None\n",
        "best_score_dt_mse = float('inf')  # Initialize with infinity\n",
        "best_score_dt_mae = float('inf')\n",
        "best_score_dt_mase = float('inf')\n",
        "\n",
        "model = LinearRegression() # initialize model constructor\n",
        "model.fit(features_train, target_train) # train model on training set\n",
        "predictions_valid = model.predict(features_valid) # get model predictions on validation set\n",
        "\n",
        "mse = mean_squared_error(target_valid, predictions_valid)\n",
        "mae = mean_absolute_error(target_valid, predictions_valid)\n",
        "mase = mae / mean_absolute_error(target_valid, [target_valid.mean()] * len(target_valid))\n",
        "\n",
        "\n",
        "# Check if this model is better than the current best model\n",
        "if mse < best_score_dt_mse:\n",
        "    best_model = model\n",
        "    best_score_dt_mse = mse\n",
        "    best_score_dt_mae = mae\n",
        "    best_score_dt_mase = mase\n",
        "\n",
        "print()\n",
        "print(\"MSE of the best model on the validation set: {}\".format(best_score_dt_mse))\n",
        "print(\"MAE of the best model on the validation set: {}\".format(best_score_dt_mae))\n",
        "print(\"MASE of the best model on the validation set: {}\".format(best_score_dt_mase))\n",
        "print()\n",
        "\n",
        "final_model = best_model\n",
        "final_model.fit(features_train, target_train)"
      ]
    },
    {
      "cell_type": "markdown",
      "source": [
        "### Step 4.6.1 : Model Prioritization\n",
        "\n",
        "Conclusively, the results  were as follows:\n",
        "  1.   Classification (Accuracy, Precision, Recall, F-1)\n",
        "      *   Decision Tree: 0.790, 0.757, 0.440, 0.556\n",
        "      *   Random Forest: 0.786, 0.728, 0.456, 0.561\n",
        "      *   Logistic Regression: 0.760, 0.887, 0.228, 0.363\n",
        "  2.   Regression (MSE, MAE, and MASE)\n",
        "      *   Decision Tree: 0.161, 0.303, 0.722\n",
        "      *   Random Forest: 0.149, 0.278, 0.662\n",
        "      *   Linear: 0.192, 0.385, 0.917"
      ],
      "metadata": {
        "id": "rSmPTu2M5mYr"
      }
    },
    {
      "cell_type": "code",
      "source": [
        "# Classification Results\n",
        "classification_results = {\n",
        "    'Decision Tree': [0.790, 0.757, 0.440, 0.556],\n",
        "    'Random Forest': [0.786, 0.728, 0.456, 0.561],\n",
        "    'Logistic Regression': [0.760, 0.887, 0.228, 0.363]\n",
        "}\n",
        "\n",
        "# Create a DataFrame from the classification results\n",
        "classification_df = pd.DataFrame.from_dict(classification_results, orient='index', columns=['Accuracy', 'Precision', 'Recall', 'F1-Score'])\n",
        "\n",
        "# Calculate the composite score\n",
        "classification_df['Composite Score'] = (classification_df['Accuracy'] + classification_df['Precision'] + classification_df['Recall'] + classification_df['F1-Score']) / 4\n",
        "\n",
        "# Identify the best model based on the composite score\n",
        "best_classification_model = classification_df['Composite Score'].idxmax()\n",
        "\n",
        "print(f\"Classification Results:\\n{classification_df}\")\n",
        "print(f\"\\nBest Classification Model: {best_classification_model}\")\n",
        "\n",
        "# Regression Results\n",
        "regression_results = {\n",
        "    'Decision Tree': [0.161, 0.303, 0.722],\n",
        "    'Random Forest': [0.149, 0.278, 0.662],\n",
        "    'Linear': [0.192, 0.385, 0.917]\n",
        "}\n",
        "\n",
        "# Create a DataFrame from the regression results\n",
        "regression_df = pd.DataFrame.from_dict(regression_results, orient='index', columns=['MSE', 'MAE', 'MASE'])\n",
        "\n",
        "# Calculate the composite score\n",
        "regression_df['Composite Score'] = (1/regression_df['MSE'] + 1/regression_df['MAE'] + 1/regression_df['MASE']) / 3\n",
        "\n",
        "# Identify the best model based on the composite score\n",
        "best_regression_model = regression_df['Composite Score'].idxmax()\n",
        "\n",
        "print(f\"\\nRegression Results:\\n{regression_df}\")\n",
        "print(f\"\\nBest Regression Model: {best_regression_model}\")"
      ],
      "metadata": {
        "colab": {
          "base_uri": "https://localhost:8080/"
        },
        "id": "Lpe4SLKR43yS",
        "outputId": "537eccd3-43ea-42fe-d4e7-96a6511fefe1"
      },
      "execution_count": 33,
      "outputs": [
        {
          "output_type": "stream",
          "name": "stdout",
          "text": [
            "Classification Results:\n",
            "                     Accuracy  Precision  Recall  F1-Score  Composite Score\n",
            "Decision Tree           0.790      0.757   0.440     0.556          0.63575\n",
            "Random Forest           0.786      0.728   0.456     0.561          0.63275\n",
            "Logistic Regression     0.760      0.887   0.228     0.363          0.55950\n",
            "\n",
            "Best Classification Model: Decision Tree\n",
            "\n",
            "Regression Results:\n",
            "                 MSE    MAE   MASE  Composite Score\n",
            "Decision Tree  0.161  0.303  0.722         3.632184\n",
            "Random Forest  0.149  0.278  0.662         3.939702\n",
            "Linear         0.192  0.385  0.917         2.965416\n",
            "\n",
            "Best Regression Model: Random Forest\n"
          ]
        }
      ]
    },
    {
      "cell_type": "markdown",
      "source": [
        "### Step 4.6.2 : Conclusion\n",
        "\n",
        "Lastly, the linear model indicates that it has signiificantly better MASE than the other two but comparable MSE and MAE. Due to this similarity and the poignancy of the last metric, I initially thought it would be the best model. However, I decided to implement a composite score which I later realized could be weighted based on the business need. So, I will move into the next section with the model for DecisionTreeClassifier and RandomForestRegressor based on the original data users_behavior."
      ],
      "metadata": {
        "id": "U_HTQo58wYcX"
      }
    },
    {
      "cell_type": "markdown",
      "metadata": {
        "id": "cbxrcaiUZf2T"
      },
      "source": [
        "# **Step 5: Hyperparametric Tuning**\n",
        "\n",
        "\n"
      ]
    },
    {
      "cell_type": "markdown",
      "source": [
        "## Step 5.1: DecisionTreeClassifer"
      ],
      "metadata": {
        "id": "5fRRdHsW6RcP"
      }
    },
    {
      "cell_type": "code",
      "source": [
        "from sklearn.model_selection import GridSearchCV\n",
        "from sklearn.metrics import make_scorer"
      ],
      "metadata": {
        "id": "zmukblvn93nL"
      },
      "execution_count": null,
      "outputs": []
    },
    {
      "cell_type": "code",
      "source": [
        "# Define the hyperparameter grid\n",
        "param_grid = {\n",
        "    'max_depth': range(1, 10),\n",
        "    'min_samples_split': [2, 5, 10],\n",
        "    'min_samples_leaf': [1, 5, 10],\n",
        "    'criterion': ['gini', 'entropy']\n",
        "}\n",
        "\n",
        "# Define the composite score\n",
        "def composite_score(y_true, y_pred):\n",
        "    accuracy = accuracy_score(y_true, y_pred)\n",
        "    precision = precision_score(y_true, y_pred)\n",
        "    recall = recall_score(y_true, y_pred)\n",
        "    f1 = f1_score(y_true, y_pred)\n",
        "    return 0.2 * accuracy + 0.3 * precision + 0.3 * recall + 0.2 * f1\n",
        "\n",
        "# Create a scorer for the composite score\n",
        "composite_scorer = make_scorer(composite_score)\n",
        "\n",
        "# Initialize the Decision Tree Classifier\n",
        "dtc = DecisionTreeClassifier(random_state=12345)\n",
        "\n",
        "# Perform grid search with cross-validation\n",
        "grid_search = GridSearchCV(dtc, param_grid, cv=5, scoring={'accuracy': 'accuracy', 'precision': 'precision', 'recall': 'recall', 'f1': 'f1', 'composite': composite_scorer}, refit='composite')\n",
        "grid_search.fit(features_train, target_train)\n",
        "\n",
        "# Get the best hyperparameters and the corresponding scores\n",
        "best_params = grid_search.best_params_\n",
        "best_score = grid_search.best_score_\n",
        "best_accuracy = grid_search.cv_results_['mean_test_accuracy'][grid_search.best_index_]\n",
        "best_precision = grid_search.cv_results_['mean_test_precision'][grid_search.best_index_]\n",
        "best_recall = grid_search.cv_results_['mean_test_recall'][grid_search.best_index_]\n",
        "best_f1 = grid_search.cv_results_['mean_test_f1'][grid_search.best_index_]\n",
        "best_composite = grid_search.cv_results_['mean_test_composite'][grid_search.best_index_]\n",
        "\n",
        "print(\"Best hyperparameters:\", best_params)\n",
        "print(\"Best score (composite):\", best_score)\n",
        "print(\"Best accuracy:\", best_accuracy)\n",
        "print(\"Best precision:\", best_precision)\n",
        "print(\"Best recall:\", best_recall)\n",
        "print(\"Best F1-score:\", best_f1)\n",
        "print(\"Best composite score:\", best_composite)\n",
        "\n",
        "# Train the final model with the best hyperparameters\n",
        "final_model = DecisionTreeClassifier(**best_params)\n",
        "final_model.fit(features_train, target_train)"
      ],
      "metadata": {
        "colab": {
          "base_uri": "https://localhost:8080/",
          "height": 202
        },
        "id": "PNrIQX2j6qEY",
        "outputId": "ff71f517-d829-42da-bbc3-947a4da72ec2"
      },
      "execution_count": 36,
      "outputs": [
        {
          "output_type": "stream",
          "name": "stdout",
          "text": [
            "Best hyperparameters: {'criterion': 'entropy', 'max_depth': 7, 'min_samples_leaf': 1, 'min_samples_split': 10}\n",
            "Best score (composite): 0.6680109950110754\n",
            "Best accuracy: 0.8033195020746888\n",
            "Best precision: 0.7920183984869482\n",
            "Best recall: 0.49457645565028113\n",
            "Best F1-score: 0.6068431917748439\n",
            "Best composite score: 0.6680109950110754\n"
          ]
        },
        {
          "output_type": "execute_result",
          "data": {
            "text/plain": [
              "DecisionTreeClassifier(criterion='entropy', max_depth=7, min_samples_split=10)"
            ],
            "text/html": [
              "<style>#sk-container-id-12 {color: black;background-color: white;}#sk-container-id-12 pre{padding: 0;}#sk-container-id-12 div.sk-toggleable {background-color: white;}#sk-container-id-12 label.sk-toggleable__label {cursor: pointer;display: block;width: 100%;margin-bottom: 0;padding: 0.3em;box-sizing: border-box;text-align: center;}#sk-container-id-12 label.sk-toggleable__label-arrow:before {content: \"▸\";float: left;margin-right: 0.25em;color: #696969;}#sk-container-id-12 label.sk-toggleable__label-arrow:hover:before {color: black;}#sk-container-id-12 div.sk-estimator:hover label.sk-toggleable__label-arrow:before {color: black;}#sk-container-id-12 div.sk-toggleable__content {max-height: 0;max-width: 0;overflow: hidden;text-align: left;background-color: #f0f8ff;}#sk-container-id-12 div.sk-toggleable__content pre {margin: 0.2em;color: black;border-radius: 0.25em;background-color: #f0f8ff;}#sk-container-id-12 input.sk-toggleable__control:checked~div.sk-toggleable__content {max-height: 200px;max-width: 100%;overflow: auto;}#sk-container-id-12 input.sk-toggleable__control:checked~label.sk-toggleable__label-arrow:before {content: \"▾\";}#sk-container-id-12 div.sk-estimator input.sk-toggleable__control:checked~label.sk-toggleable__label {background-color: #d4ebff;}#sk-container-id-12 div.sk-label input.sk-toggleable__control:checked~label.sk-toggleable__label {background-color: #d4ebff;}#sk-container-id-12 input.sk-hidden--visually {border: 0;clip: rect(1px 1px 1px 1px);clip: rect(1px, 1px, 1px, 1px);height: 1px;margin: -1px;overflow: hidden;padding: 0;position: absolute;width: 1px;}#sk-container-id-12 div.sk-estimator {font-family: monospace;background-color: #f0f8ff;border: 1px dotted black;border-radius: 0.25em;box-sizing: border-box;margin-bottom: 0.5em;}#sk-container-id-12 div.sk-estimator:hover {background-color: #d4ebff;}#sk-container-id-12 div.sk-parallel-item::after {content: \"\";width: 100%;border-bottom: 1px solid gray;flex-grow: 1;}#sk-container-id-12 div.sk-label:hover label.sk-toggleable__label {background-color: #d4ebff;}#sk-container-id-12 div.sk-serial::before {content: \"\";position: absolute;border-left: 1px solid gray;box-sizing: border-box;top: 0;bottom: 0;left: 50%;z-index: 0;}#sk-container-id-12 div.sk-serial {display: flex;flex-direction: column;align-items: center;background-color: white;padding-right: 0.2em;padding-left: 0.2em;position: relative;}#sk-container-id-12 div.sk-item {position: relative;z-index: 1;}#sk-container-id-12 div.sk-parallel {display: flex;align-items: stretch;justify-content: center;background-color: white;position: relative;}#sk-container-id-12 div.sk-item::before, #sk-container-id-12 div.sk-parallel-item::before {content: \"\";position: absolute;border-left: 1px solid gray;box-sizing: border-box;top: 0;bottom: 0;left: 50%;z-index: -1;}#sk-container-id-12 div.sk-parallel-item {display: flex;flex-direction: column;z-index: 1;position: relative;background-color: white;}#sk-container-id-12 div.sk-parallel-item:first-child::after {align-self: flex-end;width: 50%;}#sk-container-id-12 div.sk-parallel-item:last-child::after {align-self: flex-start;width: 50%;}#sk-container-id-12 div.sk-parallel-item:only-child::after {width: 0;}#sk-container-id-12 div.sk-dashed-wrapped {border: 1px dashed gray;margin: 0 0.4em 0.5em 0.4em;box-sizing: border-box;padding-bottom: 0.4em;background-color: white;}#sk-container-id-12 div.sk-label label {font-family: monospace;font-weight: bold;display: inline-block;line-height: 1.2em;}#sk-container-id-12 div.sk-label-container {text-align: center;}#sk-container-id-12 div.sk-container {/* jupyter's `normalize.less` sets `[hidden] { display: none; }` but bootstrap.min.css set `[hidden] { display: none !important; }` so we also need the `!important` here to be able to override the default hidden behavior on the sphinx rendered scikit-learn.org. See: https://github.com/scikit-learn/scikit-learn/issues/21755 */display: inline-block !important;position: relative;}#sk-container-id-12 div.sk-text-repr-fallback {display: none;}</style><div id=\"sk-container-id-12\" class=\"sk-top-container\"><div class=\"sk-text-repr-fallback\"><pre>DecisionTreeClassifier(criterion=&#x27;entropy&#x27;, max_depth=7, min_samples_split=10)</pre><b>In a Jupyter environment, please rerun this cell to show the HTML representation or trust the notebook. <br />On GitHub, the HTML representation is unable to render, please try loading this page with nbviewer.org.</b></div><div class=\"sk-container\" hidden><div class=\"sk-item\"><div class=\"sk-estimator sk-toggleable\"><input class=\"sk-toggleable__control sk-hidden--visually\" id=\"sk-estimator-id-12\" type=\"checkbox\" checked><label for=\"sk-estimator-id-12\" class=\"sk-toggleable__label sk-toggleable__label-arrow\">DecisionTreeClassifier</label><div class=\"sk-toggleable__content\"><pre>DecisionTreeClassifier(criterion=&#x27;entropy&#x27;, max_depth=7, min_samples_split=10)</pre></div></div></div></div></div>"
            ]
          },
          "metadata": {},
          "execution_count": 36
        }
      ]
    },
    {
      "cell_type": "markdown",
      "source": [
        "## Step 5.1.1: Conclusion\n",
        "\n",
        "The best hyperparameters were defined as: {'criterion': 'entropy', 'max_depth': 7, 'min_samples_leaf': 1, 'min_samples_split': 10}. They significantly imporved the model accuracy and composite score as well as all of the other metrics."
      ],
      "metadata": {
        "id": "KQbOp9-36sJ8"
      }
    },
    {
      "cell_type": "markdown",
      "source": [
        "## Step 5.2: RandomForestRegressor"
      ],
      "metadata": {
        "id": "SutZhvgN6k17"
      }
    },
    {
      "cell_type": "markdown",
      "source": [
        "##Step 5.2.1: Conclusion\n",
        "\n",
        "This did not work for some reason it was unable to accomodate the other metrics. I tried multiple different approaches and all of them resulted in a continuous error that I had to shut off after about a minute or two. The results were inconclusive."
      ],
      "metadata": {
        "id": "fK8I9TbX6sod"
      }
    },
    {
      "cell_type": "markdown",
      "metadata": {
        "id": "xPqUzbw7clWQ"
      },
      "source": [
        "# **General Conclusion**"
      ]
    },
    {
      "cell_type": "markdown",
      "metadata": {
        "id": "rpLJDfu_con5"
      },
      "source": [
        "I found this exercise extremely fulfilling. I have been wanting to do this for some time and feel that I did a thorough job. However, I am still curious and would like to work through the other models in a similar fashion. The results were that DecisionTreeClassifier was the best of the models tested though it underfit in my opinion. This also highlights the challenge of closing the gap in precision and accuracy from 80% to 100%.\n",
        "\n",
        "This model suggests the presence of linear or piecewise linear relationships in the data. The next improvement is incorporating ensemble methods like gradient boosting to improve the accuracy. I identified some additional ways to improve the research, however, I would also like to see the effect of more features or multiple datasets feeding into the same model if posssible.\n",
        "\n",
        "**Try more complex models, such as:**\n",
        "  *   Support Vector Machines (SVMs)\n",
        "  *   Gradient Boosting Machines (GBMs)\n",
        "  *   Neural Networks (if you have a large dataset and computational resources)\n",
        "\n",
        "**Tune hyperparameters for each model using techniques like:**\n",
        "  *   Grid Search\n",
        "  *   Random Search\n",
        "  *   Bayesian Optimization\n",
        "\n",
        "Experiment with different feature engineering techniques, such as:\n",
        "  *   Feature selection\n",
        "  *   Feature extraction\n",
        "  *   Dimensionality reduction\n",
        "\n",
        "\n",
        "Thanks for reading! 🍻\n",
        "\n",
        "##### Additional resources: https://www.saedsayad.com/decision_tree.htm, https://towardsdatascience.com/decision-tree-classifier-explained-in-real-life-picking-a-vacation-destination-6226b2b60575"
      ]
    }
  ],
  "metadata": {
    "colab": {
      "provenance": [],
      "authorship_tag": "ABX9TyP4PofNRx0gChn5CqPkO0gJ",
      "include_colab_link": true
    },
    "kernelspec": {
      "display_name": "Python 3",
      "name": "python3"
    },
    "language_info": {
      "name": "python"
    }
  },
  "nbformat": 4,
  "nbformat_minor": 0
}