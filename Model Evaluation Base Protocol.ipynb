
  {
   "cell_type": "markdown",
   "metadata": {},
   "source": [
    "## Project Introduction\n",
    "\n",
    "Mobile carrier Megaline has found out that many of their subscribers use legacy plans. They want to develop a model that would analyze subscribers' behavior and recommend one of Megaline's newer plans: Smart or Ultra. \n",
    "You have access to behavior data about subscribers who have already switched to the new plans (from the project for the Statistical Data Analysis course). For this classification task, you need to develop a model that will pick the right plan. Since you’ve already performed the data preprocessing step, you can move straight to creating the model. \n",
    "Develop a model with the highest possible accuracy. In this project, the threshold for accuracy is 0.75. Check the accuracy using the test dataset. \n",
    "\n",
    "### Project instructions\n",
    "   1.\tOpen and look through the data file. Path to the file:datasets/users_behavior.csv Download dataset\n",
    "   2.\tSplit the source data into a training set, a validation set, and a test set.\n",
    "   3.\tInvestigate the quality of different models by changing hyperparameters. Briefly describe the findings of the study.\n",
    "   4.\tCheck the quality of the model using the test set.\n",
    "   5.\tAdditional task: sanity check the model. This data is more complex than what you’re used to working with, so it's not an easy task. We'll take a closer look at it later.\n",
    "\n",
    "### Data description\n",
    "Every observation in the dataset contains monthly behavior information about one user. The information given is as follows: \n",
    "  *\tсalls — number of calls,\n",
    "  *\tminutes — total call duration in minutes,\n",
    "  *\tmessages — number of text messages,\n",
    "  *\tmb_used — Internet traffic used in MB,\n",
    "  *\tis_ultra — plan for the current month (Ultra - 1, Smart - 0).\n",
    "\n",
    "### Project evaluation\n",
    "We’ve put together the evaluation criteria for the project. Read this carefully before moving on to the task. \n",
    "Here’s what the reviewers will look at when reviewing your project:\n",
    "  *\tHow did you look into data after downloading?\n",
    "  *\tHave you correctly split the data into train, validation, and test sets?\n",
    "  *\tHow have you chosen the sets' sizes?\n",
    "  *\tDid you evaluate the quality of the models correctly?\n",
    "  *\tWhat models and hyperparameters did you use?\n",
    "  *\tWhat are your findings?\n",
    "  *\tDid you test the models correctly?\n",
    "  *\tWhat is your accuracy score?\n",
    "  *\tHave you stuck to the project structure and kept the code neat?\n",
    "\n",
    "\n"
   ]
  },
  {
   "cell_type": "markdown",
   "metadata": {
    "id": "TNx5-RDDTwc2"
   },
   "source": [
    "## Initialization of Coding Environment\n",
    "Cloning GitHub repository into CoLab to initialize the virtual coding environment"
   ]
  },
  {
   "cell_type": "code",
   "execution_count": 1,
   "metadata": {
    "colab": {
     "base_uri": "https://localhost:8080/"
    },
    "id": "pNKb3wNyTsfl",
    "outputId": "767bd93a-3dc7-48ac-ebc1-920e265f7f53"
   },
   "outputs": [
    {
     "name": "stdout",
     "output_type": "stream",
     "text": [
      "/bin/bash: line 1: git: command not found\r\n"
     ]
    }
   ],
   "source": [
    "!git clone https://github.com/vicknentura/tripleten7"
   ]
  },
  {
   "cell_type": "code",
   "execution_count": 2,
   "metadata": {
    "colab": {
     "base_uri": "https://localhost:8080/"
    },
    "id": "6XegEKpNUAJc",
    "outputId": "9f550422-428a-48b7-ba80-93e391512edb"
   },
   "outputs": [
    {
     "name": "stdout",
     "output_type": "stream",
     "text": [
      "[Errno 2] No such file or directory: '/content/tripleten7'\n",
      "/home/jovyan/work\n"
     ]
    }
   ],
   "source": [
    "%cd /content/tripleten7"
   ]
  },
  {
   "cell_type": "markdown",
   "metadata": {
    "id": "-tE8jQp2Y0AZ"
   },
   "source": [
    "## Initialization of Workbook\n"
   ]
  },
  {
   "cell_type": "code",
   "execution_count": 25,
   "metadata": {
    "id": "wlM2nP_OUlHC"
   },
   "outputs": [],
   "source": [
    "import pandas as pd\n",
    "import numpy as np\n",
    "import seaborn as sns\n",
    "import matplotlib.pyplot as plt\n",
    "import itertools\n",
    "import scipy.stats as stats\n",
    "import sklearn"
   ]
  },
  {
   "cell_type": "code",
   "execution_count": 26,
   "metadata": {
    "id": "K1skW5RKUKDX"
   },
   "outputs": [],
   "source": [
    "try:\n",
    "    users_behavior = pd.read_csv(\"/datasets/users_behavior.csv\")\n",
    "except FileNotFoundError:\n",
    "    print(\"One or more CSV files not found. Please check file paths.\")"
   ]
  },
  {
   "cell_type": "code",
   "execution_count": 27,
   "metadata": {
    "colab": {
     "base_uri": "https://localhost:8080/"
    },
    "id": "ZhxqjfmAVo39",
    "outputId": "e9193e0f-d343-4eba-de6b-a754fcec8f85"
   },
   "outputs": [
    {
     "name": "stdout",
     "output_type": "stream",
     "text": [
      "<class 'pandas.core.frame.DataFrame'>\n",
      "RangeIndex: 3214 entries, 0 to 3213\n",
      "Data columns (total 5 columns):\n",
      " #   Column    Non-Null Count  Dtype  \n",
      "---  ------    --------------  -----  \n",
      " 0   calls     3214 non-null   float64\n",
      " 1   minutes   3214 non-null   float64\n",
      " 2   messages  3214 non-null   float64\n",
      " 3   mb_used   3214 non-null   float64\n",
      " 4   is_ultra  3214 non-null   int64  \n",
      "dtypes: float64(4), int64(1)\n",
      "memory usage: 125.7 KB\n"
     ]
    }
   ],
   "source": [
    "users_behavior.info()"
   ]
  },
  {
   "cell_type": "code",
   "execution_count": 28,
   "metadata": {
    "colab": {
     "base_uri": "https://localhost:8080/"
    },
    "id": "gWaAbS17WKIe",
    "outputId": "0df96d3f-42d2-4651-9276-44bd01d42377"
   },
   "outputs": [
    {
     "name": "stdout",
     "output_type": "stream",
     "text": [
      "Checking 3214 rows and 5 columns in DataFrame...\n",
      "<class 'pandas.core.frame.DataFrame'>\n",
      "RangeIndex: 3214 entries, 0 to 3213\n",
      "Data columns (total 5 columns):\n",
      " #   Column    Non-Null Count  Dtype  \n",
      "---  ------    --------------  -----  \n",
      " 0   calls     3214 non-null   float64\n",
      " 1   minutes   3214 non-null   float64\n",
      " 2   messages  3214 non-null   float64\n",
      " 3   mb_used   3214 non-null   float64\n",
      " 4   is_ultra  3214 non-null   int64  \n",
      "dtypes: float64(4), int64(1)\n",
      "memory usage: 125.7 KB\n",
      "\n",
      "Duplicates found: 0\n",
      "\n",
      "Zeros found: 2817\n",
      "\n",
      "Null/NaN values found: 0\n",
      "\n"
     ]
    }
   ],
   "source": [
    "# Quality assurance (QA) check to identify any irregularities in the datasets\n",
    "\n",
    "def qa_check(df):\n",
    "    print(f\"Checking {df.shape[0]} rows and {df.shape[1]} columns in DataFrame...\")\n",
    "\n",
    "    #Check data structure\n",
    "    users_behavior.info()\n",
    "\n",
    "    # Check for duplicates\n",
    "    dup_count = df.duplicated().sum()\n",
    "    print()\n",
    "    print(f\"Duplicates found: {dup_count}\")\n",
    "    print()\n",
    "\n",
    "    # Count zeros\n",
    "    zero_count = (df == 0).sum().sum()\n",
    "    print(f\"Zeros found: {zero_count}\")\n",
    "    print()\n",
    "\n",
    "    # Count null/nan an inf/-inf\n",
    "    df_inf = df.replace([np.inf, -np.inf], np.nan)\n",
    "    nan_count = df_inf.isnull().sum().sum()\n",
    "    print(f\"Null/NaN values found: {nan_count}\")\n",
    "    print()\n",
    "\n",
    "qa_check(users_behavior)"
   ]
  },
  {
   "cell_type": "markdown",
   "metadata": {
    "id": "3Cl9DwuRq3VW"
   },
   "source": [
    "**Comment:** The QA check implemented here is to check through the columns of the data frame and count the rows that are duplicated, contain zeros, and null/NaN or inf/-inf values to then investigate further. No further investigation was needed as the count of zeros was attributed to the ['is_ultra'] column."
   ]
  },
  {
   "cell_type": "markdown",
   "metadata": {
    "id": "jf9ZpMbogczF"
   },
   "source": [
    "## Data Analysis of User Behavior**"
   ]
  },
  {
   "cell_type": "code",
   "execution_count": 30,
   "metadata": {
    "colab": {
     "base_uri": "https://localhost:8080/",
     "height": 318
    },
    "id": "NWM0E6K_dmMA",
    "outputId": "e5c86cf0-a5eb-4155-c53b-1c61a0a313a6"
   },
   "outputs": [
    {
     "name": "stdout",
     "output_type": "stream",
     "text": [
      "Descriptive statistics for the Megaline dataset are as follows:\n"
     ]
    },
    {
     "data": {
      "text/html": [
       "<div>\n",
       "<style scoped>\n",
       "    .dataframe tbody tr th:only-of-type {\n",
       "        vertical-align: middle;\n",
       "    }\n",
       "\n",
       "    .dataframe tbody tr th {\n",
       "        vertical-align: top;\n",
       "    }\n",
       "\n",
       "    .dataframe thead th {\n",
       "        text-align: right;\n",
       "    }\n",
       "</style>\n",
       "<table border=\"1\" class=\"dataframe\">\n",
       "  <thead>\n",
       "    <tr style=\"text-align: right;\">\n",
       "      <th></th>\n",
       "      <th>calls</th>\n",
       "      <th>minutes</th>\n",
       "      <th>messages</th>\n",
       "      <th>mb_used</th>\n",
       "      <th>is_ultra</th>\n",
       "    </tr>\n",
       "  </thead>\n",
       "  <tbody>\n",
       "    <tr>\n",
       "      <th>count</th>\n",
       "      <td>3214.000000</td>\n",
       "      <td>3214.000000</td>\n",
       "      <td>3214.000000</td>\n",
       "      <td>3214.000000</td>\n",
       "      <td>3214.000000</td>\n",
       "    </tr>\n",
       "    <tr>\n",
       "      <th>mean</th>\n",
       "      <td>63.038892</td>\n",
       "      <td>438.208787</td>\n",
       "      <td>38.281269</td>\n",
       "      <td>17207.673836</td>\n",
       "      <td>0.306472</td>\n",
       "    </tr>\n",
       "    <tr>\n",
       "      <th>std</th>\n",
       "      <td>33.236368</td>\n",
       "      <td>234.569872</td>\n",
       "      <td>36.148326</td>\n",
       "      <td>7570.968246</td>\n",
       "      <td>0.461100</td>\n",
       "    </tr>\n",
       "    <tr>\n",
       "      <th>min</th>\n",
       "      <td>0.000000</td>\n",
       "      <td>0.000000</td>\n",
       "      <td>0.000000</td>\n",
       "      <td>0.000000</td>\n",
       "      <td>0.000000</td>\n",
       "    </tr>\n",
       "    <tr>\n",
       "      <th>25%</th>\n",
       "      <td>40.000000</td>\n",
       "      <td>274.575000</td>\n",
       "      <td>9.000000</td>\n",
       "      <td>12491.902500</td>\n",
       "      <td>0.000000</td>\n",
       "    </tr>\n",
       "    <tr>\n",
       "      <th>50%</th>\n",
       "      <td>62.000000</td>\n",
       "      <td>430.600000</td>\n",
       "      <td>30.000000</td>\n",
       "      <td>16943.235000</td>\n",
       "      <td>0.000000</td>\n",
       "    </tr>\n",
       "    <tr>\n",
       "      <th>75%</th>\n",
       "      <td>82.000000</td>\n",
       "      <td>571.927500</td>\n",
       "      <td>57.000000</td>\n",
       "      <td>21424.700000</td>\n",
       "      <td>1.000000</td>\n",
       "    </tr>\n",
       "    <tr>\n",
       "      <th>max</th>\n",
       "      <td>244.000000</td>\n",
       "      <td>1632.060000</td>\n",
       "      <td>224.000000</td>\n",
       "      <td>49745.730000</td>\n",
       "      <td>1.000000</td>\n",
       "    </tr>\n",
       "  </tbody>\n",
       "</table>\n",
       "</div>"
      ],
      "text/plain": [
       "             calls      minutes     messages       mb_used     is_ultra\n",
       "count  3214.000000  3214.000000  3214.000000   3214.000000  3214.000000\n",
       "mean     63.038892   438.208787    38.281269  17207.673836     0.306472\n",
       "std      33.236368   234.569872    36.148326   7570.968246     0.461100\n",
       "min       0.000000     0.000000     0.000000      0.000000     0.000000\n",
       "25%      40.000000   274.575000     9.000000  12491.902500     0.000000\n",
       "50%      62.000000   430.600000    30.000000  16943.235000     0.000000\n",
       "75%      82.000000   571.927500    57.000000  21424.700000     1.000000\n",
       "max     244.000000  1632.060000   224.000000  49745.730000     1.000000"
      ]
     },
     "execution_count": 30,
     "metadata": {},
     "output_type": "execute_result"
    }
   ],
   "source": [
    "print('Descriptive statistics for the Megaline dataset are as follows:')\n",
    "users_behavior.describe()"
   ]
  },
  {
   "cell_type": "code",
   "execution_count": 32,
   "metadata": {
    "colab": {
     "base_uri": "https://localhost:8080/",
     "height": 702
    },
    "id": "6wdcW1x8gPf6",
    "outputId": "71fd229b-9421-459f-c28a-14d2d0fcd8fb"
   },
   "outputs": [
    {
     "data": {
      "image/png": "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",
      "text/plain": [
       "<Figure size 1100x600 with 1 Axes>"
      ]
     },
     "metadata": {},
     "output_type": "display_data"
    }
   ],
   "source": [
    "# Set the seaborn theme\n",
    "sns.set_theme(style=\"whitegrid\")\n",
    "\n",
    "# Create a violin plot for the first four columns of the 'users_behavior' dataframe\n",
    "f, ax = plt.subplots(figsize=(11, 6))\n",
    "sns.violinplot(data=users_behavior[['calls', 'minutes', 'messages', 'mb_used']], palette=\"Set3\", bw=.2, cut=1, linewidth=1)\n",
    "\n",
    "# Add a title and x-axis label\n",
    "ax.set_title('Distribution of User Behavior Metrics')\n",
    "ax.set_xlabel('Metrics')\n",
    "ax.set_ylabel('Value')\n",
    "\n",
    "# Finalize the figure\n",
    "ax.set(ylim=None)  # Set the y-axis limits to auto\n",
    "sns.despine(left=True, bottom=True)\n",
    "plt.show()"
   ]
  },
  {
   "cell_type": "markdown",
   "metadata": {
    "id": "dGDiRZYYivIh"
   },
   "source": [
    "**Comment:** A wide or latitudinal violin plot was implemented to show the distributions of multiple metrics at the same time. The initial finding is that the ['mb_used'] column should be plotted on its own to avoid the distortion that is show. I ran these separately, but found that there is no insight that can be immediately gleaned, so went back and added the .describe() function abve to get more data points.\n",
    "\n",
    "**Insight:** The descriptive stats are helpful to determine the scale with which each of the data from the plots are on. It confirms that the lenghs of the lists are the same size. We also see high relative variation as determined by comparing the standard deviation (one sigma) to the mean which then corresponds to the max and min bars in the violin plots."
   ]
  },
  {
   "cell_type": "code",
   "execution_count": 33,
   "metadata": {
    "colab": {
     "base_uri": "https://localhost:8080/",
     "height": 571
    },
    "id": "Sh7oW9PohJMP",
    "outputId": "f0845bed-b200-4298-9ec5-64a8ca874911"
   },
   "outputs": [
    {
     "data": {
      "image/png": "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",
      "text/plain": [
       "<Figure size 640x480 with 1 Axes>"
      ]
     },
     "metadata": {},
     "output_type": "display_data"
    },
    {
     "name": "stdout",
     "output_type": "stream",
     "text": [
      "\n",
      "Skewness: 0.6060892767458539\n",
      "The data has a positive skew or right-tailed.\n",
      "Skewness: 1.2951606233998842\n",
      "The data has a positive skew or right-tailed.\n"
     ]
    }
   ],
   "source": [
    "# Histogram\n",
    "plt.hist([users_behavior['calls'], users_behavior['messages']], bins=56, label=['Calls', 'Messages'],\n",
    "         color=['purple', 'orange'], alpha = 0.6)  # added color parameter\n",
    "plt.xlabel('Count')\n",
    "plt.ylabel('Frequency (Number of Users)')\n",
    "plt.title('Histogram of Calls and Messages')\n",
    "plt.xlim(0, 200)  # added x-axis limit\n",
    "plt.legend()\n",
    "plt.show()\n",
    "print()\n",
    "\n",
    "# Calculate skewness\n",
    "def calculate_skewness(data, column):\n",
    "    skew = stats.skew(data[column])\n",
    "    if skew == 0:\n",
    "        interpretation = \"The data is symmetrical (like a normal distribution).\"\n",
    "    elif skew > 0:\n",
    "        interpretation = \"The data has a positive skew or right-tailed.\"\n",
    "    else:\n",
    "        interpretation = \"The data has a negative skew or left-tailed.\"\n",
    "    print(f\"Skewness: {skew}\")\n",
    "    print(interpretation)\n",
    "\n",
    "calculate_skewness(users_behavior, 'calls')\n",
    "calculate_skewness(users_behavior, 'messages')"
   ]
  },
  {
   "cell_type": "markdown",
   "metadata": {
    "id": "7ZvslsNii4Ji"
   },
   "source": [
    "**Comment:** I find multi-series datasets the most helpful when conducting exploratory data analysis. When we first looked at the Megaline data, there were two plans based on utilization, so I wanted to see if there was a distinct enough trend to classify two groups this early on in the analysis. The number of calls and number of texts were the most comparable metrics for user behavior based on my assumption. I iterated upon the initial graph with a final determination of skewness. Bins = SQRT(n).\n",
    "\n",
    "**Insight:** There is some evidence for a trade-off point between users with high utilization of text messages and an upswing in the calls that are being made, however, it is not clear with this plot whether they are mutually exclusive."
   ]
  },
  {
   "cell_type": "code",
   "execution_count": 34,
   "metadata": {
    "colab": {
     "base_uri": "https://localhost:8080/",
     "height": 535
    },
    "id": "6HBzuCp5Z5lh",
    "outputId": "f5528e52-c361-49f7-bcab-f074f2ef88fd"
   },
   "outputs": [
    {
     "data": {
      "image/png": "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",
      "text/plain": [
       "<Figure size 640x480 with 1 Axes>"
      ]
     },
     "metadata": {},
     "output_type": "display_data"
    },
    {
     "name": "stdout",
     "output_type": "stream",
     "text": [
      "\n",
      "Skewness: 0.6075675435633564\n",
      "The data has a positive skew or right-tailed.\n"
     ]
    }
   ],
   "source": [
    "# Histogram\n",
    "plt.hist(users_behavior['minutes'], bins=56, label=['Minutes'],\n",
    "         color=['skyblue'], alpha = 0.6)  # added color parameter\n",
    "plt.xlabel('Count')\n",
    "plt.ylabel('Frequency (Number of Users)')\n",
    "plt.title('Histogram of Call Duration')\n",
    "plt.legend()\n",
    "plt.show()\n",
    "print()\n",
    "\n",
    "# Calculate skewness\n",
    "calculate_skewness(users_behavior, 'minutes')"
   ]
  },
  {
   "cell_type": "markdown",
   "metadata": {
    "id": "aK_UyqitaDvi"
   },
   "source": [
    "**Insight:** The majority of users have a call duration of 200 to 800 minutes."
   ]
  },
  {
   "cell_type": "code",
   "execution_count": 35,
   "metadata": {
    "colab": {
     "base_uri": "https://localhost:8080/",
     "height": 535
    },
    "id": "JXF9mNYmaDQ-",
    "outputId": "8da35612-b66e-4597-a5ee-e2e4dbc82280"
   },
   "outputs": [
    {
     "data": {
      "image/png": "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",
      "text/plain": [
       "<Figure size 640x480 with 1 Axes>"
      ]
     },
     "metadata": {},
     "output_type": "display_data"
    },
    {
     "name": "stdout",
     "output_type": "stream",
     "text": [
      "\n",
      "Skewness: 0.42989027518742406\n",
      "The data has a positive skew or right-tailed.\n"
     ]
    }
   ],
   "source": [
    "# Histogram\n",
    "plt.hist(users_behavior['mb_used'], bins=56, label=['Megabytes (Mb) Used'],\n",
    "         color=['green'], alpha = 0.6)  # added color parameter\n",
    "plt.xlabel('Count')\n",
    "plt.ylabel('Frequency (Number of Users)')\n",
    "plt.title('Histogram of Internet Usage (in Mb)')\n",
    "plt.xlim(0, 50000)  # added x-axis limit\n",
    "plt.legend()\n",
    "plt.show()\n",
    "print()\n",
    "\n",
    "# Calculate skewness\n",
    "calculate_skewness(users_behavior, 'mb_used')"
   ]
  },
  {
   "cell_type": "markdown",
   "metadata": {
    "id": "pffI3mx4aEKH"
   },
   "source": [
    "**Insight:** Majority of internet utilization is between 10,000 and 22,000 mb. There is less skewness compared to the previous plots."
   ]
  },
  {
   "cell_type": "markdown",
   "metadata": {},
   "source": [
    "<div class=\"alert alert-success\">\n",
    "<b>Reviewer's comment v1:</b>\n",
    "    \n",
    "Well done! Data have been successfully loaded and inspected."
   ]
  },
  {
   "cell_type": "markdown",
   "metadata": {
    "id": "DXDZzriCjASe"
   },
   "source": [
    "## Model Training\n",
    "\n",
    "The models to be evaluated and prioritized for hyperparametric tuning:\n",
    "  1.   Classification\n",
    "      *   Decision Tree\n",
    "      *   Random Forest\n",
    "      *   Logistic Regression\n",
    "  2.   Regression\n",
    "      *   Decision Tree\n",
    "      *   Random Forest\n",
    "      *   Linear"
   ]
  },
  {
   "cell_type": "code",
   "execution_count": 51,
   "metadata": {
    "id": "9ytKYwHRo_b8"
   },
   "outputs": [],
   "source": [
    "from sklearn.tree import DecisionTreeClassifier, DecisionTreeRegressor\n",
    "from sklearn.ensemble import RandomForestClassifier, RandomForestRegressor\n",
    "from sklearn.linear_model import LogisticRegression, LinearRegression\n",
    "\n",
    "from sklearn.model_selection import train_test_split\n",
    "\n",
    "from sklearn.metrics import accuracy_score, precision_score, recall_score, f1_score, roc_auc_score, mean_absolute_error, mean_squared_error"
   ]
  },
  {
   "cell_type": "code",
   "execution_count": 52,
   "metadata": {
    "id": "WbvTyZRkq51b"
   },
   "outputs": [],
   "source": [
    "# Split data into training, validation, and testing sets\n",
    "users_behavior_train, users_behavior_test = train_test_split(users_behavior, test_size=0.2, random_state=12345)\n",
    "users_behavior_train, users_behavior_valid = train_test_split(users_behavior_train, test_size=0.25, random_state=12345)"
   ]
  },
  {
   "cell_type": "code",
   "execution_count": 53,
   "metadata": {
    "id": "_gYzRFV2rGv-"
   },
   "outputs": [],
   "source": [
    "features_train = users_behavior_train.drop(['is_ultra'], axis=1)\n",
    "target_train = users_behavior_train['is_ultra']\n",
    "\n",
    "features_valid = users_behavior_valid.drop(['is_ultra'], axis=1)\n",
    "target_valid = users_behavior_valid['is_ultra']\n",
    "\n",
    "features_test = users_behavior_test.drop(['is_ultra'], axis=1)\n",
    "target_test = users_behavior_test['is_ultra']"
   ]
  },
  {
   "cell_type": "markdown",
   "metadata": {},
   "source": [
    "<div class=\"alert alert-danger\">\n",
    "<b>Reviewer's comment v1:</b>\n",
    "    \n",
    "Here, we need to split the source data into three parts: a training set, a validation set, and a test set. The training and validation data can be used for model selection and hyperparameter tuning, while the test set should only be used once to validate the final model. This approach helps us avoid overfitting and ensures that we test our final model on a completely new subset of data. Please ensure this split is implemented, and also conduct a final check at the end of the project using the test data."
   ]
  },
  {
   "cell_type": "markdown",
   "metadata": {},
   "source": [
    "<div class=\"alert alert-info\">\n",
    "<b>Student's comment:</b>\n",
    "\n",
    "I completely missed this point. It certainly made a difference generally by improving performance on the test set. For one of the experiments (LogisticRegression) it actually affected which solver parameter performed the best. I am still trying to figure out how to get from validation to test through a deployed app. Interesting stuff."
   ]
  },
  {
   "cell_type": "markdown",
   "metadata": {
    "id": "gmRZ1llcuv8M"
   },
   "source": [
    "## Decision Tree Classifier\n",
    "\n",
    "    Args:\n",
    "    class sklearn.tree.DecisionTreeClassifier(*, criterion='gini', splitter='best', max_depth=None, min_samples_split=2, min_samples_leaf=1, min_weight_fraction_leaf=0.0, max_features=None, random_state=None, max_leaf_nodes=None, min_impurity_decrease=0.0, class_weight=None, ccp_alpha=0.0, monotonic_cst=None)\n",
    "    \n",
    "    #https://scikit-learn.org/stable/modules/generated/sklearn.tree.DecisionTreeClassifier.html#decisiontreeclassifier"
   ]
  },
  {
   "cell_type": "code",
   "execution_count": 54,
   "metadata": {
    "colab": {
     "base_uri": "https://localhost:8080/",
     "height": 988
    },
    "id": "CK4FQ8uTtcq0",
    "outputId": "40740d3e-d7ee-4cef-a1ee-b7f27b24963b"
   },
   "outputs": [
    {
     "name": "stdout",
     "output_type": "stream",
     "text": [
      "Model accuracy at max_depth = 1 : 0.7387247278382582\n",
      "Model precision at max_depth = 1 : 0.7352941176470589\n",
      "Model recall at max_depth = 1 : 0.25\n",
      "Model F1-score at max_depth = 1 : 0.373134328358209\n",
      "\n",
      "Model accuracy at max_depth = 2 : 0.7573872472783826\n",
      "Model precision at max_depth = 2 : 0.7244897959183674\n",
      "Model recall at max_depth = 2 : 0.355\n",
      "Model F1-score at max_depth = 2 : 0.47651006711409394\n",
      "\n",
      "Model accuracy at max_depth = 3 : 0.7651632970451011\n",
      "Model precision at max_depth = 3 : 0.7247706422018348\n",
      "Model recall at max_depth = 3 : 0.395\n",
      "Model F1-score at max_depth = 3 : 0.5113268608414241\n",
      "\n",
      "Model accuracy at max_depth = 4 : 0.7636080870917574\n",
      "Model precision at max_depth = 4 : 0.7142857142857143\n",
      "Model recall at max_depth = 4 : 0.4\n",
      "Model F1-score at max_depth = 4 : 0.5128205128205129\n",
      "\n",
      "Model accuracy at max_depth = 5 : 0.7589424572317263\n",
      "Model precision at max_depth = 5 : 0.7472527472527473\n",
      "Model recall at max_depth = 5 : 0.34\n",
      "Model F1-score at max_depth = 5 : 0.46735395189003437\n",
      "\n",
      "Model accuracy at max_depth = 6 : 0.7573872472783826\n",
      "Model precision at max_depth = 6 : 0.7391304347826086\n",
      "Model recall at max_depth = 6 : 0.34\n",
      "Model F1-score at max_depth = 6 : 0.4657534246575342\n",
      "\n",
      "Model accuracy at max_depth = 7 : 0.7744945567651633\n",
      "Model precision at max_depth = 7 : 0.7522935779816514\n",
      "Model recall at max_depth = 7 : 0.41\n",
      "Model F1-score at max_depth = 7 : 0.5307443365695792\n",
      "\n",
      "Model accuracy at max_depth = 8 : 0.7667185069984448\n",
      "Model precision at max_depth = 8 : 0.7155172413793104\n",
      "Model recall at max_depth = 8 : 0.415\n",
      "Model F1-score at max_depth = 8 : 0.5253164556962026\n",
      "\n",
      "Model accuracy at max_depth = 9 : 0.7620528771384136\n",
      "Model precision at max_depth = 9 : 0.6666666666666666\n",
      "Model recall at max_depth = 9 : 0.47\n",
      "Model F1-score at max_depth = 9 : 0.5513196480938416\n",
      "\n",
      "\n",
      "Accuracy of the best model on the validation set (max_depth = 7): 0.7744945567651633\n",
      "Precision of the best model on the validation set (max_depth = 7): 0.7522935779816514\n",
      "Recall of the best model on the validation set (max_depth = 7): 0.41\n",
      "F1-Score of the best model on the validation set (max_depth = 7): 0.5307443365695792\n"
     ]
    },
    {
     "data": {
      "text/plain": [
       "DecisionTreeClassifier(max_depth=7, random_state=12345)"
      ]
     },
     "execution_count": 54,
     "metadata": {},
     "output_type": "execute_result"
    }
   ],
   "source": [
    "# Decision Tree Classifier\n",
    "\n",
    "best_score_dt = 0\n",
    "best_depth = 0\n",
    "best_precision_dt = 0\n",
    "best_recall_dt = 0\n",
    "best_f1_dt = 0\n",
    "\n",
    "for depth in range(1,10):\n",
    "    model = DecisionTreeClassifier(max_depth=depth, random_state=12345)\n",
    "    model.fit(features_train, target_train)\n",
    "    predictions_valid = model.predict(features_valid)\n",
    "\n",
    "    score = accuracy_score(target_valid, predictions_valid)\n",
    "    precision = precision_score(target_valid, predictions_valid)\n",
    "    recall = recall_score(target_valid, predictions_valid)\n",
    "    f1 = f1_score(target_valid, predictions_valid)\n",
    "\n",
    "    print('Model accuracy at max_depth =', depth, ': ', end='')\n",
    "    print(score)\n",
    "    print('Model precision at max_depth =', depth, ': ', end='')\n",
    "    print(precision)\n",
    "    print('Model recall at max_depth =', depth, ': ', end='')\n",
    "    print(recall)\n",
    "    print('Model F1-score at max_depth =', depth, ': ', end='')\n",
    "    print(f1)\n",
    "    print()\n",
    "\n",
    "    if score > best_score_dt:\n",
    "        best_score_dt = score\n",
    "        best_depth = depth\n",
    "        best_precision_dt = precision\n",
    "        best_recall_dt = recall\n",
    "        best_f1_dt = f1\n",
    "\n",
    "print()\n",
    "print(\"Accuracy of the best model on the validation set (max_depth = {}): {}\".format(best_depth, best_score_dt))\n",
    "print(\"Precision of the best model on the validation set (max_depth = {}): {}\".format(best_depth, best_precision_dt))\n",
    "print(\"Recall of the best model on the validation set (max_depth = {}): {}\".format(best_depth, best_recall_dt))\n",
    "print(\"F1-Score of the best model on the validation set (max_depth = {}): {}\".format(best_depth, best_f1_dt))\n",
    "\n",
    "final_model1 = DecisionTreeClassifier(random_state=12345, max_depth=best_depth)\n",
    "final_model1.fit(features_train, target_train)"
   ]
  },
  {
   "cell_type": "code",
   "execution_count": 55,
   "metadata": {},
   "outputs": [
    {
     "name": "stdout",
     "output_type": "stream",
     "text": [
      "\n",
      "Accuracy of the final model on the test set: 0.7884914463452566\n",
      "Precision of the final model on the test set: 0.7678571428571429\n",
      "Recall of the final model on the test set: 0.4387755102040816\n",
      "F1-Score of the final model on the test set: 0.5584415584415584\n"
     ]
    }
   ],
   "source": [
    "# Evaluate the final model on the test set\n",
    "predictions_test = final_model1.predict(features_test)\n",
    "test_score = accuracy_score(target_test, predictions_test)\n",
    "test_precision = precision_score(target_test, predictions_test)\n",
    "test_recall = recall_score(target_test, predictions_test)\n",
    "test_f1 = f1_score(target_test, predictions_test)\n",
    "\n",
    "print()\n",
    "print(\"Accuracy of the final model on the test set: {}\".format(test_score))\n",
    "print(\"Precision of the final model on the test set: {}\".format(test_precision))\n",
    "print(\"Recall of the final model on the test set: {}\".format(test_recall))\n",
    "print(\"F1-Score of the final model on the test set: {}\".format(test_f1))"
   ]
  },
  {
   "cell_type": "markdown",
   "metadata": {
    "id": "Jv-5iI9CwI5Q"
   },
   "source": [
    "### Conclusion\n",
    "\n",
    "In this model, I set 'max_depth' to iterate from 1 to 10 to evaluate this parameter's effect on the accuracy. I also learned that accuracy, precision, and F-1 score can only be applied to classification models. If this model is the best, I plan to tune the criterion hyperparameter next.\n",
    "\n",
    "The optimal model is at max_depth = 7."
   ]
  },
  {
   "cell_type": "markdown",
   "metadata": {
    "id": "brvhHlLzvCc6"
   },
   "source": [
    "## Random Forest Classifier\n",
    "\n",
    "    Args:\n",
    "    class sklearn.ensemble.RandomForestClassifier(n_estimators=100, *, criterion='gini', max_depth=None, min_samples_split=2, min_samples_leaf=1, min_weight_fraction_leaf=0.0, max_features='sqrt', max_leaf_nodes=None, min_impurity_decrease=0.0, bootstrap=True, oob_score=False, n_jobs=None, random_state=None, verbose=0, warm_start=False, class_weight=None, ccp_alpha=0.0, max_samples=None, monotonic_cst=None)\n",
    "    \n",
    "    #https://scikit-learn.org/stable/modules/generated/sklearn.ensemble.RandomForestClassifier.html#randomforestclassifier"
   ]
  },
  {
   "cell_type": "code",
   "execution_count": 56,
   "metadata": {
    "colab": {
     "base_uri": "https://localhost:8080/",
     "height": 988
    },
    "id": "S_iTCMogbUn_",
    "outputId": "0d4da4c8-855d-4bcf-9926-1377ea8bdd83"
   },
   "outputs": [
    {
     "name": "stdout",
     "output_type": "stream",
     "text": [
      "Model accuracy at n_estimators = 1 : 0.702954898911353\n",
      "Model precision at n_estimators = 1 : 0.5226130653266332\n",
      "Model recall at n_estimators = 1 : 0.52\n",
      "Model F1-score at n_estimators = 1 : 0.5213032581453634\n",
      "\n",
      "Model accuracy at n_estimators = 2 : 0.7573872472783826\n",
      "Model precision at n_estimators = 2 : 0.6864406779661016\n",
      "Model recall at n_estimators = 2 : 0.405\n",
      "Model F1-score at n_estimators = 2 : 0.5094339622641509\n",
      "\n",
      "Model accuracy at n_estimators = 3 : 0.744945567651633\n",
      "Model precision at n_estimators = 3 : 0.601123595505618\n",
      "Model recall at n_estimators = 3 : 0.535\n",
      "Model F1-score at n_estimators = 3 : 0.566137566137566\n",
      "\n",
      "Model accuracy at n_estimators = 4 : 0.7651632970451011\n",
      "Model precision at n_estimators = 4 : 0.6991869918699187\n",
      "Model recall at n_estimators = 4 : 0.43\n",
      "Model F1-score at n_estimators = 4 : 0.5325077399380805\n",
      "\n",
      "Model accuracy at n_estimators = 5 : 0.7620528771384136\n",
      "Model precision at n_estimators = 5 : 0.6407185628742516\n",
      "Model recall at n_estimators = 5 : 0.535\n",
      "Model F1-score at n_estimators = 5 : 0.5831062670299728\n",
      "\n",
      "Model accuracy at n_estimators = 6 : 0.7698289269051322\n",
      "Model precision at n_estimators = 6 : 0.6911764705882353\n",
      "Model recall at n_estimators = 6 : 0.47\n",
      "Model F1-score at n_estimators = 6 : 0.5595238095238095\n",
      "\n",
      "Model accuracy at n_estimators = 7 : 0.7713841368584758\n",
      "Model precision at n_estimators = 7 : 0.6709677419354839\n",
      "Model recall at n_estimators = 7 : 0.52\n",
      "Model F1-score at n_estimators = 7 : 0.5859154929577466\n",
      "\n",
      "Model accuracy at n_estimators = 8 : 0.7869362363919129\n",
      "Model precision at n_estimators = 8 : 0.7299270072992701\n",
      "Model recall at n_estimators = 8 : 0.5\n",
      "Model F1-score at n_estimators = 8 : 0.5934718100890207\n",
      "\n",
      "Model accuracy at n_estimators = 9 : 0.7838258164852255\n",
      "Model precision at n_estimators = 9 : 0.6967741935483871\n",
      "Model recall at n_estimators = 9 : 0.54\n",
      "Model F1-score at n_estimators = 9 : 0.6084507042253521\n",
      "\n",
      "\n",
      "Accuracy of the best model on the validation set (n_estimators = 8): 0.7869362363919129\n",
      "Precision of the best model on the validation set (n_estimators = 8): 0.7299270072992701\n",
      "Recall of the best model on the validation set (n_estimators = 8): 0.5\n",
      "F1-Score of the best model on the validation set (n_estimators = 8): 0.5934718100890207\n"
     ]
    },
    {
     "data": {
      "text/plain": [
       "RandomForestClassifier(n_estimators=8, random_state=12345)"
      ]
     },
     "execution_count": 56,
     "metadata": {},
     "output_type": "execute_result"
    }
   ],
   "source": [
    "# Random Forest Classifier\n",
    "\n",
    "best_score_rf = 0\n",
    "best_est = 0\n",
    "best_precision_rf = 0\n",
    "best_recall_rf = 0\n",
    "best_f1_rf = 0\n",
    "\n",
    "for est in range(1, 10):\n",
    "    model = RandomForestClassifier(random_state = 12345, n_estimators = est)\n",
    "    model.fit(features_train, target_train)\n",
    "    predictions_valid = model.predict(features_valid)\n",
    "    score = accuracy_score(target_valid, predictions_valid)\n",
    "    precision = precision_score(target_valid, predictions_valid)\n",
    "    recall = recall_score(target_valid, predictions_valid)\n",
    "    f1 = f1_score(target_valid, predictions_valid)\n",
    "\n",
    "    print('Model accuracy at n_estimators =', est, ': ', end='')\n",
    "    print(score)\n",
    "    print('Model precision at n_estimators =', est, ': ', end='')\n",
    "    print(precision)\n",
    "    print('Model recall at n_estimators =', est, ': ', end='')\n",
    "    print(recall)\n",
    "    print('Model F1-score at n_estimators =', est, ': ', end='')\n",
    "    print(f1)\n",
    "    print()\n",
    "\n",
    "    if score > best_score_rf:\n",
    "        best_score_rf = score\n",
    "        best_est = est\n",
    "        best_precision_rf = precision\n",
    "        best_recall_rf = recall\n",
    "        best_f1_rf = f1\n",
    "\n",
    "print()\n",
    "print(\"Accuracy of the best model on the validation set (n_estimators = {}): {}\".format(best_est, best_score_rf))\n",
    "print(\"Precision of the best model on the validation set (n_estimators = {}): {}\".format(best_est, best_precision_rf))\n",
    "print(\"Recall of the best model on the validation set (n_estimators = {}): {}\".format(best_est, best_recall_rf))\n",
    "print(\"F1-Score of the best model on the validation set (n_estimators = {}): {}\".format(best_est, best_f1_rf))\n",
    "\n",
    "final_model2 = RandomForestClassifier(random_state=12345, n_estimators=best_est)\n",
    "final_model2.fit(features_train, target_train)"
   ]
  },
  {
   "cell_type": "code",
   "execution_count": 57,
   "metadata": {},
   "outputs": [
    {
     "name": "stdout",
     "output_type": "stream",
     "text": [
      "\n",
      "Accuracy of the final model on the test set: 0.776049766718507\n",
      "Precision of the final model on the test set: 0.6911764705882353\n",
      "Recall of the final model on the test set: 0.47959183673469385\n",
      "F1-Score of the final model on the test set: 0.5662650602409639\n"
     ]
    }
   ],
   "source": [
    "# Evaluate the final model on the test set\n",
    "predictions_test = final_model2.predict(features_test)\n",
    "test_score = accuracy_score(target_test, predictions_test)\n",
    "test_precision = precision_score(target_test, predictions_test)\n",
    "test_recall = recall_score(target_test, predictions_test)\n",
    "test_f1 = f1_score(target_test, predictions_test)\n",
    "\n",
    "print()\n",
    "print(\"Accuracy of the final model on the test set: {}\".format(test_score))\n",
    "print(\"Precision of the final model on the test set: {}\".format(test_precision))\n",
    "print(\"Recall of the final model on the test set: {}\".format(test_recall))\n",
    "print(\"F1-Score of the final model on the test set: {}\".format(test_f1))"
   ]
  },
  {
   "cell_type": "markdown",
   "metadata": {
    "id": "6FUHEwcywRtr"
   },
   "source": [
    "### Conclusion\n",
    "\n",
    "Here, we use the random forest classification model where the main parameter was the n_estimators ('*number of trees*'). Iterating from 0 to 9, it finds that 4 estimators results in the best accuracy"
   ]
  },
  {
   "cell_type": "markdown",
   "metadata": {
    "id": "paQxB4YQvRwA"
   },
   "source": [
    "## Logistic Regression\n",
    "\n",
    "In logistic regression, the goal is to predict the probability of an event occurring (e.g., 1 or 0), rather than predicting a continuous value. Therefore, evaluation metrics that are specifically designed for classification problems, such as accuracy, precision, recall, F1-score, and ROC-AUC, are more suitable.\n",
    "\n",
    "    Args:\n",
    "    class sklearn.linear_model.LogisticRegression(penalty='l2', *, dual=False, tol=0.0001, C=1.0, fit_intercept=True, intercept_scaling=1, class_weight=None, random_state=None, solver='lbfgs', max_iter=100, multi_class='deprecated', verbose=0, warm_start=False, n_jobs=None, l1_ratio=None)\n",
    "    \n",
    "    #https://scikit-learn.org/stable/modules/generated/sklearn.linear_model.LogisticRegression.html#logisticregression"
   ]
  },
  {
   "cell_type": "code",
   "execution_count": 58,
   "metadata": {
    "colab": {
     "base_uri": "https://localhost:8080/"
    },
    "id": "OkErlunDbUrb",
    "outputId": "7800cd58-d8c0-4185-ddf6-a888d61eecd6"
   },
   "outputs": [
    {
     "name": "stdout",
     "output_type": "stream",
     "text": [
      "Solver: liblinear\n",
      "Accuracy of the logistic regression model on the training set: 0.7422\n",
      "Accuracy of the logistic regression model on the validation set: 0.7294\n",
      "Precision: 0.8824\n",
      "Recall: 0.1500\n",
      "F1-Score: 0.2564\n",
      "\n",
      "Solver: newton-cg\n",
      "Accuracy of the logistic regression model on the training set: 0.7510\n",
      "Accuracy of the logistic regression model on the validation set: 0.7263\n",
      "Precision: 0.7400\n",
      "Recall: 0.1850\n",
      "F1-Score: 0.2960\n",
      "\n",
      "Solver: lbfgs\n",
      "Accuracy of the logistic regression model on the training set: 0.7510\n",
      "Accuracy of the logistic regression model on the validation set: 0.7263\n",
      "Precision: 0.7400\n",
      "Recall: 0.1850\n",
      "F1-Score: 0.2960\n",
      "\n",
      "Solver: sag\n",
      "Accuracy of the logistic regression model on the training set: 0.6976\n",
      "Accuracy of the logistic regression model on the validation set: 0.6921\n",
      "Precision: 1.0000\n",
      "Recall: 0.0100\n",
      "F1-Score: 0.0198\n",
      "\n",
      "Solver: saga\n",
      "Accuracy of the logistic regression model on the training set: 0.6976\n",
      "Accuracy of the logistic regression model on the validation set: 0.6921\n",
      "Precision: 1.0000\n",
      "Recall: 0.0100\n",
      "F1-Score: 0.0198\n",
      "\n",
      "\n",
      "Best solver on the validation set: liblinear\n",
      "Accuracy of the best solver on the validation set: 0.7293934681181959\n",
      "Precision of the best solver on the validation set: 0.8823529411764706\n",
      "Recall of the best solver on the validation set: 0.15\n",
      "F1-Score of the best solver on the validation set: 0.25641025641025644\n",
      "\n",
      "Accuracy of the final model on the test set: 0.7511664074650077\n",
      "Precision of the final model on the test set: 0.9285714285714286\n",
      "Recall of the final model on the test set: 0.1989795918367347\n",
      "F1-Score of the final model on the test set: 0.3277310924369748\n"
     ]
    },
    {
     "name": "stderr",
     "output_type": "stream",
     "text": [
      "/opt/conda/envs/python3/lib/python3.9/site-packages/scipy/optimize/_linesearch.py:457: LineSearchWarning: The line search algorithm did not converge\n",
      "  warn('The line search algorithm did not converge', LineSearchWarning)\n",
      "/opt/conda/envs/python3/lib/python3.9/site-packages/scipy/optimize/_linesearch.py:306: LineSearchWarning: The line search algorithm did not converge\n",
      "  warn('The line search algorithm did not converge', LineSearchWarning)\n",
      "/opt/conda/envs/python3/lib/python3.9/site-packages/sklearn/linear_model/_sag.py:328: ConvergenceWarning: The max_iter was reached which means the coef_ did not converge\n",
      "  warnings.warn(\"The max_iter was reached which means \"\n",
      "/opt/conda/envs/python3/lib/python3.9/site-packages/sklearn/linear_model/_sag.py:328: ConvergenceWarning: The max_iter was reached which means the coef_ did not converge\n",
      "  warnings.warn(\"The max_iter was reached which means \"\n"
     ]
    }
   ],
   "source": [
    "def run_all_solvers(features_train, target_train, features_valid, target_valid, features_test, target_test):\n",
    "  solvers = ['liblinear', 'newton-cg', 'lbfgs', 'sag', 'saga']\n",
    "  best_solver = ''\n",
    "  best_score = 0\n",
    "  best_precision = 0\n",
    "  best_recall = 0\n",
    "  best_f1 = 0\n",
    "\n",
    "  for solver in solvers:\n",
    "    model = LogisticRegression(random_state=12345, solver=solver)\n",
    "    model.fit(features_train, target_train)\n",
    "\n",
    "    # Predict on validation set\n",
    "    y_pred = model.predict(features_valid)\n",
    "\n",
    "    # Calculate classification metrics\n",
    "    score = model.score(features_valid, target_valid)\n",
    "    precision = precision_score(target_valid, y_pred)\n",
    "    recall = recall_score(target_valid, y_pred)\n",
    "    f1 = f1_score(target_valid, y_pred)\n",
    "\n",
    "    # Print results\n",
    "    print(f\"Solver: {solver}\")\n",
    "    print(f\"Accuracy of the logistic regression model on the training set: {model.score(features_train, target_train):.4f}\")\n",
    "    print(f\"Accuracy of the logistic regression model on the validation set: {score:.4f}\")\n",
    "    print(f\"Precision: {precision:.4f}\")\n",
    "    print(f\"Recall: {recall:.4f}\")\n",
    "    print(f\"F1-Score: {f1:.4f}\")\n",
    "    print()\n",
    "\n",
    "    if score > best_score:\n",
    "        best_solver = solver\n",
    "        best_score = score\n",
    "        best_precision = precision\n",
    "        best_recall = recall\n",
    "        best_f1 = f1\n",
    "\n",
    "  print()\n",
    "  print(\"Best solver on the validation set: {}\".format(best_solver))\n",
    "  print(\"Accuracy of the best solver on the validation set: {}\".format(best_score))\n",
    "  print(\"Precision of the best solver on the validation set: {}\".format(best_precision))\n",
    "  print(\"Recall of the best solver on the validation set: {}\".format(best_recall))\n",
    "  print(\"F1-Score of the best solver on the validation set: {}\".format(best_f1))\n",
    "\n",
    "  # Train the best model on the entire training set and evaluate on the test set\n",
    "  final_model = LogisticRegression(random_state=12345, solver=best_solver)\n",
    "  final_model.fit(features_train, target_train)\n",
    "  y_pred_test = final_model.predict(features_test)\n",
    "  test_score = final_model.score(features_test, target_test)\n",
    "  test_precision = precision_score(target_test, y_pred_test)\n",
    "  test_recall = recall_score(target_test, y_pred_test)\n",
    "  test_f1 = f1_score(target_test, y_pred_test)\n",
    "\n",
    "  print()\n",
    "  print(\"Accuracy of the final model on the test set: {}\".format(test_score))\n",
    "  print(\"Precision of the final model on the test set: {}\".format(test_precision))\n",
    "  print(\"Recall of the final model on the test set: {}\".format(test_recall))\n",
    "  print(\"F1-Score of the final model on the test set: {}\".format(test_f1))\n",
    "\n",
    "# Run the function with your data (replace with your actual data)\n",
    "# ... (assuming features_train, target_train, features_valid, target_valid, features_test, target_test are defined)\n",
    "run_all_solvers(features_train, target_train, features_valid, target_valid, features_test, target_test)"
   ]
  },
  {
   "cell_type": "markdown",
   "metadata": {
    "id": "B7kL3kFBwTii"
   },
   "source": [
    "### Conclusion\n",
    "\n",
    "This was one of the more challenging models to assess because of the complexity of the hyperparameters. I decided to iterate through the solver options by makign them into a list. The result was that the newton-cg optimization was ideal, followed by liblinear, then lbfgs – all of which are optimization functions with different recommended uses. The documentation predicted that liblinear would be the best, but for this exercise I am using Precision as the primary metric, then recall and F-score as a composite score."
   ]
  },
  {
   "cell_type": "markdown",
   "metadata": {
    "id": "T1-VO5dqvgib"
   },
   "source": [
    "## Decision Tree Regression\n",
    "\n",
    "    Args:\n",
    "    class sklearn.tree.DecisionTreeRegressor(*, criterion='squared_error', splitter='best', max_depth=None, min_samples_split=2, min_samples_leaf=1, min_weight_fraction_leaf=0.0, max_features=None, random_state=None, max_leaf_nodes=None, min_impurity_decrease=0.0, ccp_alpha=0.0, monotonic_cst=None)\n",
    "    \n",
    "    #https://scikit-learn.org/stable/modules/generated/sklearn.tree.DecisionTreeRegressor.html#decisiontreeregressor"
   ]
  },
  {
   "cell_type": "code",
   "execution_count": 59,
   "metadata": {
    "colab": {
     "base_uri": "https://localhost:8080/",
     "height": 659
    },
    "id": "8BVjBA0wbUuN",
    "outputId": "692266a8-7f18-4144-9407-655088577951"
   },
   "outputs": [
    {
     "name": "stdout",
     "output_type": "stream",
     "text": [
      "Model MSE at max_depth = 1 : 0.1937862813914957\n",
      "Model MAE at max_depth = 1 : 0.37661648271350523\n",
      "Model MASE at max_depth = 1 : 0.8787342447032508\n",
      "Model MSE at max_depth = 2 : 0.1838525916022883\n",
      "Model MAE at max_depth = 2 : 0.34634550980216167\n",
      "Model MASE at max_depth = 2 : 0.8081049925631713\n",
      "Model MSE at max_depth = 3 : 0.17846996087684036\n",
      "Model MAE at max_depth = 3 : 0.32691317548105714\n",
      "Model MASE at max_depth = 3 : 0.7627648165319842\n",
      "Model MSE at max_depth = 4 : 0.18238033144688676\n",
      "Model MAE at max_depth = 4 : 0.3230849937715058\n",
      "Model MASE at max_depth = 4 : 0.7538327742090029\n",
      "Model MSE at max_depth = 5 : 0.18223915306655555\n",
      "Model MAE at max_depth = 5 : 0.3159897016267502\n",
      "Model MASE at max_depth = 5 : 0.7372777999315929\n",
      "Model MSE at max_depth = 6 : 0.18585888412918566\n",
      "Model MAE at max_depth = 6 : 0.3107140969524985\n",
      "Model MASE at max_depth = 6 : 0.7249685816642978\n",
      "Model MSE at max_depth = 7 : 0.18340503990082901\n",
      "Model MAE at max_depth = 7 : 0.3003084672815417\n",
      "Model MASE at max_depth = 7 : 0.7006898165298315\n",
      "Model MSE at max_depth = 8 : 0.18823857058645874\n",
      "Model MAE at max_depth = 8 : 0.2932691988055901\n",
      "Model MASE at max_depth = 8 : 0.6842655585607925\n",
      "Model MSE at max_depth = 9 : 0.1930976808890013\n",
      "Model MAE at max_depth = 9 : 0.28657111712406963\n",
      "Model MASE at max_depth = 9 : 0.6686373690961032\n",
      "\n",
      "MSE of the best model on the validation set (max_depth = 3): 0.17846996087684036\n",
      "MAE of the best model on the validation set (max_depth = 3): 0.32691317548105714\n",
      "MASE of the best model on the validation set (max_depth = 3): 0.7627648165319842\n",
      "\n"
     ]
    },
    {
     "data": {
      "text/plain": [
       "DecisionTreeRegressor(max_depth=3, random_state=12345)"
      ]
     },
     "execution_count": 59,
     "metadata": {},
     "output_type": "execute_result"
    }
   ],
   "source": [
    "# Decision Tree Regression\n",
    "\n",
    "best_score_dt_mse = float('inf')  # Initialize with infinity\n",
    "best_score_dt_mae = float('inf')  # Initialize with infinity\n",
    "best_score_dt_mase = float('inf')  # Initialize with infinity\n",
    "best_depth = 0\n",
    "\n",
    "for depth in range(1, 10):\n",
    "    model = DecisionTreeRegressor(max_depth=depth, random_state=12345)\n",
    "    model.fit(features_train, target_train)\n",
    "    predictions_valid = model.predict(features_valid)\n",
    "\n",
    "    mse = mean_squared_error(target_valid, predictions_valid)\n",
    "    mae = mean_absolute_error(target_valid, predictions_valid)\n",
    "    mase = mae / mean_absolute_error(target_valid, [target_valid.mean()] * len(target_valid))\n",
    "\n",
    "    print('Model MSE at max_depth =', depth, ': ', end='')\n",
    "    print(mse)\n",
    "    print('Model MAE at max_depth =', depth, ': ', end='')\n",
    "    print(mae)\n",
    "    print('Model MASE at max_depth =', depth, ': ', end='')\n",
    "    print(mase)\n",
    "\n",
    "    if mse < best_score_dt_mse:\n",
    "        best_score_dt_mse = mse\n",
    "        best_score_dt_mae = mae\n",
    "        best_score_dt_mase = mase\n",
    "        best_depth = depth\n",
    "\n",
    "print()\n",
    "print(\"MSE of the best model on the validation set (max_depth = {}): {}\".format(best_depth, best_score_dt_mse))\n",
    "print(\"MAE of the best model on the validation set (max_depth = {}): {}\".format(best_depth, best_score_dt_mae))\n",
    "print(\"MASE of the best model on the validation set (max_depth = {}): {}\".format(best_depth, best_score_dt_mase))\n",
    "print()\n",
    "\n",
    "final_model3 = DecisionTreeRegressor(random_state=12345, max_depth=best_depth)\n",
    "final_model3.fit(features_train, target_train)"
   ]
  },
  {
   "cell_type": "code",
   "execution_count": 60,
   "metadata": {},
   "outputs": [
    {
     "name": "stdout",
     "output_type": "stream",
     "text": [
      "\n",
      "MSE of the final model on the test set: 0.16402659756484148\n",
      "MAE of the final model on the test set: 0.31358557860238817\n",
      "MASE of the final model on the test set: 0.7399194396177396\n"
     ]
    }
   ],
   "source": [
    "# Evaluate the final model on the test set\n",
    "predictions_test = final_model3.predict(features_test)\n",
    "test_mse = mean_squared_error(target_test, predictions_test)\n",
    "test_mae = mean_absolute_error(target_test, predictions_test)\n",
    "test_mase = test_mae / mean_absolute_error(target_test, [target_test.mean()] * len(target_test))\n",
    "\n",
    "print()\n",
    "print(\"MSE of the final model on the test set: {}\".format(test_mse))\n",
    "print(\"MAE of the final model on the test set: {}\".format(test_mae))\n",
    "print(\"MASE of the final model on the test set: {}\".format(test_mase))"
   ]
  },
  {
   "cell_type": "markdown",
   "metadata": {
    "id": "d-ww75zfwVTp"
   },
   "source": [
    "### Conclusion\n",
    "\n",
    "Here, we switch to a sklearn set of regressions that were covered in the Triple Ten course. I wrote it in a way that the MSE, MAE, and MASE are evaluated for each of the max_depth iterations so that the best can be identified. The metrics are not comparable to those used in the classification models. We aim for MSE and MAE = [0 | 0, 1] and MASE = [0, 1 | 1], so the model is ok at best.\n"
   ]
  },
  {
   "cell_type": "markdown",
   "metadata": {
    "id": "M9o8w9srvqV_"
   },
   "source": [
    "## Random Forest Regression\n",
    "\n",
    "    Args:\n",
    "    class sklearn.ensemble.RandomForestRegressor(n_estimators=100, *, criterion='squared_error', max_depth=None, min_samples_split=2, min_samples_leaf=1, min_weight_fraction_leaf=0.0, max_features=1.0, max_leaf_nodes=None, min_impurity_decrease=0.0, bootstrap=True, oob_score=False, n_jobs=None, random_state=None, verbose=0, warm_start=False, ccp_alpha=0.0, max_samples=None, monotonic_cst=None)\n",
    "    \n",
    "    #https://scikit-learn.org/stable/modules/generated/sklearn.ensemble.RandomForestRegressor.html#randomforestregressor"
   ]
  },
  {
   "cell_type": "code",
   "execution_count": 61,
   "metadata": {
    "colab": {
     "base_uri": "https://localhost:8080/",
     "height": 1000
    },
    "id": "iUj4lVd0bUw3",
    "outputId": "617b9887-eb1c-44c8-ebb2-a4ed3ef47139"
   },
   "outputs": [
    {
     "name": "stdout",
     "output_type": "stream",
     "text": [
      "Model MSE at max_depth = 1 and n_estimators = 10 : 0.18518901469204543\n",
      "Model MAE at max_depth = 1 and n_estimators = 10 : 0.37705215375703977\n",
      "Model MASE at max_depth = 1 and n_estimators = 10 : 0.8797507670355211\n",
      "Model MSE at max_depth = 1 and n_estimators = 20 : 0.1852684956271119\n",
      "Model MAE at max_depth = 1 and n_estimators = 20 : 0.37740846038274983\n",
      "Model MASE at max_depth = 1 and n_estimators = 20 : 0.8805821136387559\n",
      "Model MSE at max_depth = 1 and n_estimators = 30 : 0.18643340431944244\n",
      "Model MAE at max_depth = 1 and n_estimators = 30 : 0.37777806624604976\n",
      "Model MASE at max_depth = 1 and n_estimators = 30 : 0.881444490470446\n",
      "Model MSE at max_depth = 1 and n_estimators = 40 : 0.18771366221724362\n",
      "Model MAE at max_depth = 1 and n_estimators = 40 : 0.37726852280498796\n",
      "Model MASE at max_depth = 1 and n_estimators = 40 : 0.8802556065756179\n",
      "Model MSE at max_depth = 1 and n_estimators = 50 : 0.18792186523553805\n",
      "Model MAE at max_depth = 1 and n_estimators = 50 : 0.3769498166557713\n",
      "Model MASE at max_depth = 1 and n_estimators = 50 : 0.8795119906688037\n",
      "Model MSE at max_depth = 2 and n_estimators = 10 : 0.17648216995083602\n",
      "Model MAE at max_depth = 2 and n_estimators = 10 : 0.3488192610758202\n",
      "Model MASE at max_depth = 2 and n_estimators = 10 : 0.8138768322377923\n",
      "Model MSE at max_depth = 2 and n_estimators = 20 : 0.1767131053706693\n",
      "Model MAE at max_depth = 2 and n_estimators = 20 : 0.3472447437392995\n",
      "Model MASE at max_depth = 2 and n_estimators = 20 : 0.8102031154304156\n",
      "Model MSE at max_depth = 2 and n_estimators = 30 : 0.1769027674175142\n",
      "Model MAE at max_depth = 2 and n_estimators = 30 : 0.34854767574049167\n",
      "Model MASE at max_depth = 2 and n_estimators = 30 : 0.813243160198818\n",
      "Model MSE at max_depth = 2 and n_estimators = 40 : 0.1774782441526232\n",
      "Model MAE at max_depth = 2 and n_estimators = 40 : 0.3479311974795319\n",
      "Model MASE at max_depth = 2 and n_estimators = 40 : 0.8118047723855248\n",
      "Model MSE at max_depth = 2 and n_estimators = 50 : 0.17710186200998795\n",
      "Model MAE at max_depth = 2 and n_estimators = 50 : 0.3481259959661517\n",
      "Model MASE at max_depth = 2 and n_estimators = 50 : 0.8122592827664191\n",
      "Model MSE at max_depth = 3 and n_estimators = 10 : 0.176422061412596\n",
      "Model MAE at max_depth = 3 and n_estimators = 10 : 0.3283557125123367\n",
      "Model MASE at max_depth = 3 and n_estimators = 10 : 0.7661305924521056\n",
      "Model MSE at max_depth = 3 and n_estimators = 20 : 0.17562813438420094\n",
      "Model MAE at max_depth = 3 and n_estimators = 20 : 0.32827005425420636\n",
      "Model MASE at max_depth = 3 and n_estimators = 20 : 0.7659307317231794\n",
      "Model MSE at max_depth = 3 and n_estimators = 30 : 0.17562079942652306\n",
      "Model MAE at max_depth = 3 and n_estimators = 30 : 0.3294004155102291\n",
      "Model MASE at max_depth = 3 and n_estimators = 30 : 0.7685681286246542\n",
      "Model MSE at max_depth = 3 and n_estimators = 40 : 0.17556823004177932\n",
      "Model MAE at max_depth = 3 and n_estimators = 40 : 0.32874375196363725\n",
      "Model MASE at max_depth = 3 and n_estimators = 40 : 0.7670359791513198\n",
      "Model MSE at max_depth = 3 and n_estimators = 50 : 0.17563179260600922\n",
      "Model MAE at max_depth = 3 and n_estimators = 50 : 0.32882537568791403\n",
      "Model MASE at max_depth = 3 and n_estimators = 50 : 0.7672264263701601\n",
      "Model MSE at max_depth = 4 and n_estimators = 10 : 0.17181162380348816\n",
      "Model MAE at max_depth = 4 and n_estimators = 10 : 0.3184030195542906\n",
      "Model MASE at max_depth = 4 and n_estimators = 10 : 0.7429086344904171\n",
      "Model MSE at max_depth = 4 and n_estimators = 20 : 0.17156063111906567\n",
      "Model MAE at max_depth = 4 and n_estimators = 20 : 0.31987554536294915\n",
      "Model MASE at max_depth = 4 and n_estimators = 20 : 0.746344381234571\n",
      "Model MSE at max_depth = 4 and n_estimators = 30 : 0.17163872278432726\n",
      "Model MAE at max_depth = 4 and n_estimators = 30 : 0.321110473896211\n",
      "Model MASE at max_depth = 4 and n_estimators = 30 : 0.7492257580243485\n",
      "Model MSE at max_depth = 4 and n_estimators = 40 : 0.1712015080627996\n",
      "Model MAE at max_depth = 4 and n_estimators = 40 : 0.3205659849237347\n",
      "Model MASE at max_depth = 4 and n_estimators = 40 : 0.7479553380402552\n",
      "Model MSE at max_depth = 4 and n_estimators = 50 : 0.17149003729180862\n",
      "Model MAE at max_depth = 4 and n_estimators = 50 : 0.32081465438913664\n",
      "Model MASE at max_depth = 4 and n_estimators = 50 : 0.7485355420007571\n",
      "Model MSE at max_depth = 5 and n_estimators = 10 : 0.17003549327535733\n",
      "Model MAE at max_depth = 5 and n_estimators = 10 : 0.31063942034293207\n",
      "Model MASE at max_depth = 5 and n_estimators = 10 : 0.724794343687161\n",
      "Model MSE at max_depth = 5 and n_estimators = 20 : 0.16994741837797153\n",
      "Model MAE at max_depth = 5 and n_estimators = 20 : 0.3117290234470113\n",
      "Model MASE at max_depth = 5 and n_estimators = 20 : 0.7273366422976489\n",
      "Model MSE at max_depth = 5 and n_estimators = 30 : 0.16923162160743052\n",
      "Model MAE at max_depth = 5 and n_estimators = 30 : 0.3123748451503213\n",
      "Model MASE at max_depth = 5 and n_estimators = 30 : 0.7288434952175802\n",
      "Model MSE at max_depth = 5 and n_estimators = 40 : 0.16878590982324718\n",
      "Model MAE at max_depth = 5 and n_estimators = 40 : 0.3122568116043288\n",
      "Model MASE at max_depth = 5 and n_estimators = 40 : 0.7285680953780933\n",
      "Model MSE at max_depth = 5 and n_estimators = 50 : 0.16869642589510092\n",
      "Model MAE at max_depth = 5 and n_estimators = 50 : 0.31248477680547637\n",
      "Model MASE at max_depth = 5 and n_estimators = 50 : 0.7290999914528635\n",
      "Model MSE at max_depth = 6 and n_estimators = 10 : 0.16832528938218905\n",
      "Model MAE at max_depth = 6 and n_estimators = 10 : 0.3032300353460848\n",
      "Model MASE at max_depth = 6 and n_estimators = 10 : 0.7075065174029538\n",
      "Model MSE at max_depth = 6 and n_estimators = 20 : 0.16871212182792977\n",
      "Model MAE at max_depth = 6 and n_estimators = 20 : 0.3056999844989857\n",
      "Model MASE at max_depth = 6 and n_estimators = 20 : 0.7132694858415416\n",
      "Model MSE at max_depth = 6 and n_estimators = 30 : 0.16751166527654965\n",
      "Model MAE at max_depth = 6 and n_estimators = 30 : 0.3057677256423841\n",
      "Model MASE at max_depth = 6 and n_estimators = 30 : 0.7134275417557453\n",
      "Model MSE at max_depth = 6 and n_estimators = 40 : 0.1671465727647183\n",
      "Model MAE at max_depth = 6 and n_estimators = 40 : 0.3054053862490134\n",
      "Model MASE at max_depth = 6 and n_estimators = 40 : 0.7125821192960968\n",
      "Model MSE at max_depth = 6 and n_estimators = 50 : 0.16694913510846865\n",
      "Model MAE at max_depth = 6 and n_estimators = 50 : 0.30575613936324997\n",
      "Model MASE at max_depth = 6 and n_estimators = 50 : 0.7134005082595731\n",
      "Model MSE at max_depth = 7 and n_estimators = 10 : 0.16383798686293233\n",
      "Model MAE at max_depth = 7 and n_estimators = 10 : 0.2940248697910639\n",
      "Model MASE at max_depth = 7 and n_estimators = 10 : 0.6860287155205733\n",
      "Model MSE at max_depth = 7 and n_estimators = 20 : 0.16457687602024068\n",
      "Model MAE at max_depth = 7 and n_estimators = 20 : 0.29721530730206663\n",
      "Model MASE at max_depth = 7 and n_estimators = 20 : 0.693472751629414\n",
      "Model MSE at max_depth = 7 and n_estimators = 30 : 0.16399971022249318\n",
      "Model MAE at max_depth = 7 and n_estimators = 30 : 0.2983105427244131\n",
      "Model MASE at max_depth = 7 and n_estimators = 30 : 0.6960281917543222\n",
      "Model MSE at max_depth = 7 and n_estimators = 40 : 0.1634516665559001\n",
      "Model MAE at max_depth = 7 and n_estimators = 40 : 0.29821438942474077\n",
      "Model MASE at max_depth = 7 and n_estimators = 40 : 0.6958038436414766\n",
      "Model MSE at max_depth = 7 and n_estimators = 50 : 0.16294787850312986\n",
      "Model MAE at max_depth = 7 and n_estimators = 50 : 0.29819589684247566\n",
      "Model MASE at max_depth = 7 and n_estimators = 50 : 0.6957606961265504\n",
      "Model MSE at max_depth = 8 and n_estimators = 10 : 0.16097568170448437\n",
      "Model MAE at max_depth = 8 and n_estimators = 10 : 0.285876741828199\n",
      "Model MASE at max_depth = 8 and n_estimators = 10 : 0.6670172293009428\n",
      "Model MSE at max_depth = 8 and n_estimators = 20 : 0.16131392271827594\n",
      "Model MAE at max_depth = 8 and n_estimators = 20 : 0.28993889872023754\n",
      "Model MASE at max_depth = 8 and n_estimators = 20 : 0.6764951903892974\n",
      "Model MSE at max_depth = 8 and n_estimators = 30 : 0.16093520580222975\n",
      "Model MAE at max_depth = 8 and n_estimators = 30 : 0.2918119152619093\n",
      "Model MASE at max_depth = 8 and n_estimators = 30 : 0.6808653755819478\n",
      "Model MSE at max_depth = 8 and n_estimators = 40 : 0.15973432493290501\n",
      "Model MAE at max_depth = 8 and n_estimators = 40 : 0.2913604572901205\n",
      "Model MASE at max_depth = 8 and n_estimators = 40 : 0.6798120186576921\n"
     ]
    },
    {
     "name": "stdout",
     "output_type": "stream",
     "text": [
      "Model MSE at max_depth = 8 and n_estimators = 50 : 0.15971540072486523\n",
      "Model MAE at max_depth = 8 and n_estimators = 50 : 0.2917759753961289\n",
      "Model MASE at max_depth = 8 and n_estimators = 50 : 0.6807815194782962\n",
      "Model MSE at max_depth = 9 and n_estimators = 10 : 0.15942627706376108\n",
      "Model MAE at max_depth = 9 and n_estimators = 10 : 0.28069566833672455\n",
      "Model MASE at max_depth = 9 and n_estimators = 10 : 0.6549285743687948\n",
      "Model MSE at max_depth = 9 and n_estimators = 20 : 0.16078011612165652\n",
      "Model MAE at max_depth = 9 and n_estimators = 20 : 0.28656144764992053\n",
      "Model MASE at max_depth = 9 and n_estimators = 20 : 0.6686148079537924\n",
      "Model MSE at max_depth = 9 and n_estimators = 30 : 0.1598037396004023\n",
      "Model MAE at max_depth = 9 and n_estimators = 30 : 0.287489319376474\n",
      "Model MASE at max_depth = 9 and n_estimators = 30 : 0.6707797494745136\n",
      "Model MSE at max_depth = 9 and n_estimators = 40 : 0.15804750596166806\n",
      "Model MAE at max_depth = 9 and n_estimators = 40 : 0.28628639427343483\n",
      "Model MASE at max_depth = 9 and n_estimators = 40 : 0.667973044164545\n",
      "Model MSE at max_depth = 9 and n_estimators = 50 : 0.1574631212512064\n",
      "Model MAE at max_depth = 9 and n_estimators = 50 : 0.2860015468442312\n",
      "Model MASE at max_depth = 9 and n_estimators = 50 : 0.6673084285620798\n",
      "Model MSE at max_depth = 10 and n_estimators = 10 : 0.16026582154408983\n",
      "Model MAE at max_depth = 10 and n_estimators = 10 : 0.2770217143332976\n",
      "Model MASE at max_depth = 10 and n_estimators = 10 : 0.6463563813170856\n",
      "Model MSE at max_depth = 10 and n_estimators = 20 : 0.1597578475811032\n",
      "Model MAE at max_depth = 10 and n_estimators = 20 : 0.28160619809376053\n",
      "Model MASE at max_depth = 10 and n_estimators = 20 : 0.6570530530229527\n",
      "Model MSE at max_depth = 10 and n_estimators = 30 : 0.1586151407686571\n",
      "Model MAE at max_depth = 10 and n_estimators = 30 : 0.2828041420520623\n",
      "Model MASE at max_depth = 10 and n_estimators = 30 : 0.6598481361584826\n",
      "Model MSE at max_depth = 10 and n_estimators = 40 : 0.15647543546522724\n",
      "Model MAE at max_depth = 10 and n_estimators = 40 : 0.28164816376834534\n",
      "Model MASE at max_depth = 10 and n_estimators = 40 : 0.6571509687463805\n",
      "Model MSE at max_depth = 10 and n_estimators = 50 : 0.1564499129682124\n",
      "Model MAE at max_depth = 10 and n_estimators = 50 : 0.2817877833999811\n",
      "Model MASE at max_depth = 10 and n_estimators = 50 : 0.6574767339669233\n",
      "\n",
      "MSE of the best model on the validation set (max_depth = 10 and n_estimators = 50): 0.1564499129682124\n",
      "MAE of the best model on the validation set (max_depth = 10 and n_estimators = 50): 0.2817877833999811\n",
      "MASE of the best model on the validation set (max_depth = 10 and n_estimators = 50): 0.6574767339669233\n",
      "\n"
     ]
    },
    {
     "data": {
      "text/plain": [
       "RandomForestRegressor(max_depth=10, n_estimators=50, random_state=12345)"
      ]
     },
     "execution_count": 61,
     "metadata": {},
     "output_type": "execute_result"
    }
   ],
   "source": [
    "# Random Forest Regression\n",
    "\n",
    "best_model = None\n",
    "best_score_dt_mse = 10000\n",
    "best_score_dt_mae = 10000\n",
    "best_score_dt_mase = 10000\n",
    "best_depth = 0\n",
    "best_est = 0\n",
    "for depth in range (1, 11):\n",
    "    for est in range(10, 51, 10):\n",
    "        model = RandomForestRegressor(random_state=12345, n_estimators=est, max_depth=depth)\n",
    "        model.fit(features_train, target_train)\n",
    "        predictions_valid = model.predict(features_valid)\n",
    "\n",
    "        mse = mean_squared_error(target_valid, predictions_valid)\n",
    "        mae = mean_absolute_error(target_valid, predictions_valid)\n",
    "        mase = mae / mean_absolute_error(target_valid, [target_valid.mean()] * len(target_valid))\n",
    "\n",
    "        print('Model MSE at max_depth =', depth, 'and n_estimators =', est, ': ', end='')\n",
    "        print(mse)\n",
    "        print('Model MAE at max_depth =', depth, 'and n_estimators =', est, ': ', end='')\n",
    "        print(mae)\n",
    "        print('Model MASE at max_depth =', depth, 'and n_estimators =', est, ': ', end='')\n",
    "        print(mase)\n",
    "\n",
    "        if mse < best_score_dt_mse:\n",
    "            best_score_dt_mse = mse\n",
    "            best_score_dt_mae = mae\n",
    "            best_score_dt_mase = mase\n",
    "            best_depth = depth\n",
    "            best_est = est\n",
    "\n",
    "print()\n",
    "print(\"MSE of the best model on the validation set (max_depth = {} and n_estimators = {}): {}\".format(best_depth, best_est, best_score_dt_mse))\n",
    "print(\"MAE of the best model on the validation set (max_depth = {} and n_estimators = {}): {}\".format(best_depth, best_est, best_score_dt_mae))\n",
    "print(\"MASE of the best model on the validation set (max_depth = {} and n_estimators = {}): {}\".format(best_depth, best_est, best_score_dt_mase))\n",
    "print()\n",
    "\n",
    "final_model4 = RandomForestRegressor(random_state=12345, n_estimators=best_est, max_depth=best_depth)\n",
    "final_model4.fit(features_train, target_train)"
   ]
  },
  {
   "cell_type": "code",
   "execution_count": 62,
   "metadata": {},
   "outputs": [
    {
     "name": "stdout",
     "output_type": "stream",
     "text": [
      "\n",
      "MSE of the final model on the test set: 0.15490336096793608\n",
      "MAE of the final model on the test set: 0.27790292440520764\n",
      "MASE of the final model on the test set: 0.6557245936196452\n"
     ]
    }
   ],
   "source": [
    "# Evaluate the final model on the test set\n",
    "predictions_test = final_model4.predict(features_test)\n",
    "test_mse = mean_squared_error(target_test, predictions_test)\n",
    "test_mae = mean_absolute_error(target_test, predictions_test)\n",
    "test_mase = test_mae / mean_absolute_error(target_test, [target_test.mean()] * len(target_test))\n",
    "\n",
    "print()\n",
    "print(\"MSE of the final model on the test set: {}\".format(test_mse))\n",
    "print(\"MAE of the final model on the test set: {}\".format(test_mae))\n",
    "print(\"MASE of the final model on the test set: {}\".format(test_mase))"
   ]
  },
  {
   "cell_type": "markdown",
   "metadata": {
    "id": "Z0hH5LuBwWyV"
   },
   "source": [
    "### Conclusion\n",
    "\n",
    "In this example, the model is tested in a partial factorial experiment where max_depth and n_estimators are tuned at the same time. Here, the results are complex because of the criteria previously specified in 4.4.1, however it is conclusively a more poor model across the three metrics."
   ]
  },
  {
   "cell_type": "markdown",
   "metadata": {
    "id": "PWh4eeSSv2bU"
   },
   "source": [
    "## Linear Regression\n",
    "\n",
    "    Args:\n",
    "    class sklearn.linear_model.LinearRegression(*, fit_intercept=True, copy_X=True, n_jobs=None, positive=False)\n",
    "    \n",
    "    #https://scikit-learn.org/stable/modules/generated/sklearn.linear_model.LinearRegression.html#linearregression"
   ]
  },
  {
   "cell_type": "code",
   "execution_count": 63,
   "metadata": {
    "colab": {
     "base_uri": "https://localhost:8080/",
     "height": 166
    },
    "id": "M2t0il1qbVBE",
    "outputId": "0ec9e378-1c15-4c8b-92e9-99dfd8071caf"
   },
   "outputs": [
    {
     "name": "stdout",
     "output_type": "stream",
     "text": [
      "\n",
      "MSE of the best model on the validation set: 0.19725545080052576\n",
      "MAE of the best model on the validation set: 0.3922317413526623\n",
      "MASE of the best model on the validation set: 0.9151682913686056\n",
      "\n"
     ]
    },
    {
     "data": {
      "text/plain": [
       "LinearRegression()"
      ]
     },
     "execution_count": 63,
     "metadata": {},
     "output_type": "execute_result"
    }
   ],
   "source": [
    "# Linear Regression\n",
    "\n",
    "best_model = None\n",
    "best_score_dt_mse = float('inf')  # Initialize with infinity\n",
    "best_score_dt_mae = float('inf')\n",
    "best_score_dt_mase = float('inf')\n",
    "\n",
    "model = LinearRegression() # initialize model constructor\n",
    "model.fit(features_train, target_train) # train model on training set\n",
    "predictions_valid = model.predict(features_valid) # get model predictions on validation set\n",
    "\n",
    "mse = mean_squared_error(target_valid, predictions_valid)\n",
    "mae = mean_absolute_error(target_valid, predictions_valid)\n",
    "mase = mae / mean_absolute_error(target_valid, [target_valid.mean()] * len(target_valid))\n",
    "\n",
    "\n",
    "# Check if this model is better than the current best model\n",
    "if mse < best_score_dt_mse:\n",
    "    best_model = model\n",
    "    best_score_dt_mse = mse\n",
    "    best_score_dt_mae = mae\n",
    "    best_score_dt_mase = mase\n",
    "\n",
    "print()\n",
    "print(\"MSE of the best model on the validation set: {}\".format(best_score_dt_mse))\n",
    "print(\"MAE of the best model on the validation set: {}\".format(best_score_dt_mae))\n",
    "print(\"MASE of the best model on the validation set: {}\".format(best_score_dt_mase))\n",
    "print()\n",
    "\n",
    "final_model = best_model\n",
    "final_model.fit(features_train, target_train)"
   ]
  },
  {
   "cell_type": "code",
   "execution_count": 64,
   "metadata": {},
   "outputs": [
    {
     "name": "stdout",
     "output_type": "stream",
     "text": [
      "\n",
      "MSE of the final model on the test set: 0.19660322745059458\n",
      "MAE of the final model on the test set: 0.3886513725505545\n",
      "MASE of the final model on the test set: 0.9170405956356106\n"
     ]
    }
   ],
   "source": [
    "# Evaluate the final model on the test set\n",
    "predictions_test = final_model.predict(features_test)\n",
    "test_mse = mean_squared_error(target_test, predictions_test)\n",
    "test_mae = mean_absolute_error(target_test, predictions_test)\n",
    "test_mase = test_mae / mean_absolute_error(target_test, [target_test.mean()] * len(target_test))\n",
    "\n",
    "print()\n",
    "print(\"MSE of the final model on the test set: {}\".format(test_mse))\n",
    "print(\"MAE of the final model on the test set: {}\".format(test_mae))\n",
    "print(\"MASE of the final model on the test set: {}\".format(test_mase))"
   ]
  },
  {
   "cell_type": "markdown",
   "metadata": {
    "id": "rSmPTu2M5mYr"
   },
   "source": [
    "### Model Prioritization\n",
    "\n",
    "Conclusively, the results  were as follows:\n",
    "  1.   Classification (Accuracy, Precision, Recall, F-1)\n",
    "      *   Decision Tree: 0.790, 0.757, 0.440, 0.556\n",
    "      *   Random Forest: 0.786, 0.728, 0.456, 0.561\n",
    "      *   Logistic Regression: 0.760, 0.887, 0.228, 0.363\n",
    "  2.   Regression (MSE, MAE, and MASE)\n",
    "      *   Decision Tree: 0.161, 0.303, 0.722\n",
    "      *   Random Forest: 0.149, 0.278, 0.662\n",
    "      *   Linear: 0.192, 0.385, 0.917"
   ]
  },
  {
   "cell_type": "code",
   "execution_count": 45,
   "metadata": {
    "colab": {
     "base_uri": "https://localhost:8080/"
    },
    "id": "Lpe4SLKR43yS",
    "outputId": "537eccd3-43ea-42fe-d4e7-96a6511fefe1"
   },
   "outputs": [
    {
     "name": "stdout",
     "output_type": "stream",
     "text": [
      "Classification Results:\n",
      "                     Accuracy  Precision  Recall  F1-Score  Composite Score\n",
      "Decision Tree           0.790      0.757   0.440     0.556          0.63575\n",
      "Random Forest           0.786      0.728   0.456     0.561          0.63275\n",
      "Logistic Regression     0.760      0.887   0.228     0.363          0.55950\n",
      "\n",
      "Best Classification Model: Decision Tree\n",
      "\n",
      "Regression Results:\n",
      "                 MSE    MAE   MASE  Composite Score\n",
      "Decision Tree  0.161  0.303  0.722         3.632184\n",
      "Random Forest  0.149  0.278  0.662         3.939702\n",
      "Linear         0.192  0.385  0.917         2.965416\n",
      "\n",
      "Best Regression Model: Random Forest\n"
     ]
    }
   ],
   "source": [
    "# Classification Results\n",
    "classification_results = {\n",
    "    'Decision Tree': [0.790, 0.757, 0.440, 0.556],\n",
    "    'Random Forest': [0.786, 0.728, 0.456, 0.561],\n",
    "    'Logistic Regression': [0.760, 0.887, 0.228, 0.363]\n",
    "}\n",
    "\n",
    "# Create a DataFrame from the classification results\n",
    "classification_df = pd.DataFrame.from_dict(classification_results, orient='index', columns=['Accuracy', 'Precision', 'Recall', 'F1-Score'])\n",
    "\n",
    "# Calculate the composite score\n",
    "classification_df['Composite Score'] = (classification_df['Accuracy'] + classification_df['Precision'] + classification_df['Recall'] + classification_df['F1-Score']) / 4\n",
    "\n",
    "# Identify the best model based on the composite score\n",
    "best_classification_model = classification_df['Composite Score'].idxmax()\n",
    "\n",
    "print(f\"Classification Results:\\n{classification_df}\")\n",
    "print(f\"\\nBest Classification Model: {best_classification_model}\")\n",
    "\n",
    "# Regression Results\n",
    "regression_results = {\n",
    "    'Decision Tree': [0.161, 0.303, 0.722],\n",
    "    'Random Forest': [0.149, 0.278, 0.662],\n",
    "    'Linear': [0.192, 0.385, 0.917]\n",
    "}\n",
    "\n",
    "# Create a DataFrame from the regression results\n",
    "regression_df = pd.DataFrame.from_dict(regression_results, orient='index', columns=['MSE', 'MAE', 'MASE'])\n",
    "\n",
    "# Calculate the composite score\n",
    "regression_df['Composite Score'] = (1/regression_df['MSE'] + 1/regression_df['MAE'] + 1/regression_df['MASE']) / 3\n",
    "\n",
    "# Identify the best model based on the composite score\n",
    "best_regression_model = regression_df['Composite Score'].idxmax()\n",
    "\n",
    "print(f\"\\nRegression Results:\\n{regression_df}\")\n",
    "print(f\"\\nBest Regression Model: {best_regression_model}\")"
   ]
  },
  {
   "cell_type": "markdown",
   "metadata": {
    "id": "U_HTQo58wYcX"
   },
   "source": [
    "### Conclusion\n",
    "\n",
    "Lastly, the linear model indicates that it has signiificantly better MASE than the other two but comparable MSE and MAE. Due to this similarity and the poignancy of the last metric, I initially thought it would be the best model. However, I decided to implement a composite score which I later realized could be weighted based on the business need. So, I will move into the next section with the model for DecisionTreeClassifier and RandomForestRegressor based on the original data users_behavior."
   ]
  },
  {
   "cell_type": "markdown",
   "metadata": {},
   "source": [
    "<div class=\"alert alert-success\">\n",
    "<b>Reviewer's comment v1:</b>\n",
    "    \n",
    "Everything is correct here! Great that you've managed to check multiple models. \n",
    "\n",
    "Some possible minor improvements: \n",
    "\n",
    "- If you find yourself repeating similar blocks of code, consider writing a function. This will make your code more organized and easier to maintain.\n",
    "- Besides accuracy, consider evaluating models using additional metrics like F1-score, precision, recall, or the ROC-AUC score for a more holistic view of performance, especially if the class distribution is imbalanced.\n",
    "- Consider using GridSearchCV or RandomizedSearchCV from sklearn.model_selection for a more systematic hyperparameter search."
   ]
  },
  {
   "cell_type": "markdown",
   "metadata": {},
   "source": [
    "<div class=\"alert alert-info\">\n",
    "<b>Student's comment:</b>\n",
    "\n",
    "Yes. Thanks for the excellent recommendations. I am trying to wrap my head around how to write a function to iterate through models and GridSearchCV at the same time, but I think it loses too much resolution. Very helpful. Thanks."
   ]
  },
  {
   "cell_type": "markdown",
   "metadata": {
    "id": "cbxrcaiUZf2T"
   },
   "source": [
    "## Hyperparametric Tuning\n",
    "\n"
   ]
  },
  {
   "cell_type": "markdown",
   "metadata": {
    "id": "5fRRdHsW6RcP"
   },
   "source": [
    "### DecisionTreeClassifer"
   ]
  },
  {
   "cell_type": "code",
   "execution_count": 46,
   "metadata": {
    "id": "zmukblvn93nL"
   },
   "outputs": [],
   "source": [
    "from sklearn.model_selection import GridSearchCV\n",
    "from sklearn.metrics import make_scorer"
   ]
  },
  {
   "cell_type": "code",
   "execution_count": 66,
   "metadata": {
    "colab": {
     "base_uri": "https://localhost:8080/",
     "height": 202
    },
    "id": "PNrIQX2j6qEY",
    "outputId": "ff71f517-d829-42da-bbc3-947a4da72ec2"
   },
   "outputs": [
    {
     "name": "stdout",
     "output_type": "stream",
     "text": [
      "Best hyperparameters: {'criterion': 'entropy', 'max_depth': 4, 'min_samples_leaf': 10, 'min_samples_split': 2}\n",
      "Best score (composite): 0.6760320215398814\n",
      "Best accuracy: 0.8096413431128457\n",
      "Best precision: 0.7937162162162161\n",
      "Best recall: 0.5075184702303346\n",
      "Best F1-score: 0.6186667349167349\n",
      "Best composite score: 0.6760320215398814\n"
     ]
    },
    {
     "data": {
      "text/plain": [
       "DecisionTreeClassifier(criterion='entropy', max_depth=4, min_samples_leaf=10)"
      ]
     },
     "execution_count": 66,
     "metadata": {},
     "output_type": "execute_result"
    }
   ],
   "source": [
    "# Define the hyperparameter grid\n",
    "param_grid = {\n",
    "    'max_depth': range(1, 10),\n",
    "    'min_samples_split': [2, 5, 10],\n",
    "    'min_samples_leaf': [1, 5, 10],\n",
    "    'criterion': ['gini', 'entropy']\n",
    "}\n",
    "\n",
    "# Define the composite score\n",
    "def composite_score(y_true, y_pred):\n",
    "    accuracy = accuracy_score(y_true, y_pred)\n",
    "    precision = precision_score(y_true, y_pred)\n",
    "    recall = recall_score(y_true, y_pred)\n",
    "    f1 = f1_score(y_true, y_pred)\n",
    "    return 0.2 * accuracy + 0.3 * precision + 0.3 * recall + 0.2 * f1\n",
    "\n",
    "# Create a scorer for the composite score\n",
    "composite_scorer = make_scorer(composite_score)\n",
    "\n",
    "# Initialize the Decision Tree Classifier\n",
    "dtc = DecisionTreeClassifier(random_state=12345)\n",
    "\n",
    "# Perform grid search with cross-validation\n",
    "grid_search = GridSearchCV(dtc, param_grid, cv=5, scoring={'accuracy': 'accuracy', 'precision': 'precision', 'recall': 'recall', 'f1': 'f1', 'composite': composite_scorer}, refit='composite')\n",
    "grid_search.fit(features_train, target_train)\n",
    "\n",
    "# Get the best hyperparameters and the corresponding scores\n",
    "best_params = grid_search.best_params_\n",
    "best_score = grid_search.best_score_\n",
    "best_accuracy = grid_search.cv_results_['mean_test_accuracy'][grid_search.best_index_]\n",
    "best_precision = grid_search.cv_results_['mean_test_precision'][grid_search.best_index_]\n",
    "best_recall = grid_search.cv_results_['mean_test_recall'][grid_search.best_index_]\n",
    "best_f1 = grid_search.cv_results_['mean_test_f1'][grid_search.best_index_]\n",
    "best_composite = grid_search.cv_results_['mean_test_composite'][grid_search.best_index_]\n",
    "\n",
    "print(\"Best hyperparameters:\", best_params)\n",
    "print(\"Best score (composite):\", best_score)\n",
    "print(\"Best accuracy:\", best_accuracy)\n",
    "print(\"Best precision:\", best_precision)\n",
    "print(\"Best recall:\", best_recall)\n",
    "print(\"Best F1-score:\", best_f1)\n",
    "print(\"Best composite score:\", best_composite)\n",
    "\n",
    "# Train the final model with the best hyperparameters\n",
    "final_model = DecisionTreeClassifier(**best_params)\n",
    "final_model.fit(features_train, target_train)"
   ]
  },
  {
   "cell_type": "markdown",
   "metadata": {
    "id": "KQbOp9-36sJ8"
   },
   "source": [
    "#### Conclusion\n",
    "\n",
    "The best hyperparameters were defined as: {'criterion': 'entropy', 'max_depth': 7, 'min_samples_leaf': 1, 'min_samples_split': 10}. They significantly imporved the model accuracy and composite score as well as all of the other metrics."
   ]
  },
  {
   "cell_type": "markdown",
   "metadata": {
    "id": "SutZhvgN6k17"
   },
   "source": [
    "### RandomForestRegressor"
   ]
  },
  {
   "cell_type": "markdown",
   "metadata": {},
   "source": [
    "#### Conclusion\n",
    "\n",
    "This did not work for some reason it was unable to accomodate the other metrics. I tried multiple different approaches and all of them resulted in a continuous error that I had to shut off after about a minute or two. The results were inconclusive."
   ]
  },
  {
   "cell_type": "markdown",
   "metadata": {},
   "source": [
    "### DummyClassifier"
   ]
  },
  {
   "cell_type": "markdown",
   "metadata": {},
   "source": [
    "<div class=\"alert alert-warning\">\n",
    "<b>Reviewer's comment v1:</b>\n",
    "    \n",
    "**Additional task: sanity check the model.** \n",
    " \n",
    "The use of `DummyClassifier` is a good practice for baseline performance and finalizing sanity check. You could read about it [here](https://scikit-learn.org/stable/modules/generated/sklearn.dummy.DummyClassifier.html). In our case, we have a very skewed distribution of users across the two plans. As you can see, only 30% are enrolled in the Ultra plan, therefore it could be usefull to use a particular strategy (e.g., `most_frequent`) and comparing it against the chosen model’s performance.\n",
    "    \n",
    "```\n",
    "from sklearn.dummy import DummyClassifier\n",
    "# Initialize the DummyClassifier to predict the most frequent class\n",
    "dummy_clf = DummyClassifier(strategy=\"most_frequent\", random_state=0)\n",
    "# Fit the dummy classifier on the training data\n",
    "...\n",
    "```"
   ]
  },
  {
   "cell_type": "code",
   "execution_count": 69,
   "metadata": {},
   "outputs": [
    {
     "name": "stdout",
     "output_type": "stream",
     "text": [
      "Best parameters: {'strategy': 'stratified'}\n",
      "Best score (accuracy): 0.5700129533678757\n",
      "Accuracy: 0.568\n",
      "Precision: 0.281\n",
      "F1 score: 0.265\n",
      "Recall: 0.250\n",
      "ROC-AUC: 0.481\n"
     ]
    },
    {
     "name": "stderr",
     "output_type": "stream",
     "text": [
      "/opt/conda/envs/python3/lib/python3.9/site-packages/sklearn/model_selection/_validation.py:610: FitFailedWarning: Estimator fit failed. The score on this train-test partition for these parameters will be set to nan. Details: \n",
      "Traceback (most recent call last):\n",
      "  File \"/opt/conda/envs/python3/lib/python3.9/site-packages/sklearn/model_selection/_validation.py\", line 593, in _fit_and_score\n",
      "    estimator.fit(X_train, y_train, **fit_params)\n",
      "  File \"/opt/conda/envs/python3/lib/python3.9/site-packages/sklearn/dummy.py\", line 126, in fit\n",
      "    raise ValueError(\"Unknown strategy type: %s, expected one of %s.\"\n",
      "ValueError: Unknown strategy type: ost_frequent, expected one of ('most_frequent', 'stratified', 'uniform', 'constant', 'prior').\n",
      "\n",
      "  warnings.warn(\"Estimator fit failed. The score on this train-test\"\n",
      "/opt/conda/envs/python3/lib/python3.9/site-packages/sklearn/model_selection/_validation.py:610: FitFailedWarning: Estimator fit failed. The score on this train-test partition for these parameters will be set to nan. Details: \n",
      "Traceback (most recent call last):\n",
      "  File \"/opt/conda/envs/python3/lib/python3.9/site-packages/sklearn/model_selection/_validation.py\", line 593, in _fit_and_score\n",
      "    estimator.fit(X_train, y_train, **fit_params)\n",
      "  File \"/opt/conda/envs/python3/lib/python3.9/site-packages/sklearn/dummy.py\", line 126, in fit\n",
      "    raise ValueError(\"Unknown strategy type: %s, expected one of %s.\"\n",
      "ValueError: Unknown strategy type: ost_frequent, expected one of ('most_frequent', 'stratified', 'uniform', 'constant', 'prior').\n",
      "\n",
      "  warnings.warn(\"Estimator fit failed. The score on this train-test\"\n",
      "/opt/conda/envs/python3/lib/python3.9/site-packages/sklearn/model_selection/_validation.py:610: FitFailedWarning: Estimator fit failed. The score on this train-test partition for these parameters will be set to nan. Details: \n",
      "Traceback (most recent call last):\n",
      "  File \"/opt/conda/envs/python3/lib/python3.9/site-packages/sklearn/model_selection/_validation.py\", line 593, in _fit_and_score\n",
      "    estimator.fit(X_train, y_train, **fit_params)\n",
      "  File \"/opt/conda/envs/python3/lib/python3.9/site-packages/sklearn/dummy.py\", line 126, in fit\n",
      "    raise ValueError(\"Unknown strategy type: %s, expected one of %s.\"\n",
      "ValueError: Unknown strategy type: ost_frequent, expected one of ('most_frequent', 'stratified', 'uniform', 'constant', 'prior').\n",
      "\n",
      "  warnings.warn(\"Estimator fit failed. The score on this train-test\"\n",
      "/opt/conda/envs/python3/lib/python3.9/site-packages/sklearn/model_selection/_validation.py:610: FitFailedWarning: Estimator fit failed. The score on this train-test partition for these parameters will be set to nan. Details: \n",
      "Traceback (most recent call last):\n",
      "  File \"/opt/conda/envs/python3/lib/python3.9/site-packages/sklearn/model_selection/_validation.py\", line 593, in _fit_and_score\n",
      "    estimator.fit(X_train, y_train, **fit_params)\n",
      "  File \"/opt/conda/envs/python3/lib/python3.9/site-packages/sklearn/dummy.py\", line 126, in fit\n",
      "    raise ValueError(\"Unknown strategy type: %s, expected one of %s.\"\n",
      "ValueError: Unknown strategy type: ost_frequent, expected one of ('most_frequent', 'stratified', 'uniform', 'constant', 'prior').\n",
      "\n",
      "  warnings.warn(\"Estimator fit failed. The score on this train-test\"\n",
      "/opt/conda/envs/python3/lib/python3.9/site-packages/sklearn/model_selection/_validation.py:610: FitFailedWarning: Estimator fit failed. The score on this train-test partition for these parameters will be set to nan. Details: \n",
      "Traceback (most recent call last):\n",
      "  File \"/opt/conda/envs/python3/lib/python3.9/site-packages/sklearn/model_selection/_validation.py\", line 593, in _fit_and_score\n",
      "    estimator.fit(X_train, y_train, **fit_params)\n",
      "  File \"/opt/conda/envs/python3/lib/python3.9/site-packages/sklearn/dummy.py\", line 126, in fit\n",
      "    raise ValueError(\"Unknown strategy type: %s, expected one of %s.\"\n",
      "ValueError: Unknown strategy type: ost_frequent, expected one of ('most_frequent', 'stratified', 'uniform', 'constant', 'prior').\n",
      "\n",
      "  warnings.warn(\"Estimator fit failed. The score on this train-test\"\n",
      "/opt/conda/envs/python3/lib/python3.9/site-packages/sklearn/model_selection/_validation.py:610: FitFailedWarning: Estimator fit failed. The score on this train-test partition for these parameters will be set to nan. Details: \n",
      "Traceback (most recent call last):\n",
      "  File \"/opt/conda/envs/python3/lib/python3.9/site-packages/sklearn/model_selection/_validation.py\", line 593, in _fit_and_score\n",
      "    estimator.fit(X_train, y_train, **fit_params)\n",
      "  File \"/opt/conda/envs/python3/lib/python3.9/site-packages/sklearn/dummy.py\", line 126, in fit\n",
      "    raise ValueError(\"Unknown strategy type: %s, expected one of %s.\"\n",
      "ValueError: Unknown strategy type: ost_frequent, expected one of ('most_frequent', 'stratified', 'uniform', 'constant', 'prior').\n",
      "\n",
      "  warnings.warn(\"Estimator fit failed. The score on this train-test\"\n",
      "/opt/conda/envs/python3/lib/python3.9/site-packages/sklearn/model_selection/_validation.py:610: FitFailedWarning: Estimator fit failed. The score on this train-test partition for these parameters will be set to nan. Details: \n",
      "Traceback (most recent call last):\n",
      "  File \"/opt/conda/envs/python3/lib/python3.9/site-packages/sklearn/model_selection/_validation.py\", line 593, in _fit_and_score\n",
      "    estimator.fit(X_train, y_train, **fit_params)\n",
      "  File \"/opt/conda/envs/python3/lib/python3.9/site-packages/sklearn/dummy.py\", line 126, in fit\n",
      "    raise ValueError(\"Unknown strategy type: %s, expected one of %s.\"\n",
      "ValueError: Unknown strategy type: ost_frequent, expected one of ('most_frequent', 'stratified', 'uniform', 'constant', 'prior').\n",
      "\n",
      "  warnings.warn(\"Estimator fit failed. The score on this train-test\"\n",
      "/opt/conda/envs/python3/lib/python3.9/site-packages/sklearn/model_selection/_validation.py:610: FitFailedWarning: Estimator fit failed. The score on this train-test partition for these parameters will be set to nan. Details: \n",
      "Traceback (most recent call last):\n",
      "  File \"/opt/conda/envs/python3/lib/python3.9/site-packages/sklearn/model_selection/_validation.py\", line 593, in _fit_and_score\n",
      "    estimator.fit(X_train, y_train, **fit_params)\n",
      "  File \"/opt/conda/envs/python3/lib/python3.9/site-packages/sklearn/dummy.py\", line 126, in fit\n",
      "    raise ValueError(\"Unknown strategy type: %s, expected one of %s.\"\n",
      "ValueError: Unknown strategy type: ost_frequent, expected one of ('most_frequent', 'stratified', 'uniform', 'constant', 'prior').\n",
      "\n",
      "  warnings.warn(\"Estimator fit failed. The score on this train-test\"\n",
      "/opt/conda/envs/python3/lib/python3.9/site-packages/sklearn/model_selection/_validation.py:610: FitFailedWarning: Estimator fit failed. The score on this train-test partition for these parameters will be set to nan. Details: \n",
      "Traceback (most recent call last):\n",
      "  File \"/opt/conda/envs/python3/lib/python3.9/site-packages/sklearn/model_selection/_validation.py\", line 593, in _fit_and_score\n",
      "    estimator.fit(X_train, y_train, **fit_params)\n",
      "  File \"/opt/conda/envs/python3/lib/python3.9/site-packages/sklearn/dummy.py\", line 126, in fit\n",
      "    raise ValueError(\"Unknown strategy type: %s, expected one of %s.\"\n",
      "ValueError: Unknown strategy type: ost_frequent, expected one of ('most_frequent', 'stratified', 'uniform', 'constant', 'prior').\n",
      "\n",
      "  warnings.warn(\"Estimator fit failed. The score on this train-test\"\n",
      "/opt/conda/envs/python3/lib/python3.9/site-packages/sklearn/model_selection/_validation.py:610: FitFailedWarning: Estimator fit failed. The score on this train-test partition for these parameters will be set to nan. Details: \n",
      "Traceback (most recent call last):\n",
      "  File \"/opt/conda/envs/python3/lib/python3.9/site-packages/sklearn/model_selection/_validation.py\", line 593, in _fit_and_score\n",
      "    estimator.fit(X_train, y_train, **fit_params)\n",
      "  File \"/opt/conda/envs/python3/lib/python3.9/site-packages/sklearn/dummy.py\", line 126, in fit\n",
      "    raise ValueError(\"Unknown strategy type: %s, expected one of %s.\"\n",
      "ValueError: Unknown strategy type: ost_frequent, expected one of ('most_frequent', 'stratified', 'uniform', 'constant', 'prior').\n",
      "\n",
      "  warnings.warn(\"Estimator fit failed. The score on this train-test\"\n",
      "/opt/conda/envs/python3/lib/python3.9/site-packages/sklearn/model_selection/_search.py:918: UserWarning: One or more of the test scores are non-finite: [0.57001295        nan 0.69450291 0.49220369]\n",
      "  warnings.warn(\n"
     ]
    }
   ],
   "source": [
    "from sklearn.metrics import accuracy_score, precision_score, f1_score, recall_score, roc_auc_score\n",
    "\n",
    "def find_best_dummy_classifier(X, y):\n",
    "    strategies = ['stratified', 'ost_frequent', 'prior', 'uniform']\n",
    "    param_grid = {'strategy': strategies}\n",
    "    clf = GridSearchCV(DummyClassifier(), param_grid, cv=10, scoring='accuracy')\n",
    "    clf.fit(X, y)\n",
    "    return clf.best_params_, clf.best_score_\n",
    "\n",
    "best_params, best_score = find_best_dummy_classifier(features_train, target_train)\n",
    "print(f\"Best parameters: {best_params}\")\n",
    "print(f\"Best score (accuracy): {best_score}\")\n",
    "\n",
    "# Evaluate the best dummy classifier on the validation set\n",
    "dummy_clf = DummyClassifier(**best_params)\n",
    "dummy_clf.fit(features_train, target_train)\n",
    "y_pred = dummy_clf.predict(features_valid)\n",
    "\n",
    "accuracy = accuracy_score(target_valid, y_pred)\n",
    "precision = precision_score(target_valid, y_pred)\n",
    "f1 = f1_score(target_valid, y_pred)\n",
    "recall = recall_score(target_valid, y_pred)\n",
    "roc_auc = roc_auc_score(target_valid, y_pred)\n",
    "\n",
    "print(f\"Accuracy: {accuracy:.3f}\")\n",
    "print(f\"Precision: {precision:.3f}\")\n",
    "print(f\"F1 score: {f1:.3f}\")\n",
    "print(f\"Recall: {recall:.3f}\")\n",
    "print(f\"ROC-AUC: {roc_auc:.3f}\")"
   ]
  },
  {
   "cell_type": "code",
   "execution_count": 90,
   "metadata": {},
   "outputs": [
    {
     "data": {
      "image/png": "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",
      "text/plain": [
       "<Figure size 1000x600 with 1 Axes>"
      ]
     },
     "metadata": {},
     "output_type": "display_data"
    }
   ],
   "source": [
    "metrics = [\"Accuracy\", \"Precision\", \"Recall\", \"F1-Score\"]\n",
    "dummy_scores = [0.568, 0.281, 0.265, 0.250]\n",
    "final_model_scores = [0.790, 0.757, 0.440, 0.556]\n",
    "optimized_model_scores = [0.810, 0.794, 0.508, 0.619]\n",
    "\n",
    "df = pd.DataFrame({\n",
    "    \"Metric\": metrics,\n",
    "    \"Dummy Classifier\": dummy_scores,\n",
    "    \"Decision Tree Classifier\": final_model_scores,\n",
    "    \"Optimized Decision Tree Classifier\": optimized_model_scores\n",
    "})\n",
    "\n",
    "plt.figure(figsize=(10, 6))\n",
    "sns.set_style(\"whitegrid\")\n",
    "sns.barplot(x=\"Metric\", y=\"value\", hue=\"variable\", data=pd.melt(df, id_vars=\"Metric\", var_name=\"variable\", value_name=\"value\"))\n",
    "plt.title(\"Model Performance Comparison\")\n",
    "plt.ylim(0,1)\n",
    "plt.xlabel(\"Metrics\")\n",
    "plt.ylabel(\"Score\")\n",
    "\n",
    "plt.show()"
   ]
  },
  {
   "cell_type": "markdown",
   "metadata": {},
   "source": [
    "#### Conclusion\n",
    "\n",
    "The Optimized Decision Tree Classifier significantly outperforms the other two models on all metrics. The Dummy Classifier performs poorly on all metrics, as expected. The Decision Tree Classifier performs relatively well on accuracy and F1-score but struggles with precision and recall. Adding data labels to this plot was also not resolved."
   ]
  },
  {
   "cell_type": "markdown",
   "metadata": {
    "id": "xPqUzbw7clWQ"
   },
   "source": [
    "## General Conclusion"
   ]
  },
  {
   "cell_type": "markdown",
   "metadata": {
    "id": "rpLJDfu_con5"
   },
   "source": [
    "I found this exercise extremely fulfilling. I have been wanting to do this for some time and feel that I did a thorough job. However, I am still curious and would like to work through the other models in a similar fashion. The results were that DecisionTreeClassifier was the best of the models tested though it underfit in my opinion. This also highlights the challenge of closing the gap in precision and accuracy from 80% to 100%.\n",
    "\n",
    "This model suggests the presence of linear or piecewise linear relationships in the data. The next improvement is incorporating ensemble methods like gradient boosting to improve the accuracy. I identified some additional ways to improve the research, however, I would also like to see the effect of more features or multiple datasets feeding into the same model if posssible.\n",
    "\n",
    "Update: I found the additional split of the data into a test dataset resulted in a boost to the score. I also found GridSearchCV to be the most useful however I was reading that this will have computational challenges with larger datasets. In my opinion, finding was to improve recall are the most important then boosting the model over 90%.\n",
    "\n",
    "**Try more complex models, such as:**\n",
    "  *   Support Vector Machines (SVMs)\n",
    "  *   Gradient Boosting Machines (GBMs)\n",
    "  *   Neural Networks (if you have a large dataset and computational resources)\n",
    "\n",
    "**Tune hyperparameters for each model using techniques like:**\n",
    "  *   Random Search\n",
    "  *   Bayesian Optimization\n",
    "\n",
    "Experiment with different feature engineering techniques, such as:\n",
    "  *   Feature selection\n",
    "  *   Feature extraction\n",
    "  *   Dimensionality reduction\n",
    "\n",
    "\n",
    "Thanks for reading! 🍻\n",
    "\n",
    "##### Additional resources: https://www.saedsayad.com/decision_tree.htm, https://towardsdatascience.com/decision-tree-classifier-explained-in-real-life-picking-a-vacation-destination-6226b2b60575"
   ]
  },
  {
   "cell_type": "markdown",
   "metadata": {},
   "source": [
    "<div class=\"alert alert-success\">\n",
    "<b>Reviewer's comment v1:</b>\n",
    "    \n",
    "\n",
    "Great job on your overall conclusions and recommendations!  Your recommendations are well-thought and could be very valuable to the business."
   ]
  },
  {
   "cell_type": "markdown",
   "metadata": {},
   "source": [
    "<div class=\"alert alert-info\">\n",
    "<b>Student's comment v1:</b>\n",
    "    \n",
    "Muchas gracias, instructor!"
   ]
  },
  {
   "cell_type": "code",
   "execution_count": null,
   "metadata": {},
   "outputs": [],
   "source": []
  }
 ],
 "metadata": {
  "ExecuteTimeLog": [
   {
    "duration": 352,
    "start_time": "2024-07-12T08:52:40.046Z"
   },
   {
    "duration": 6,
    "start_time": "2024-07-12T08:52:40.401Z"
   },
   {
    "duration": 5154,
    "start_time": "2024-07-12T08:52:40.410Z"
   },
   {
    "duration": 5,
    "start_time": "2024-07-12T08:52:45.570Z"
   },
   {
    "duration": 760,
    "start_time": "2024-07-12T08:52:45.579Z"
   },
   {
    "duration": 0,
    "start_time": "2024-07-12T08:52:46.347Z"
   },
   {
    "duration": 0,
    "start_time": "2024-07-12T08:52:46.409Z"
   },
   {
    "duration": 0,
    "start_time": "2024-07-12T08:52:46.413Z"
   },
   {
    "duration": 0,
    "start_time": "2024-07-12T08:52:46.416Z"
   },
   {
    "duration": 0,
    "start_time": "2024-07-12T08:52:46.418Z"
   },
   {
    "duration": 0,
    "start_time": "2024-07-12T08:52:46.421Z"
   },
   {
    "duration": 0,
    "start_time": "2024-07-12T08:52:46.423Z"
   },
   {
    "duration": 0,
    "start_time": "2024-07-12T08:52:46.425Z"
   },
   {
    "duration": 0,
    "start_time": "2024-07-12T08:52:46.428Z"
   },
   {
    "duration": 0,
    "start_time": "2024-07-12T08:52:46.431Z"
   },
   {
    "duration": 0,
    "start_time": "2024-07-12T08:52:46.433Z"
   },
   {
    "duration": 0,
    "start_time": "2024-07-12T08:52:46.435Z"
   },
   {
    "duration": 0,
    "start_time": "2024-07-12T08:52:46.504Z"
   },
   {
    "duration": 0,
    "start_time": "2024-07-12T08:52:46.506Z"
   },
   {
    "duration": 0,
    "start_time": "2024-07-12T08:52:46.509Z"
   },
   {
    "duration": 0,
    "start_time": "2024-07-12T08:52:46.512Z"
   },
   {
    "duration": 0,
    "start_time": "2024-07-12T08:52:46.515Z"
   },
   {
    "duration": 0,
    "start_time": "2024-07-12T08:52:46.517Z"
   },
   {
    "duration": 7,
    "start_time": "2024-07-12T08:54:53.723Z"
   },
   {
    "duration": 22,
    "start_time": "2024-07-12T08:54:58.382Z"
   },
   {
    "duration": 12,
    "start_time": "2024-07-12T08:55:00.473Z"
   },
   {
    "duration": 17,
    "start_time": "2024-07-12T08:55:00.682Z"
   },
   {
    "duration": 354,
    "start_time": "2024-07-12T08:55:04.720Z"
   },
   {
    "duration": 13,
    "start_time": "2024-07-12T08:55:05.079Z"
   },
   {
    "duration": 1587,
    "start_time": "2024-07-12T08:55:05.096Z"
   },
   {
    "duration": 23,
    "start_time": "2024-07-12T08:55:06.688Z"
   },
   {
    "duration": 21,
    "start_time": "2024-07-12T08:55:06.715Z"
   },
   {
    "duration": 28,
    "start_time": "2024-07-12T08:55:06.740Z"
   },
   {
    "duration": 40,
    "start_time": "2024-07-12T08:55:06.806Z"
   },
   {
    "duration": 619,
    "start_time": "2024-07-12T08:55:06.850Z"
   },
   {
    "duration": 586,
    "start_time": "2024-07-12T08:55:07.472Z"
   },
   {
    "duration": 498,
    "start_time": "2024-07-12T08:55:08.065Z"
   },
   {
    "duration": 436,
    "start_time": "2024-07-12T08:55:08.566Z"
   },
   {
    "duration": 94,
    "start_time": "2024-07-12T08:55:09.006Z"
   },
   {
    "duration": 7,
    "start_time": "2024-07-12T08:55:09.104Z"
   },
   {
    "duration": 7,
    "start_time": "2024-07-12T08:55:09.116Z"
   },
   {
    "duration": 214,
    "start_time": "2024-07-12T08:55:09.127Z"
   },
   {
    "duration": 497,
    "start_time": "2024-07-12T08:55:09.344Z"
   },
   {
    "duration": 1481,
    "start_time": "2024-07-12T08:55:09.845Z"
   },
   {
    "duration": 260,
    "start_time": "2024-07-12T08:55:11.328Z"
   },
   {
    "duration": 7898,
    "start_time": "2024-07-12T08:55:11.603Z"
   },
   {
    "duration": 25,
    "start_time": "2024-07-12T08:55:19.505Z"
   },
   {
    "duration": 26,
    "start_time": "2024-07-12T08:55:19.533Z"
   },
   {
    "duration": 38,
    "start_time": "2024-07-12T08:55:19.563Z"
   },
   {
    "duration": 16719,
    "start_time": "2024-07-12T08:55:19.605Z"
   },
   {
    "duration": 314,
    "start_time": "2024-07-12T21:50:36.969Z"
   },
   {
    "duration": 351,
    "start_time": "2024-07-12T21:51:00.576Z"
   },
   {
    "duration": 6,
    "start_time": "2024-07-12T21:51:00.931Z"
   },
   {
    "duration": 5230,
    "start_time": "2024-07-12T21:51:00.940Z"
   },
   {
    "duration": 17,
    "start_time": "2024-07-12T21:51:06.172Z"
   },
   {
    "duration": 15,
    "start_time": "2024-07-12T21:51:06.194Z"
   },
   {
    "duration": 26,
    "start_time": "2024-07-12T21:51:06.232Z"
   },
   {
    "duration": 39,
    "start_time": "2024-07-12T21:51:06.261Z"
   },
   {
    "duration": 542,
    "start_time": "2024-07-12T21:51:06.332Z"
   },
   {
    "duration": 553,
    "start_time": "2024-07-12T21:51:06.878Z"
   },
   {
    "duration": 500,
    "start_time": "2024-07-12T21:51:07.435Z"
   },
   {
    "duration": 396,
    "start_time": "2024-07-12T21:51:07.939Z"
   },
   {
    "duration": 103,
    "start_time": "2024-07-12T21:51:08.338Z"
   },
   {
    "duration": 7,
    "start_time": "2024-07-12T21:51:08.445Z"
   },
   {
    "duration": 8,
    "start_time": "2024-07-12T21:51:08.459Z"
   },
   {
    "duration": 195,
    "start_time": "2024-07-12T21:51:08.471Z"
   },
   {
    "duration": 449,
    "start_time": "2024-07-12T21:51:08.669Z"
   },
   {
    "duration": 1623,
    "start_time": "2024-07-12T21:51:09.121Z"
   },
   {
    "duration": 250,
    "start_time": "2024-07-12T21:51:10.749Z"
   },
   {
    "duration": 7476,
    "start_time": "2024-07-12T21:51:11.003Z"
   },
   {
    "duration": 25,
    "start_time": "2024-07-12T21:51:18.483Z"
   },
   {
    "duration": 42,
    "start_time": "2024-07-12T21:51:18.510Z"
   },
   {
    "duration": 4,
    "start_time": "2024-07-12T21:51:18.556Z"
   },
   {
    "duration": 16369,
    "start_time": "2024-07-12T21:51:18.563Z"
   },
   {
    "duration": 0,
    "start_time": "2024-07-12T21:51:36.202Z"
   },
   {
    "duration": 5,
    "start_time": "2024-07-12T21:52:05.429Z"
   },
   {
    "duration": 12,
    "start_time": "2024-07-12T21:52:07.131Z"
   },
   {
    "duration": 14,
    "start_time": "2024-07-12T21:52:07.147Z"
   },
   {
    "duration": 22,
    "start_time": "2024-07-12T21:52:08.495Z"
   },
   {
    "duration": 37,
    "start_time": "2024-07-12T21:52:11.136Z"
   },
   {
    "duration": 31,
    "start_time": "2024-07-12T21:52:17.932Z"
   },
   {
    "duration": 516,
    "start_time": "2024-07-12T21:52:18.592Z"
   },
   {
    "duration": 463,
    "start_time": "2024-07-12T21:52:35.138Z"
   },
   {
    "duration": 552,
    "start_time": "2024-07-12T21:52:37.502Z"
   },
   {
    "duration": 514,
    "start_time": "2024-07-12T21:52:42.271Z"
   },
   {
    "duration": 379,
    "start_time": "2024-07-12T21:52:44.602Z"
   },
   {
    "duration": 5,
    "start_time": "2024-07-12T21:52:51.454Z"
   },
   {
    "duration": 7,
    "start_time": "2024-07-12T21:52:51.956Z"
   },
   {
    "duration": 7,
    "start_time": "2024-07-12T21:52:53.008Z"
   },
   {
    "duration": 152,
    "start_time": "2024-07-12T21:53:23.034Z"
   },
   {
    "duration": 430,
    "start_time": "2024-07-12T21:53:27.084Z"
   },
   {
    "duration": 1520,
    "start_time": "2024-07-12T21:53:33.922Z"
   },
   {
    "duration": 107,
    "start_time": "2024-07-12T21:53:44.956Z"
   },
   {
    "duration": 7485,
    "start_time": "2024-07-12T21:53:49.272Z"
   },
   {
    "duration": 23,
    "start_time": "2024-07-12T21:53:58.358Z"
   },
   {
    "duration": 26,
    "start_time": "2024-07-12T21:54:01.238Z"
   },
   {
    "duration": 3,
    "start_time": "2024-07-12T21:54:07.361Z"
   },
   {
    "duration": 14698,
    "start_time": "2024-07-12T21:54:22.764Z"
   },
   {
    "duration": 134,
    "start_time": "2024-07-12T21:54:37.467Z"
   },
   {
    "duration": 1394,
    "start_time": "2024-07-12T21:55:09.015Z"
   },
   {
    "duration": 6,
    "start_time": "2024-07-12T21:57:40.024Z"
   },
   {
    "duration": 10,
    "start_time": "2024-07-12T21:57:40.691Z"
   },
   {
    "duration": 8,
    "start_time": "2024-07-12T21:57:41.578Z"
   },
   {
    "duration": 134,
    "start_time": "2024-07-12T21:58:57.312Z"
   },
   {
    "duration": 14,
    "start_time": "2024-07-12T21:59:02.776Z"
   },
   {
    "duration": 403,
    "start_time": "2024-07-12T22:01:00.600Z"
   },
   {
    "duration": 16,
    "start_time": "2024-07-12T22:01:04.204Z"
   },
   {
    "duration": 326,
    "start_time": "2024-07-12T22:02:21.272Z"
   },
   {
    "duration": 161,
    "start_time": "2024-07-12T22:03:56.274Z"
   },
   {
    "duration": 16,
    "start_time": "2024-07-12T22:04:03.795Z"
   },
   {
    "duration": 8139,
    "start_time": "2024-07-12T22:04:49.541Z"
   },
   {
    "duration": 21,
    "start_time": "2024-07-12T22:05:06.294Z"
   },
   {
    "duration": 23,
    "start_time": "2024-07-12T22:05:53.198Z"
   },
   {
    "duration": 13,
    "start_time": "2024-07-12T22:05:55.716Z"
   },
   {
    "duration": 13685,
    "start_time": "2024-07-12T22:16:06.080Z"
   },
   {
    "duration": 42,
    "start_time": "2024-07-12T22:48:44.086Z"
   },
   {
    "duration": 74,
    "start_time": "2024-07-12T22:49:38.298Z"
   },
   {
    "duration": 199,
    "start_time": "2024-07-12T22:50:31.319Z"
   },
   {
    "duration": 28,
    "start_time": "2024-07-12T22:53:27.160Z"
   },
   {
    "duration": 243,
    "start_time": "2024-07-12T22:54:11.151Z"
   },
   {
    "duration": 221,
    "start_time": "2024-07-12T23:00:29.243Z"
   },
   {
    "duration": 349,
    "start_time": "2024-07-12T23:01:05.408Z"
   },
   {
    "duration": 302,
    "start_time": "2024-07-12T23:03:17.586Z"
   },
   {
    "duration": 283,
    "start_time": "2024-07-12T23:04:25.248Z"
   },
   {
    "duration": 339,
    "start_time": "2024-07-12T23:08:15.230Z"
   },
   {
    "duration": 322,
    "start_time": "2024-07-12T23:08:48.800Z"
   },
   {
    "duration": 459,
    "start_time": "2024-07-12T23:09:03.036Z"
   },
   {
    "duration": 353,
    "start_time": "2024-07-12T23:10:08.092Z"
   },
   {
    "duration": 371,
    "start_time": "2024-07-12T23:10:18.279Z"
   },
   {
    "duration": 393,
    "start_time": "2024-07-12T23:10:45.842Z"
   },
   {
    "duration": 668,
    "start_time": "2024-07-12T23:11:19.803Z"
   },
   {
    "duration": 467,
    "start_time": "2024-07-12T23:11:41.690Z"
   },
   {
    "duration": 430,
    "start_time": "2024-07-12T23:12:20.333Z"
   },
   {
    "duration": 372,
    "start_time": "2024-07-12T23:14:23.738Z"
   },
   {
    "duration": 573,
    "start_time": "2024-07-12T23:15:31.623Z"
   },
   {
    "duration": 363,
    "start_time": "2024-07-12T23:17:07.071Z"
   },
   {
    "duration": 359,
    "start_time": "2024-07-12T23:17:17.418Z"
   },
   {
    "duration": 367,
    "start_time": "2024-07-12T23:17:49.662Z"
   },
   {
    "duration": 326,
    "start_time": "2024-07-12T23:18:01.180Z"
   }
  ],
  "colab": {
   "authorship_tag": "ABX9TyP4PofNRx0gChn5CqPkO0gJ",
   "include_colab_link": true,
   "provenance": []
  },
  "kernelspec": {
   "display_name": "Python 3 (ipykernel)",
   "language": "python",
   "name": "python3"
  },
  "language_info": {
   "codemirror_mode": {
    "name": "ipython",
    "version": 3
   },
   "file_extension": ".py",
   "mimetype": "text/x-python",
   "name": "python",
   "nbconvert_exporter": "python",
   "pygments_lexer": "ipython3",
   "version": "3.9.19"
  },
  "toc": {
   "base_numbering": 1,
   "nav_menu": {},
   "number_sections": true,
   "sideBar": true,
   "skip_h1_title": true,
   "title_cell": "Table of Contents",
   "title_sidebar": "Contents",
   "toc_cell": false,
   "toc_position": {},
   "toc_section_display": true,
   "toc_window_display": false
  }
 },
 "nbformat": 4,
 "nbformat_minor": 1
}
